{
 "cells": [
  {
   "cell_type": "code",
   "execution_count": 1,
   "metadata": {},
   "outputs": [],
   "source": [
    "import numpy as np\n",
    "import pandas as pd\n",
    "\n",
    "import torch\n",
    "import torch.nn as nn\n",
    "from torch.utils.data import DataLoader, TensorDataset\n",
    "from tqdm.auto import tqdm\n",
    "from torch.optim import Adam\n",
    "from IPython.display import display\n",
    "from sklearn.model_selection import KFold, train_test_split\n",
    "from sklearn.metrics import roc_auc_score"
   ]
  },
  {
   "cell_type": "code",
   "execution_count": 5,
   "metadata": {},
   "outputs": [],
   "source": [
    "songs = pd.read_csv('kkbox/songs.csv')\n",
    "songs_extra = pd.read_csv('kkbox/song_extra_info.csv')\n",
    "songs = songs.merge(songs_extra, on='song_id', how='left')\n",
    "songs = songs[['artist_name', 'name']]\n",
    "songs = songs.loc[~songs['artist_name'].isna()]\n",
    "songs = songs.loc[~songs['name'].isna()]\n",
    "\n",
    "songs['artist_count'] = songs.groupby(['name'])['artist_name'].transform('count')\n",
    "songs = songs.loc[songs['artist_count'] > 1]\n",
    "songs = songs.reset_index()\n",
    "songs.drop(columns=['artist_count', 'index'], inplace=True)\n",
    "songs.drop_duplicates(inplace=True)"
   ]
  },
  {
   "cell_type": "code",
   "execution_count": 6,
   "metadata": {},
   "outputs": [
    {
     "data": {
      "text/html": [
       "<div>\n",
       "<style scoped>\n",
       "    .dataframe tbody tr th:only-of-type {\n",
       "        vertical-align: middle;\n",
       "    }\n",
       "\n",
       "    .dataframe tbody tr th {\n",
       "        vertical-align: top;\n",
       "    }\n",
       "\n",
       "    .dataframe thead th {\n",
       "        text-align: right;\n",
       "    }\n",
       "</style>\n",
       "<table border=\"1\" class=\"dataframe\">\n",
       "  <thead>\n",
       "    <tr style=\"text-align: right;\">\n",
       "      <th></th>\n",
       "      <th>artist_name</th>\n",
       "      <th>name</th>\n",
       "    </tr>\n",
       "  </thead>\n",
       "  <tbody>\n",
       "    <tr>\n",
       "      <th>0</th>\n",
       "      <td>張信哲 (Jeff Chang)</td>\n",
       "      <td>焚情</td>\n",
       "    </tr>\n",
       "    <tr>\n",
       "      <th>1</th>\n",
       "      <td>S.H.E</td>\n",
       "      <td>愛我的資格</td>\n",
       "    </tr>\n",
       "    <tr>\n",
       "      <th>2</th>\n",
       "      <td>貴族精選</td>\n",
       "      <td>Mary Had a Little Lamb</td>\n",
       "    </tr>\n",
       "    <tr>\n",
       "      <th>3</th>\n",
       "      <td>貴族精選</td>\n",
       "      <td>となりのトトロ</td>\n",
       "    </tr>\n",
       "    <tr>\n",
       "      <th>4</th>\n",
       "      <td>伍佰 &amp; China Blue</td>\n",
       "      <td>夢醒時分</td>\n",
       "    </tr>\n",
       "    <tr>\n",
       "      <th>...</th>\n",
       "      <td>...</td>\n",
       "      <td>...</td>\n",
       "    </tr>\n",
       "    <tr>\n",
       "      <th>1376200</th>\n",
       "      <td>Philip Selway</td>\n",
       "      <td>What Goes Around</td>\n",
       "    </tr>\n",
       "    <tr>\n",
       "      <th>1376201</th>\n",
       "      <td>Bobby Gasparakis| Edo Mela| Bodega| Randy Garc...</td>\n",
       "      <td>U Got 2 Know</td>\n",
       "    </tr>\n",
       "    <tr>\n",
       "      <th>1376202</th>\n",
       "      <td>Orgel Carrol 오르골캐롤</td>\n",
       "      <td>three bears 곰세마리</td>\n",
       "    </tr>\n",
       "    <tr>\n",
       "      <th>1376203</th>\n",
       "      <td>The Jackals</td>\n",
       "      <td>Unity</td>\n",
       "    </tr>\n",
       "    <tr>\n",
       "      <th>1376204</th>\n",
       "      <td>Various Artists</td>\n",
       "      <td>Moonlight on the Ganges</td>\n",
       "    </tr>\n",
       "  </tbody>\n",
       "</table>\n",
       "<p>916420 rows × 2 columns</p>\n",
       "</div>"
      ],
      "text/plain": [
       "                                               artist_name  \\\n",
       "0                                         張信哲 (Jeff Chang)   \n",
       "1                                                    S.H.E   \n",
       "2                                                     貴族精選   \n",
       "3                                                     貴族精選   \n",
       "4                                          伍佰 & China Blue   \n",
       "...                                                    ...   \n",
       "1376200                                      Philip Selway   \n",
       "1376201  Bobby Gasparakis| Edo Mela| Bodega| Randy Garc...   \n",
       "1376202                                 Orgel Carrol 오르골캐롤   \n",
       "1376203                                        The Jackals   \n",
       "1376204                                    Various Artists   \n",
       "\n",
       "                            name  \n",
       "0                             焚情  \n",
       "1                          愛我的資格  \n",
       "2         Mary Had a Little Lamb  \n",
       "3                        となりのトトロ  \n",
       "4                           夢醒時分  \n",
       "...                          ...  \n",
       "1376200         What Goes Around  \n",
       "1376201             U Got 2 Know  \n",
       "1376202         three bears 곰세마리  \n",
       "1376203                    Unity  \n",
       "1376204  Moonlight on the Ganges  \n",
       "\n",
       "[916420 rows x 2 columns]"
      ]
     },
     "execution_count": 6,
     "metadata": {},
     "output_type": "execute_result"
    }
   ],
   "source": [
    "songs"
   ]
  },
  {
   "cell_type": "code",
   "execution_count": 7,
   "metadata": {},
   "outputs": [],
   "source": [
    "def setdiff2d(a1, a2):\n",
    "    a1_rows = a1.view([('', a1.dtype)] * a1.shape[1])\n",
    "    a2_rows = a2.view([('', a2.dtype)] * a2.shape[1])\n",
    "    return np.setdiff1d(a1_rows, a2_rows).view(a1.dtype).reshape(-1, a1.shape[1])\n",
    "\n",
    "class SongsDataset:\n",
    "    def __init__(self, data):\n",
    "        self.data = data\n",
    "        self.num_song = None\n",
    "        self.num_artist = None\n",
    "        self.art2idx = None\n",
    "        self.idx2art = None\n",
    "        self.song2idx = None\n",
    "        self.idx2song = None\n",
    "        self.create_mappings()\n",
    "        \n",
    "    def create_mappings(self):\n",
    "        unique_artists = self.data['artist_name'].unique()\n",
    "        self.num_artist = len(unique_artists)\n",
    "        self.art2idx = dict(zip(unique_artists, range(self.num_artist)))\n",
    "        self.idx2art = dict(zip(range(self.num_artist), unique_artists))\n",
    "\n",
    "        unique_songs = self.data['name'].unique()\n",
    "        self.num_song = len(unique_songs)\n",
    "        self.song2idx = dict(zip(unique_songs, range(self.num_song)))\n",
    "        self.idx2song = dict(zip(range(self.num_song), unique_songs))\n",
    "        \n",
    "    def create_dataset(self, neg_rate=1):\n",
    "        artists = self.data['artist_name'].apply(lambda x: self.art2idx[x]).to_numpy()\n",
    "        songs = self.data['name'].apply(lambda x: self.song2idx[x]).to_numpy()\n",
    "        X = np.stack((artists, songs), axis=1)\n",
    "        y = np.ones((X.shape[0], 1))\n",
    "        \n",
    "        for _ in range(neg_rate):\n",
    "            np.random.shuffle(artists)\n",
    "            np.random.shuffle(songs)\n",
    "            X_neg = np.stack((artists, songs), axis=1)\n",
    "            X_neg = setdiff2d(X_neg, X)\n",
    "            y_neg = np.zeros((X_neg.shape[0], 1))\n",
    "            \n",
    "            X = np.vstack((X, X_neg))\n",
    "            y = np.vstack((y, y_neg))\n",
    "        return torch.LongTensor(X), torch.Tensor(y).squeeze()"
   ]
  },
  {
   "cell_type": "code",
   "execution_count": 8,
   "metadata": {},
   "outputs": [],
   "source": [
    "class Embedder(nn.Module):\n",
    "    def __init__(self, num_artist, num_song, emb_dim=50):\n",
    "        super().__init__()\n",
    "        self.Embedding_art = nn.Embedding(num_artist, emb_dim)\n",
    "        self.Embedding_song = nn.Embedding(num_song, emb_dim)\n",
    "        self.dist = nn.CosineSimilarity()\n",
    "        self.output = nn.Sigmoid()\n",
    "        \n",
    "    def forward(self, x):\n",
    "        art_idx = x[:, 0]\n",
    "        song_idx = x[:, 1]\n",
    "        \n",
    "        art_embs = self.Embedding_art(art_idx)\n",
    "        song_embs = self.Embedding_song(song_idx)\n",
    "        \n",
    "        scores = self.dist(art_embs, song_embs)\n",
    "        return self.output(scores)    "
   ]
  },
  {
   "cell_type": "code",
   "execution_count": 9,
   "metadata": {},
   "outputs": [
    {
     "data": {
      "text/plain": [
       "<All keys matched successfully>"
      ]
     },
     "execution_count": 9,
     "metadata": {},
     "output_type": "execute_result"
    }
   ],
   "source": [
    "sd = SongsDataset(songs)\n",
    "X, y = sd.create_dataset()\n",
    "dataset = TensorDataset(X, y)\n",
    "dataloader = DataLoader(dataset, batch_size=1024, shuffle=True)\n",
    "\n",
    "emb = Embedder(sd.num_artist, sd.num_song)\n",
    "emb.load_state_dict(torch.load('emb.pkl'))\n",
    "# loss_fn = nn.BCELoss()\n",
    "# optim = Adam(emb.parameters())\n",
    "# epochs = 10\n",
    "\n",
    "# for i in tqdm(range(epochs)):\n",
    "#     avg_loss = 0\n",
    "#     steps = 0\n",
    "#     for x, y_true in tqdm(dataloader):\n",
    "#         y_pred = emb(x)\n",
    "#         loss = loss_fn(y_pred, y_true)\n",
    "#         optim.zero_grad()\n",
    "#         loss.backward()\n",
    "#         optim.step()\n",
    "#         avg_loss += loss.item()\n",
    "#         steps += 1\n",
    "#     print(f'Epoch {i + 1} / {epochs}. Loss: {avg_loss/steps}')"
   ]
  },
  {
   "cell_type": "code",
   "execution_count": 8,
   "metadata": {},
   "outputs": [],
   "source": [
    "# torch.save(emb.state_dict(), 'emb.pkl')"
   ]
  },
  {
   "cell_type": "markdown",
   "metadata": {},
   "source": [
    "## a) similars"
   ]
  },
  {
   "cell_type": "code",
   "execution_count": 10,
   "metadata": {},
   "outputs": [],
   "source": [
    "songs['artist_idx'] = songs['artist_name'].apply(lambda x: sd.art2idx[x])\n",
    "songs['song_idx'] = songs['name'].apply(lambda x: sd.song2idx[x])\n",
    "\n",
    "artist_emb = emb.Embedding_art(torch.LongTensor(songs['artist_idx'].to_numpy())).detach()\n",
    "song_emb = emb.Embedding_song(torch.LongTensor(songs['song_idx'].to_numpy())).detach()\n",
    "artist_song_emb = np.hstack((artist_emb, song_emb))\n",
    "songs.drop(columns=['artist_idx', 'song_idx'], inplace=True)"
   ]
  },
  {
   "cell_type": "code",
   "execution_count": 51,
   "metadata": {},
   "outputs": [],
   "source": [
    "def find_similars(x_emb, embs, k=10):    \n",
    "    dist_fn = nn.CosineSimilarity()\n",
    "    dist = dist_fn(x_emb, embs).detach()\n",
    "    sorted_idx = np.argsort(dist)\n",
    "\n",
    "    top_k = sorted_idx[-k:-1].squeeze().tolist()\n",
    "    return pd.DataFrame(songs.iloc[top_k])"
   ]
  },
  {
   "cell_type": "code",
   "execution_count": 61,
   "metadata": {
    "scrolled": false
   },
   "outputs": [
    {
     "name": "stdout",
     "output_type": "stream",
     "text": [
      "For\n"
     ]
    },
    {
     "data": {
      "text/html": [
       "<div>\n",
       "<style scoped>\n",
       "    .dataframe tbody tr th:only-of-type {\n",
       "        vertical-align: middle;\n",
       "    }\n",
       "\n",
       "    .dataframe tbody tr th {\n",
       "        vertical-align: top;\n",
       "    }\n",
       "\n",
       "    .dataframe thead th {\n",
       "        text-align: right;\n",
       "    }\n",
       "</style>\n",
       "<table border=\"1\" class=\"dataframe\">\n",
       "  <thead>\n",
       "    <tr style=\"text-align: right;\">\n",
       "      <th></th>\n",
       "      <th>artist_name</th>\n",
       "      <th>name</th>\n",
       "    </tr>\n",
       "  </thead>\n",
       "  <tbody>\n",
       "    <tr>\n",
       "      <th>525817</th>\n",
       "      <td>代小波</td>\n",
       "      <td>人賤人愛</td>\n",
       "    </tr>\n",
       "  </tbody>\n",
       "</table>\n",
       "</div>"
      ],
      "text/plain": [
       "       artist_name  name\n",
       "525817         代小波  人賤人愛"
      ]
     },
     "metadata": {},
     "output_type": "display_data"
    },
    {
     "name": "stdout",
     "output_type": "stream",
     "text": [
      "Similars are:\n"
     ]
    },
    {
     "data": {
      "text/html": [
       "<div>\n",
       "<style scoped>\n",
       "    .dataframe tbody tr th:only-of-type {\n",
       "        vertical-align: middle;\n",
       "    }\n",
       "\n",
       "    .dataframe tbody tr th {\n",
       "        vertical-align: top;\n",
       "    }\n",
       "\n",
       "    .dataframe thead th {\n",
       "        text-align: right;\n",
       "    }\n",
       "</style>\n",
       "<table border=\"1\" class=\"dataframe\">\n",
       "  <thead>\n",
       "    <tr style=\"text-align: right;\">\n",
       "      <th></th>\n",
       "      <th>artist_name</th>\n",
       "      <th>name</th>\n",
       "    </tr>\n",
       "  </thead>\n",
       "  <tbody>\n",
       "    <tr>\n",
       "      <th>560536</th>\n",
       "      <td>代小波</td>\n",
       "      <td>分手在天亮以後</td>\n",
       "    </tr>\n",
       "    <tr>\n",
       "      <th>185696</th>\n",
       "      <td>代小波</td>\n",
       "      <td>為你</td>\n",
       "    </tr>\n",
       "    <tr>\n",
       "      <th>47304</th>\n",
       "      <td>代小波</td>\n",
       "      <td>我不要</td>\n",
       "    </tr>\n",
       "    <tr>\n",
       "      <th>233973</th>\n",
       "      <td>代小波</td>\n",
       "      <td>你是我今生最愛的人</td>\n",
       "    </tr>\n",
       "    <tr>\n",
       "      <th>129636</th>\n",
       "      <td>內地華語精選</td>\n",
       "      <td>人賤人愛</td>\n",
       "    </tr>\n",
       "    <tr>\n",
       "      <th>422572</th>\n",
       "      <td>代小波</td>\n",
       "      <td>打死也不信</td>\n",
       "    </tr>\n",
       "    <tr>\n",
       "      <th>663953</th>\n",
       "      <td>代小波</td>\n",
       "      <td>如果愛能早些說出來</td>\n",
       "    </tr>\n",
       "    <tr>\n",
       "      <th>758832</th>\n",
       "      <td>代小波</td>\n",
       "      <td>只要你能開心</td>\n",
       "    </tr>\n",
       "    <tr>\n",
       "      <th>743196</th>\n",
       "      <td>代小波</td>\n",
       "      <td>過客</td>\n",
       "    </tr>\n",
       "  </tbody>\n",
       "</table>\n",
       "</div>"
      ],
      "text/plain": [
       "       artist_name       name\n",
       "560536         代小波    分手在天亮以後\n",
       "185696         代小波         為你\n",
       "47304          代小波        我不要\n",
       "233973         代小波  你是我今生最愛的人\n",
       "129636      內地華語精選       人賤人愛\n",
       "422572         代小波      打死也不信\n",
       "663953         代小波  如果愛能早些說出來\n",
       "758832         代小波     只要你能開心\n",
       "743196         代小波         過客"
      ]
     },
     "metadata": {},
     "output_type": "display_data"
    },
    {
     "name": "stdout",
     "output_type": "stream",
     "text": [
      "------------------\n",
      "For\n"
     ]
    },
    {
     "data": {
      "text/html": [
       "<div>\n",
       "<style scoped>\n",
       "    .dataframe tbody tr th:only-of-type {\n",
       "        vertical-align: middle;\n",
       "    }\n",
       "\n",
       "    .dataframe tbody tr th {\n",
       "        vertical-align: top;\n",
       "    }\n",
       "\n",
       "    .dataframe thead th {\n",
       "        text-align: right;\n",
       "    }\n",
       "</style>\n",
       "<table border=\"1\" class=\"dataframe\">\n",
       "  <thead>\n",
       "    <tr style=\"text-align: right;\">\n",
       "      <th></th>\n",
       "      <th>artist_name</th>\n",
       "      <th>name</th>\n",
       "    </tr>\n",
       "  </thead>\n",
       "  <tbody>\n",
       "    <tr>\n",
       "      <th>382358</th>\n",
       "      <td>Teenage dirtbag</td>\n",
       "      <td>Swing| Swing</td>\n",
       "    </tr>\n",
       "  </tbody>\n",
       "</table>\n",
       "</div>"
      ],
      "text/plain": [
       "            artist_name          name\n",
       "382358  Teenage dirtbag  Swing| Swing"
      ]
     },
     "metadata": {},
     "output_type": "display_data"
    },
    {
     "name": "stdout",
     "output_type": "stream",
     "text": [
      "Similars are:\n"
     ]
    },
    {
     "data": {
      "text/html": [
       "<div>\n",
       "<style scoped>\n",
       "    .dataframe tbody tr th:only-of-type {\n",
       "        vertical-align: middle;\n",
       "    }\n",
       "\n",
       "    .dataframe tbody tr th {\n",
       "        vertical-align: top;\n",
       "    }\n",
       "\n",
       "    .dataframe thead th {\n",
       "        text-align: right;\n",
       "    }\n",
       "</style>\n",
       "<table border=\"1\" class=\"dataframe\">\n",
       "  <thead>\n",
       "    <tr style=\"text-align: right;\">\n",
       "      <th></th>\n",
       "      <th>artist_name</th>\n",
       "      <th>name</th>\n",
       "    </tr>\n",
       "  </thead>\n",
       "  <tbody>\n",
       "    <tr>\n",
       "      <th>518088</th>\n",
       "      <td>Teenage dirtbag</td>\n",
       "      <td>Walk Idiot Walk</td>\n",
       "    </tr>\n",
       "    <tr>\n",
       "      <th>234931</th>\n",
       "      <td>Teenage dirtbag</td>\n",
       "      <td>Rollin' (Air Raid Vehicle)</td>\n",
       "    </tr>\n",
       "    <tr>\n",
       "      <th>73053</th>\n",
       "      <td>Teenage dirtbag</td>\n",
       "      <td>The Bad Touch</td>\n",
       "    </tr>\n",
       "    <tr>\n",
       "      <th>260749</th>\n",
       "      <td>Teenage dirtbag</td>\n",
       "      <td>Kiss Me</td>\n",
       "    </tr>\n",
       "    <tr>\n",
       "      <th>747973</th>\n",
       "      <td>Teenage dirtbag</td>\n",
       "      <td>What I Got</td>\n",
       "    </tr>\n",
       "    <tr>\n",
       "      <th>905811</th>\n",
       "      <td>Teenage dirtbag</td>\n",
       "      <td>Buddy Holly</td>\n",
       "    </tr>\n",
       "    <tr>\n",
       "      <th>287608</th>\n",
       "      <td>Teenage dirtbag</td>\n",
       "      <td>What's My Age Again?</td>\n",
       "    </tr>\n",
       "    <tr>\n",
       "      <th>385635</th>\n",
       "      <td>Teenage dirtbag</td>\n",
       "      <td>Smooth Criminal</td>\n",
       "    </tr>\n",
       "    <tr>\n",
       "      <th>653522</th>\n",
       "      <td>Teenage dirtbag</td>\n",
       "      <td>Malibu</td>\n",
       "    </tr>\n",
       "  </tbody>\n",
       "</table>\n",
       "</div>"
      ],
      "text/plain": [
       "            artist_name                        name\n",
       "518088  Teenage dirtbag             Walk Idiot Walk\n",
       "234931  Teenage dirtbag  Rollin' (Air Raid Vehicle)\n",
       "73053   Teenage dirtbag               The Bad Touch\n",
       "260749  Teenage dirtbag                     Kiss Me\n",
       "747973  Teenage dirtbag                  What I Got\n",
       "905811  Teenage dirtbag                 Buddy Holly\n",
       "287608  Teenage dirtbag        What's My Age Again?\n",
       "385635  Teenage dirtbag             Smooth Criminal\n",
       "653522  Teenage dirtbag                      Malibu"
      ]
     },
     "metadata": {},
     "output_type": "display_data"
    },
    {
     "name": "stdout",
     "output_type": "stream",
     "text": [
      "------------------\n",
      "For\n"
     ]
    },
    {
     "data": {
      "text/html": [
       "<div>\n",
       "<style scoped>\n",
       "    .dataframe tbody tr th:only-of-type {\n",
       "        vertical-align: middle;\n",
       "    }\n",
       "\n",
       "    .dataframe tbody tr th {\n",
       "        vertical-align: top;\n",
       "    }\n",
       "\n",
       "    .dataframe thead th {\n",
       "        text-align: right;\n",
       "    }\n",
       "</style>\n",
       "<table border=\"1\" class=\"dataframe\">\n",
       "  <thead>\n",
       "    <tr style=\"text-align: right;\">\n",
       "      <th></th>\n",
       "      <th>artist_name</th>\n",
       "      <th>name</th>\n",
       "    </tr>\n",
       "  </thead>\n",
       "  <tbody>\n",
       "    <tr>\n",
       "      <th>689741</th>\n",
       "      <td>Blue Claw Jazz</td>\n",
       "      <td>Piano Trio (Instrumental)</td>\n",
       "    </tr>\n",
       "  </tbody>\n",
       "</table>\n",
       "</div>"
      ],
      "text/plain": [
       "           artist_name                       name\n",
       "689741  Blue Claw Jazz  Piano Trio (Instrumental)"
      ]
     },
     "metadata": {},
     "output_type": "display_data"
    },
    {
     "name": "stdout",
     "output_type": "stream",
     "text": [
      "Similars are:\n"
     ]
    },
    {
     "data": {
      "text/html": [
       "<div>\n",
       "<style scoped>\n",
       "    .dataframe tbody tr th:only-of-type {\n",
       "        vertical-align: middle;\n",
       "    }\n",
       "\n",
       "    .dataframe tbody tr th {\n",
       "        vertical-align: top;\n",
       "    }\n",
       "\n",
       "    .dataframe thead th {\n",
       "        text-align: right;\n",
       "    }\n",
       "</style>\n",
       "<table border=\"1\" class=\"dataframe\">\n",
       "  <thead>\n",
       "    <tr style=\"text-align: right;\">\n",
       "      <th></th>\n",
       "      <th>artist_name</th>\n",
       "      <th>name</th>\n",
       "    </tr>\n",
       "  </thead>\n",
       "  <tbody>\n",
       "    <tr>\n",
       "      <th>599914</th>\n",
       "      <td>Jazz Trio</td>\n",
       "      <td>Thumbs Up</td>\n",
       "    </tr>\n",
       "    <tr>\n",
       "      <th>277991</th>\n",
       "      <td>Tenth Avenue North feat. Britt Nicole</td>\n",
       "      <td>We Three Kings</td>\n",
       "    </tr>\n",
       "    <tr>\n",
       "      <th>130355</th>\n",
       "      <td>T. Mills</td>\n",
       "      <td>Loud</td>\n",
       "    </tr>\n",
       "    <tr>\n",
       "      <th>655619</th>\n",
       "      <td>Christian Christmas Music</td>\n",
       "      <td>The First Noel</td>\n",
       "    </tr>\n",
       "    <tr>\n",
       "      <th>460894</th>\n",
       "      <td>Ron Carter</td>\n",
       "      <td>Softly as in a Morning Sunrise</td>\n",
       "    </tr>\n",
       "    <tr>\n",
       "      <th>174756</th>\n",
       "      <td>Piano Christmas</td>\n",
       "      <td>We Three Kings</td>\n",
       "    </tr>\n",
       "    <tr>\n",
       "      <th>717456</th>\n",
       "      <td>Rob Johnson</td>\n",
       "      <td>We Three Kings</td>\n",
       "    </tr>\n",
       "    <tr>\n",
       "      <th>669673</th>\n",
       "      <td>Amille</td>\n",
       "      <td>Small Hours</td>\n",
       "    </tr>\n",
       "    <tr>\n",
       "      <th>902040</th>\n",
       "      <td>Sugo Music Artists</td>\n",
       "      <td>We Three Kings</td>\n",
       "    </tr>\n",
       "  </tbody>\n",
       "</table>\n",
       "</div>"
      ],
      "text/plain": [
       "                                  artist_name                            name\n",
       "599914                              Jazz Trio                       Thumbs Up\n",
       "277991  Tenth Avenue North feat. Britt Nicole                  We Three Kings\n",
       "130355                               T. Mills                            Loud\n",
       "655619              Christian Christmas Music                  The First Noel\n",
       "460894                             Ron Carter  Softly as in a Morning Sunrise\n",
       "174756                        Piano Christmas                  We Three Kings\n",
       "717456                            Rob Johnson                  We Three Kings\n",
       "669673                                 Amille                     Small Hours\n",
       "902040                     Sugo Music Artists                  We Three Kings"
      ]
     },
     "metadata": {},
     "output_type": "display_data"
    },
    {
     "name": "stdout",
     "output_type": "stream",
     "text": [
      "------------------\n",
      "For\n"
     ]
    },
    {
     "data": {
      "text/html": [
       "<div>\n",
       "<style scoped>\n",
       "    .dataframe tbody tr th:only-of-type {\n",
       "        vertical-align: middle;\n",
       "    }\n",
       "\n",
       "    .dataframe tbody tr th {\n",
       "        vertical-align: top;\n",
       "    }\n",
       "\n",
       "    .dataframe thead th {\n",
       "        text-align: right;\n",
       "    }\n",
       "</style>\n",
       "<table border=\"1\" class=\"dataframe\">\n",
       "  <thead>\n",
       "    <tr style=\"text-align: right;\">\n",
       "      <th></th>\n",
       "      <th>artist_name</th>\n",
       "      <th>name</th>\n",
       "    </tr>\n",
       "  </thead>\n",
       "  <tbody>\n",
       "    <tr>\n",
       "      <th>700343</th>\n",
       "      <td>Van Cliburn</td>\n",
       "      <td>Allegro con fuoco</td>\n",
       "    </tr>\n",
       "  </tbody>\n",
       "</table>\n",
       "</div>"
      ],
      "text/plain": [
       "        artist_name               name\n",
       "700343  Van Cliburn  Allegro con fuoco"
      ]
     },
     "metadata": {},
     "output_type": "display_data"
    },
    {
     "name": "stdout",
     "output_type": "stream",
     "text": [
      "Similars are:\n"
     ]
    },
    {
     "data": {
      "text/html": [
       "<div>\n",
       "<style scoped>\n",
       "    .dataframe tbody tr th:only-of-type {\n",
       "        vertical-align: middle;\n",
       "    }\n",
       "\n",
       "    .dataframe tbody tr th {\n",
       "        vertical-align: top;\n",
       "    }\n",
       "\n",
       "    .dataframe thead th {\n",
       "        text-align: right;\n",
       "    }\n",
       "</style>\n",
       "<table border=\"1\" class=\"dataframe\">\n",
       "  <thead>\n",
       "    <tr style=\"text-align: right;\">\n",
       "      <th></th>\n",
       "      <th>artist_name</th>\n",
       "      <th>name</th>\n",
       "    </tr>\n",
       "  </thead>\n",
       "  <tbody>\n",
       "    <tr>\n",
       "      <th>596869</th>\n",
       "      <td>Van Cliburn</td>\n",
       "      <td>Adagio sostenuto</td>\n",
       "    </tr>\n",
       "    <tr>\n",
       "      <th>683302</th>\n",
       "      <td>Van Cliburn</td>\n",
       "      <td>I. Allegro molto moderato</td>\n",
       "    </tr>\n",
       "    <tr>\n",
       "      <th>520640</th>\n",
       "      <td>Van Cliburn</td>\n",
       "      <td>Moderato; Allegro</td>\n",
       "    </tr>\n",
       "    <tr>\n",
       "      <th>707641</th>\n",
       "      <td>Van Cliburn</td>\n",
       "      <td>III. Rondo. Vivace</td>\n",
       "    </tr>\n",
       "    <tr>\n",
       "      <th>916630</th>\n",
       "      <td>Van Cliburn</td>\n",
       "      <td>I. Allegro maestoso - Tempo giusto</td>\n",
       "    </tr>\n",
       "    <tr>\n",
       "      <th>800135</th>\n",
       "      <td>Van Cliburn</td>\n",
       "      <td>III. Allegro marziale animato</td>\n",
       "    </tr>\n",
       "    <tr>\n",
       "      <th>760418</th>\n",
       "      <td>Van Cliburn</td>\n",
       "      <td>II. Andante con moto</td>\n",
       "    </tr>\n",
       "    <tr>\n",
       "      <th>630443</th>\n",
       "      <td>Van Cliburn</td>\n",
       "      <td>Finale: Alla breve</td>\n",
       "    </tr>\n",
       "    <tr>\n",
       "      <th>767113</th>\n",
       "      <td>Van Cliburn</td>\n",
       "      <td>Variation VII: Meno mosso| a tempo moderato</td>\n",
       "    </tr>\n",
       "  </tbody>\n",
       "</table>\n",
       "</div>"
      ],
      "text/plain": [
       "        artist_name                                         name\n",
       "596869  Van Cliburn                             Adagio sostenuto\n",
       "683302  Van Cliburn                    I. Allegro molto moderato\n",
       "520640  Van Cliburn                            Moderato; Allegro\n",
       "707641  Van Cliburn                           III. Rondo. Vivace\n",
       "916630  Van Cliburn           I. Allegro maestoso - Tempo giusto\n",
       "800135  Van Cliburn                III. Allegro marziale animato\n",
       "760418  Van Cliburn                         II. Andante con moto\n",
       "630443  Van Cliburn                           Finale: Alla breve\n",
       "767113  Van Cliburn  Variation VII: Meno mosso| a tempo moderato"
      ]
     },
     "metadata": {},
     "output_type": "display_data"
    },
    {
     "name": "stdout",
     "output_type": "stream",
     "text": [
      "------------------\n",
      "For\n"
     ]
    },
    {
     "data": {
      "text/html": [
       "<div>\n",
       "<style scoped>\n",
       "    .dataframe tbody tr th:only-of-type {\n",
       "        vertical-align: middle;\n",
       "    }\n",
       "\n",
       "    .dataframe tbody tr th {\n",
       "        vertical-align: top;\n",
       "    }\n",
       "\n",
       "    .dataframe thead th {\n",
       "        text-align: right;\n",
       "    }\n",
       "</style>\n",
       "<table border=\"1\" class=\"dataframe\">\n",
       "  <thead>\n",
       "    <tr style=\"text-align: right;\">\n",
       "      <th></th>\n",
       "      <th>artist_name</th>\n",
       "      <th>name</th>\n",
       "    </tr>\n",
       "  </thead>\n",
       "  <tbody>\n",
       "    <tr>\n",
       "      <th>48116</th>\n",
       "      <td>Sum 41</td>\n",
       "      <td>The Bitter End</td>\n",
       "    </tr>\n",
       "  </tbody>\n",
       "</table>\n",
       "</div>"
      ],
      "text/plain": [
       "      artist_name            name\n",
       "48116      Sum 41  The Bitter End"
      ]
     },
     "metadata": {},
     "output_type": "display_data"
    },
    {
     "name": "stdout",
     "output_type": "stream",
     "text": [
      "Similars are:\n"
     ]
    },
    {
     "data": {
      "text/html": [
       "<div>\n",
       "<style scoped>\n",
       "    .dataframe tbody tr th:only-of-type {\n",
       "        vertical-align: middle;\n",
       "    }\n",
       "\n",
       "    .dataframe tbody tr th {\n",
       "        vertical-align: top;\n",
       "    }\n",
       "\n",
       "    .dataframe thead th {\n",
       "        text-align: right;\n",
       "    }\n",
       "</style>\n",
       "<table border=\"1\" class=\"dataframe\">\n",
       "  <thead>\n",
       "    <tr style=\"text-align: right;\">\n",
       "      <th></th>\n",
       "      <th>artist_name</th>\n",
       "      <th>name</th>\n",
       "    </tr>\n",
       "  </thead>\n",
       "  <tbody>\n",
       "    <tr>\n",
       "      <th>26124</th>\n",
       "      <td>Sum 41</td>\n",
       "      <td>Over My Head (Better Off Dead)</td>\n",
       "    </tr>\n",
       "    <tr>\n",
       "      <th>96685</th>\n",
       "      <td>Sum 41</td>\n",
       "      <td>So Long Goodbye</td>\n",
       "    </tr>\n",
       "    <tr>\n",
       "      <th>104352</th>\n",
       "      <td>Falling In Reverse</td>\n",
       "      <td>The Bitter End</td>\n",
       "    </tr>\n",
       "    <tr>\n",
       "      <th>142354</th>\n",
       "      <td>Sum 41</td>\n",
       "      <td>Handle This</td>\n",
       "    </tr>\n",
       "    <tr>\n",
       "      <th>90731</th>\n",
       "      <td>Sum 41</td>\n",
       "      <td>Some Say</td>\n",
       "    </tr>\n",
       "    <tr>\n",
       "      <th>8541</th>\n",
       "      <td>Sum 41</td>\n",
       "      <td>Fat Lip</td>\n",
       "    </tr>\n",
       "    <tr>\n",
       "      <th>206614</th>\n",
       "      <td>Sum 41</td>\n",
       "      <td>Makes No Difference</td>\n",
       "    </tr>\n",
       "    <tr>\n",
       "      <th>531504</th>\n",
       "      <td>Richie Kotzen</td>\n",
       "      <td>The Bitter End</td>\n",
       "    </tr>\n",
       "    <tr>\n",
       "      <th>914270</th>\n",
       "      <td>Sam Hulick</td>\n",
       "      <td>The Bitter End</td>\n",
       "    </tr>\n",
       "  </tbody>\n",
       "</table>\n",
       "</div>"
      ],
      "text/plain": [
       "               artist_name                            name\n",
       "26124               Sum 41  Over My Head (Better Off Dead)\n",
       "96685               Sum 41                 So Long Goodbye\n",
       "104352  Falling In Reverse                  The Bitter End\n",
       "142354              Sum 41                     Handle This\n",
       "90731               Sum 41                        Some Say\n",
       "8541                Sum 41                         Fat Lip\n",
       "206614              Sum 41             Makes No Difference\n",
       "531504       Richie Kotzen                  The Bitter End\n",
       "914270          Sam Hulick                  The Bitter End"
      ]
     },
     "metadata": {},
     "output_type": "display_data"
    },
    {
     "name": "stdout",
     "output_type": "stream",
     "text": [
      "------------------\n"
     ]
    }
   ],
   "source": [
    "for _ in range(5):\n",
    "    x = songs.sample()\n",
    "    print('For')\n",
    "    display(x)\n",
    "    print('Similars are:')\n",
    "    example_emb = torch.Tensor(artist_song_emb[x.index])\n",
    "    similars = find_similars(example_emb, torch.Tensor(artist_song_emb))\n",
    "    display(similars)\n",
    "    print('------------------')"
   ]
  },
  {
   "cell_type": "markdown",
   "metadata": {},
   "source": [
    "## b) recommender"
   ]
  },
  {
   "cell_type": "code",
   "execution_count": 9,
   "metadata": {},
   "outputs": [],
   "source": [
    "data = pd.read_csv('kkbox/train.csv')\n",
    "songs = pd.read_csv('kkbox/songs.csv')\n",
    "songs_extra = pd.read_csv('kkbox/song_extra_info.csv')\n",
    "songs = songs.merge(songs_extra, on='song_id', how='left')\n",
    "songs = songs[['song_id', 'artist_name', 'name']]\n",
    "\n",
    "data = data.merge(songs, on='song_id', how='left')\n",
    "data = data.loc[data['artist_name'].isin(sd.art2idx)]\n",
    "data = data.loc[data['name'].isin(sd.song2idx)]\n",
    "data = data.loc[~data['artist_name'].isna()]\n",
    "data = data.loc[~data['name'].isna()]\n",
    "data = data.reset_index()\n",
    "data.drop(columns=['source_system_tab', 'source_screen_name', 'source_type', 'song_id', 'index'], inplace=True)\n",
    "\n",
    "data['artist_idx'] = data['artist_name'].apply(lambda x: sd.art2idx[x])\n",
    "data['song_idx'] = data['name'].apply(lambda x: sd.song2idx[x])"
   ]
  },
  {
   "cell_type": "code",
   "execution_count": 20,
   "metadata": {},
   "outputs": [],
   "source": [
    "class Users:\n",
    "    def __init__(self, data, emb_size=50):\n",
    "        unique_users = np.unique(data['msno'])\n",
    "        self.n_users = len(unique_users)\n",
    "        self.user2idx = dict(zip(unique_users, range(self.n_users)))\n",
    "        self.idx2user = dict(zip(range(self.n_users), unique_users))\n",
    "        data['msno'] = data['msno'].apply(lambda x: self.user2idx[x])\n",
    "        self.data = data\n",
    "        self.emb_size = emb_size\n",
    "        self.embs = None\n",
    "        self.compute_embs()\n",
    "        \n",
    "    def compute_embs(self):\n",
    "        user_artist = np.zeros((self.n_users, self.emb_size))\n",
    "        user_song = np.zeros((self.n_users, self.emb_size))\n",
    "        \n",
    "        for i in self.idx2user:\n",
    "            user_art_idx = torch.LongTensor(self.data.loc[self.data['msno'] == i, 'artist_idx'].values)\n",
    "            user_song_idx = torch.LongTensor(self.data.loc[self.data['msno'] == i, 'song_idx'].values)\n",
    "            user_art_emb = emb.Embedding_art(user_art_idx)\n",
    "            user_song_emb = emb.Embedding_song(user_song_idx)\n",
    "            user_art_total = torch.sum(user_art_emb, dim=0).detach()\n",
    "            user_song_total = torch.sum(user_song_emb, dim=0).detach()\n",
    "            user_artist[i] = user_art_total\n",
    "            user_song[i] = user_song_total\n",
    "        self.embs = np.hstack((user_artist, user_song))"
   ]
  },
  {
   "cell_type": "code",
   "execution_count": 21,
   "metadata": {},
   "outputs": [],
   "source": [
    "user = Users(data)"
   ]
  },
  {
   "cell_type": "code",
   "execution_count": 25,
   "metadata": {},
   "outputs": [],
   "source": [
    "class Recommender(nn.Module):\n",
    "    def __init__(self, user_emb, art_emb, song_emb, hidden_size=64, emb_size=50):\n",
    "        super().__init__()\n",
    "        self.Emedding_user = nn.Embedding.from_pretrained(torch.Tensor(user_emb))\n",
    "        self.Embedding_art = nn.Embedding.from_pretrained(art_emb.weight)\n",
    "        self.Embedding_song = nn.Embedding.from_pretrained(torch.Tensor(song_emb.weight))\n",
    "        \n",
    "        self.fc1 = nn.Linear(emb_size * 3, hidden_size)\n",
    "        self.relu = torch.nn.ReLU()\n",
    "        self.fc2 = torch.nn.Linear(hidden_size, 1)\n",
    "        self.Sigmoid = nn.Sigmoid()\n",
    "        \n",
    "    def forward(self, x):\n",
    "        user_idx, art_idx, song_idx = x\n",
    "        user_emb = self.Emedding_user(user_idx)\n",
    "        art_emb = self.Embedding_art(art_idx)\n",
    "        song_emb = self.Embedding_song(song_idx)\n",
    "        emb = np.hstack((user_emb, art_emb, song_emb))\n",
    "        \n",
    "        x = self.fc1(emb)\n",
    "        x = self.relu(x)\n",
    "        x = self.fc2(x)\n",
    "        return self.Sigmoid(x)"
   ]
  },
  {
   "cell_type": "code",
   "execution_count": 26,
   "metadata": {},
   "outputs": [],
   "source": [
    "X = torch.LongTensor(data[['msno', 'artist_idx', 'song_idx']].to_numpy())\n",
    "y = torch.Tensor(data['target'].to_numpy()).squeeze()"
   ]
  },
  {
   "cell_type": "code",
   "execution_count": 27,
   "metadata": {},
   "outputs": [
    {
     "data": {
      "application/vnd.jupyter.widget-view+json": {
       "model_id": "53d5a22dd946407e81a3ef668e16ebbd",
       "version_major": 2,
       "version_minor": 0
      },
      "text/plain": [
       "HBox(children=(FloatProgress(value=0.0, max=10.0), HTML(value='')))"
      ]
     },
     "metadata": {},
     "output_type": "display_data"
    },
    {
     "data": {
      "application/vnd.jupyter.widget-view+json": {
       "model_id": "bd85a158c3e8455da264990832716ae5",
       "version_major": 2,
       "version_minor": 0
      },
      "text/plain": [
       "HBox(children=(FloatProgress(value=0.0, max=3771.0), HTML(value='')))"
      ]
     },
     "metadata": {},
     "output_type": "display_data"
    },
    {
     "name": "stdout",
     "output_type": "stream",
     "text": [
      "\n",
      "Epoch 1 / 10. Loss: 0.6956675831407301\n"
     ]
    },
    {
     "data": {
      "application/vnd.jupyter.widget-view+json": {
       "model_id": "9d54c6f2ad3f48fc87e5a466a022deb3",
       "version_major": 2,
       "version_minor": 0
      },
      "text/plain": [
       "HBox(children=(FloatProgress(value=0.0, max=3771.0), HTML(value='')))"
      ]
     },
     "metadata": {},
     "output_type": "display_data"
    },
    {
     "name": "stdout",
     "output_type": "stream",
     "text": [
      "\n",
      "Epoch 2 / 10. Loss: 0.69566692707868\n"
     ]
    },
    {
     "data": {
      "application/vnd.jupyter.widget-view+json": {
       "model_id": "d3d1fe186c38443487fc024f2c5b14ad",
       "version_major": 2,
       "version_minor": 0
      },
      "text/plain": [
       "HBox(children=(FloatProgress(value=0.0, max=3771.0), HTML(value='')))"
      ]
     },
     "metadata": {},
     "output_type": "display_data"
    },
    {
     "name": "stdout",
     "output_type": "stream",
     "text": [
      "\n",
      "Epoch 3 / 10. Loss: 0.6956685034958762\n"
     ]
    },
    {
     "data": {
      "application/vnd.jupyter.widget-view+json": {
       "model_id": "e4d035157cdf4b5c8f1b7df6ffa842a9",
       "version_major": 2,
       "version_minor": 0
      },
      "text/plain": [
       "HBox(children=(FloatProgress(value=0.0, max=3771.0), HTML(value='')))"
      ]
     },
     "metadata": {},
     "output_type": "display_data"
    },
    {
     "name": "stdout",
     "output_type": "stream",
     "text": [
      "\n",
      "Epoch 4 / 10. Loss: 0.6956676002744969\n"
     ]
    },
    {
     "data": {
      "application/vnd.jupyter.widget-view+json": {
       "model_id": "7719ac26dda048dc85715eb64a3c88e0",
       "version_major": 2,
       "version_minor": 0
      },
      "text/plain": [
       "HBox(children=(FloatProgress(value=0.0, max=3771.0), HTML(value='')))"
      ]
     },
     "metadata": {},
     "output_type": "display_data"
    },
    {
     "name": "stdout",
     "output_type": "stream",
     "text": [
      "\n",
      "Epoch 5 / 10. Loss: 0.6956681146352369\n"
     ]
    },
    {
     "data": {
      "application/vnd.jupyter.widget-view+json": {
       "model_id": "52f4938651c94f5caab55097139d5c52",
       "version_major": 2,
       "version_minor": 0
      },
      "text/plain": [
       "HBox(children=(FloatProgress(value=0.0, max=3771.0), HTML(value='')))"
      ]
     },
     "metadata": {},
     "output_type": "display_data"
    },
    {
     "name": "stdout",
     "output_type": "stream",
     "text": [
      "\n",
      "Epoch 6 / 10. Loss: 0.6956675589416552\n"
     ]
    },
    {
     "data": {
      "application/vnd.jupyter.widget-view+json": {
       "model_id": "89bfef45ff2a4db7baafe297dd26f2db",
       "version_major": 2,
       "version_minor": 0
      },
      "text/plain": [
       "HBox(children=(FloatProgress(value=0.0, max=3771.0), HTML(value='')))"
      ]
     },
     "metadata": {},
     "output_type": "display_data"
    },
    {
     "name": "stdout",
     "output_type": "stream",
     "text": [
      "\n",
      "Epoch 7 / 10. Loss: 0.6956675963862067\n"
     ]
    },
    {
     "data": {
      "application/vnd.jupyter.widget-view+json": {
       "model_id": "df7b3d22d58341d1bc39dd39d8e89e86",
       "version_major": 2,
       "version_minor": 0
      },
      "text/plain": [
       "HBox(children=(FloatProgress(value=0.0, max=3771.0), HTML(value='')))"
      ]
     },
     "metadata": {},
     "output_type": "display_data"
    },
    {
     "name": "stdout",
     "output_type": "stream",
     "text": [
      "\n",
      "Epoch 8 / 10. Loss: 0.6956678812745963\n"
     ]
    },
    {
     "data": {
      "application/vnd.jupyter.widget-view+json": {
       "model_id": "127a0aa391ff462eac47ac097f2cb24e",
       "version_major": 2,
       "version_minor": 0
      },
      "text/plain": [
       "HBox(children=(FloatProgress(value=0.0, max=3771.0), HTML(value='')))"
      ]
     },
     "metadata": {},
     "output_type": "display_data"
    },
    {
     "name": "stdout",
     "output_type": "stream",
     "text": [
      "\n",
      "Epoch 9 / 10. Loss: 0.6956673219772335\n"
     ]
    },
    {
     "data": {
      "application/vnd.jupyter.widget-view+json": {
       "model_id": "e0bcace1af5e49deb4119213bb7ddc83",
       "version_major": 2,
       "version_minor": 0
      },
      "text/plain": [
       "HBox(children=(FloatProgress(value=0.0, max=3771.0), HTML(value='')))"
      ]
     },
     "metadata": {},
     "output_type": "display_data"
    },
    {
     "name": "stdout",
     "output_type": "stream",
     "text": [
      "\n",
      "Epoch 10 / 10. Loss: 0.695667402777802\n",
      "\n"
     ]
    },
    {
     "data": {
      "application/vnd.jupyter.widget-view+json": {
       "model_id": "8eb5fdba886b441b9c224aa7fecd9adc",
       "version_major": 2,
       "version_minor": 0
      },
      "text/plain": [
       "HBox(children=(FloatProgress(value=0.0, max=943.0), HTML(value='')))"
      ]
     },
     "metadata": {},
     "output_type": "display_data"
    },
    {
     "name": "stdout",
     "output_type": "stream",
     "text": [
      "\n",
      "Test auc: 0.4862178472402115\n"
     ]
    }
   ],
   "source": [
    "X = torch.LongTensor(data[['msno', 'artist_idx', 'song_idx']].to_numpy())\n",
    "y = torch.Tensor(data['target'].to_numpy()).squeeze()\n",
    "X_train, X_test, y_train, y_test = train_test_split(X, y, test_size=0.2)\n",
    "train_dataset = TensorDataset(X_train, y_train)\n",
    "train_dataloader = DataLoader(train_dataset, batch_size=1024, shuffle=True)\n",
    "test_dataset = TensorDataset(X_test, y_test)\n",
    "test_dataloader = DataLoader(test_dataset, batch_size=1024, shuffle=True)\n",
    "\n",
    "rec = Recommender(user.embs, emb.Embedding_art, emb.Embedding_song)\n",
    "optim = Adam(rec.parameters())\n",
    "loss_fn = nn.BCELoss()\n",
    "epochs = 10\n",
    "\n",
    "for i in tqdm(range(epochs)):\n",
    "    avg_loss = 0\n",
    "    steps = 0\n",
    "    for x, y_true in tqdm(train_dataloader):\n",
    "        y_pred = emb(x)\n",
    "        loss = loss_fn(y_pred, y_true)\n",
    "        optim.zero_grad()\n",
    "        loss.backward()\n",
    "        optim.step()\n",
    "        avg_loss += loss.item()\n",
    "        steps += 1\n",
    "    print(f'Epoch {i + 1} / {epochs}. Loss: {avg_loss/steps}')\n",
    "\n",
    "for x, y_true in tqdm(test_dataloader):\n",
    "    avg_auc = 0\n",
    "    steps = 0\n",
    "    with torch.no_grad():\n",
    "        y_pred = emb(x)\n",
    "        avg_auc += roc_auc_score(y_true, y_pred)\n",
    "        steps += 1\n",
    "test_auc = avg_auc/steps\n",
    "print(f'Test auc: {test_auc}')\n",
    "\n",
    "# kf = KFold(n_splits=5, shuffle=True)\n",
    "# test_aucs = []\n",
    "# for train_index, test_index in kf.split(X):\n",
    "#     X_train, X_test = X[train_index], X[test_index]\n",
    "#     y_train, y_test = y[train_index], y[test_index]\n",
    "# test_aucs.append(test_auc)"
   ]
  },
  {
   "cell_type": "markdown",
   "metadata": {},
   "source": [
    "###    ¯\\_(ツ)_/¯"
   ]
  },
  {
   "cell_type": "code",
   "execution_count": null,
   "metadata": {},
   "outputs": [],
   "source": []
  }
 ],
 "metadata": {
  "kernelspec": {
   "display_name": "Python 3",
   "language": "python",
   "name": "python3"
  },
  "language_info": {
   "codemirror_mode": {
    "name": "ipython",
    "version": 3
   },
   "file_extension": ".py",
   "mimetype": "text/x-python",
   "name": "python",
   "nbconvert_exporter": "python",
   "pygments_lexer": "ipython3",
   "version": "3.7.3"
  }
 },
 "nbformat": 4,
 "nbformat_minor": 4
}
