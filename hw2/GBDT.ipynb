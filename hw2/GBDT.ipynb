{
 "cells": [
  {
   "cell_type": "code",
   "execution_count": 1,
   "metadata": {},
   "outputs": [],
   "source": [
    "from sklearn.model_selection import KFold, train_test_split, GridSearchCV, ShuffleSplit\n",
    "from sklearn.metrics import roc_auc_score\n",
    "import lightgbm as lgb\n",
    "import numpy as np\n",
    "import pandas as pd\n",
    "import re\n",
    "import matplotlib.pyplot as plt\n",
    "import shap"
   ]
  },
  {
   "cell_type": "markdown",
   "metadata": {},
   "source": [
    "### loading data"
   ]
  },
  {
   "cell_type": "code",
   "execution_count": 2,
   "metadata": {},
   "outputs": [],
   "source": [
    "data = pd.read_csv('kkbox/train.csv')\n",
    "members = pd.read_csv('kkbox/members.csv')\n",
    "songs = pd.read_csv('kkbox/songs.csv')\n",
    "songs_extra = pd.read_csv('kkbox/song_extra_info.csv')"
   ]
  },
  {
   "cell_type": "markdown",
   "metadata": {},
   "source": [
    "#### data"
   ]
  },
  {
   "cell_type": "markdown",
   "metadata": {},
   "source": [
    "Добавим фичу - доля прослушиваний на репите от всех первых прослушиваний песни. "
   ]
  },
  {
   "cell_type": "code",
   "execution_count": 3,
   "metadata": {},
   "outputs": [],
   "source": [
    "data1 = data[['song_id', 'target']]\n",
    "song_played = data1.groupby('song_id', as_index=False).count().rename(columns={'target': 'num_played'})\n",
    "song_repeated = data1.groupby('song_id', as_index=False).sum().rename(columns={'target': 'num_repeated'})\n",
    "song_rate = pd.merge(song_played, song_repeated, on='song_id')\n",
    "song_rate['song_repeated_rate'] = round(song_rate['num_repeated'] / song_rate['num_played'], 1)\n",
    "song_rate.loc[song_rate['num_played'] == 1, 'song_repeated_rate'] = np.nan\n",
    "song_rate.drop(columns=['num_played', 'num_repeated'], inplace=True)\n",
    "data = data.merge(song_rate, on='song_id', how='left')\n",
    "\n",
    "del data1, song_played, song_repeated, song_rate"
   ]
  },
  {
   "cell_type": "markdown",
   "metadata": {},
   "source": [
    "#### members"
   ]
  },
  {
   "cell_type": "markdown",
   "metadata": {},
   "source": [
    "* Скажем, что, если возраст младше 14 и старше 60, то у нас нет по нему данных. \n",
    "* Вместо времени и даты регистрации добавим длительность подписки в месяцах и годах.\n",
    "* Уберем пол"
   ]
  },
  {
   "cell_type": "code",
   "execution_count": 4,
   "metadata": {},
   "outputs": [],
   "source": [
    "members.loc[(members['bd'] < 14) | (members['bd'] > 60), 'bd'] = np.nan\n",
    "\n",
    "members['expiration_date'] = pd.to_datetime(members['expiration_date'], format='%Y%m%d')\n",
    "members['registration_init_time'] = pd.to_datetime(members['registration_init_time'], format='%Y%m%d')\n",
    "members['membership_duration_d'] = (members['expiration_date'] - members['registration_init_time']).dt.days \n",
    "members['membership_duration_m'] = members['membership_duration_d'] // 30\n",
    "members['membership_duration_y'] = members['membership_duration_d'] // 365\n",
    "members = members.loc[~members['membership_duration_m'] < 0]\n",
    "members['registration_year'] = members['registration_init_time'].apply(lambda x: int(str(x)[:4]))\n",
    "members['expiration_year'] = members['expiration_date'].apply(lambda x: int(str(x)[:4]))\n",
    "\n",
    "members.drop(columns=['gender', 'registration_init_time', 'expiration_date', 'membership_duration_d'], inplace=True) "
   ]
  },
  {
   "cell_type": "markdown",
   "metadata": {},
   "source": [
    "#### songs"
   ]
  },
  {
   "cell_type": "markdown",
   "metadata": {},
   "source": [
    "* Добавим фичу - исполнитель песни был одним из людей, кто написал музыку и/или текст."
   ]
  },
  {
   "cell_type": "code",
   "execution_count": 5,
   "metadata": {},
   "outputs": [],
   "source": [
    "def artist_is_creator(artist, composer, lyricist):\n",
    "    artist = re.findall(r\"[\\w']+\", str(artist))\n",
    "    composer = re.findall(r\"[\\w']+\", str(composer))\n",
    "    lyricist = re.findall(r\"[\\w']+\", str(lyricist))\n",
    "    artist_is_composer = set(artist).intersection(set(composer))\n",
    "    artist_is_lyricist = set(artist).intersection(set(lyricist))\n",
    "    return len(artist_is_composer) != 0 or len(artist_is_lyricist) != 0 \n",
    "\n",
    "def count_num(x):\n",
    "    return str(x).count('|') + 1\n",
    "\n",
    "def return_first(x):\n",
    "    return str(x).split('|')[0]\n",
    "\n",
    "songs.loc[songs['language'] == -1] = np.nan\n",
    "\n",
    "songs['artist_num'] = songs['artist_name'].apply(count_num)\n",
    "songs['artist_is_creator'] = [int(artist_is_creator(a, c, l)) for a, c, l in zip(songs['artist_name'], songs['composer'], songs['lyricist'])]\n",
    "songs['artist_name'] = songs['artist_name'].apply(return_first)\n",
    "\n",
    "songs['num_genres'] = songs['genre_ids'].apply(count_num)\n",
    "songs['genre_ids'] = songs['genre_ids'].apply(return_first)\n",
    "\n",
    "songs.drop(columns=['composer', 'lyricist'], inplace=True)"
   ]
  },
  {
   "cell_type": "markdown",
   "metadata": {},
   "source": [
    "#### songs extra info"
   ]
  },
  {
   "cell_type": "markdown",
   "metadata": {},
   "source": [
    "* Добавим фичу - десятилетие, когда песня была выпущена."
   ]
  },
  {
   "cell_type": "code",
   "execution_count": 6,
   "metadata": {},
   "outputs": [],
   "source": [
    "def year_of_reference(isrc):\n",
    "    if type(isrc) == str:\n",
    "        year = int(isrc[5:7])\n",
    "        if year <= 17:\n",
    "            return year // 10 * 10\n",
    "        return 0\n",
    "    return np.nan\n",
    "\n",
    "songs_extra['song_decade'] = songs_extra['isrc'].apply(lambda x: year_of_reference(x))\n",
    "\n",
    "songs_extra.drop(columns=['name', 'isrc'], inplace=True)"
   ]
  },
  {
   "cell_type": "markdown",
   "metadata": {},
   "source": [
    "#### merging"
   ]
  },
  {
   "cell_type": "code",
   "execution_count": 7,
   "metadata": {},
   "outputs": [],
   "source": [
    "data = data.merge(members, on='msno', how='left')\n",
    "data = data.merge(songs, on='song_id', how='left')\n",
    "data = data.merge(songs_extra, on='song_id', how='left')\n",
    "\n",
    "del members, songs, songs_extra"
   ]
  },
  {
   "cell_type": "code",
   "execution_count": 8,
   "metadata": {},
   "outputs": [],
   "source": [
    "data1 = data[['artist_name', 'target']]\n",
    "artist_played = data1.groupby('artist_name', as_index=False).count().rename(columns={'target': 'num_played'})\n",
    "artist_repeated = data1.groupby('artist_name', as_index=False).sum().rename(columns={'target': 'num_repeated'})\n",
    "artist_rate = pd.merge(artist_played, artist_repeated, on='artist_name', how='left')\n",
    "artist_rate['artist_repeated_rate'] = round(artist_rate['num_repeated'] / artist_rate['num_played'], 1)\n",
    "artist_rate.loc[artist_rate['num_played'] == 1, 'artist_repeated_rate'] = np.nan\n",
    "artist_rate.drop(columns=['num_played', 'num_repeated'], inplace=True)\n",
    "\n",
    "data = data.merge(artist_rate, on='artist_name', how='left')\n",
    "del data1, artist_played, artist_rate"
   ]
  },
  {
   "cell_type": "code",
   "execution_count": 9,
   "metadata": {},
   "outputs": [
    {
     "data": {
      "text/plain": [
       "Index(['msno', 'song_id', 'source_system_tab', 'source_screen_name',\n",
       "       'source_type', 'song_repeated_rate', 'city', 'bd', 'registered_via',\n",
       "       'membership_duration_m', 'membership_duration_y', 'registration_year',\n",
       "       'expiration_year', 'song_length', 'genre_ids', 'artist_name',\n",
       "       'language', 'artist_num', 'artist_is_creator', 'num_genres',\n",
       "       'song_decade', 'artist_repeated_rate'],\n",
       "      dtype='object')"
      ]
     },
     "execution_count": 9,
     "metadata": {},
     "output_type": "execute_result"
    }
   ],
   "source": [
    "category_cols = ['msno', 'song_id', 'source_system_tab', 'source_screen_name', 'source_type', 'city', \n",
    "                 'genre_ids', 'artist_name', 'language', 'artist_is_creator', 'song_decade']\n",
    "\n",
    "for col in category_cols:\n",
    "    data[col] = data[col].astype('category')\n",
    "\n",
    "X = data.drop(columns=['target'])\n",
    "y = data['target']\n",
    "X.columns"
   ]
  },
  {
   "cell_type": "markdown",
   "metadata": {},
   "source": [
    "### GB"
   ]
  },
  {
   "cell_type": "markdown",
   "metadata": {},
   "source": [
    "#### На каких-то не fine-tuned параметрах выделим самые важные фичи с помощью большой гаммы. "
   ]
  },
  {
   "cell_type": "code",
   "execution_count": 13,
   "metadata": {},
   "outputs": [],
   "source": [
    "X_train0, X_test0, y_train0, y_test0 = train_test_split(X, y, test_size=0.2)"
   ]
  },
  {
   "cell_type": "code",
   "execution_count": 26,
   "metadata": {},
   "outputs": [
    {
     "name": "stderr",
     "output_type": "stream",
     "text": [
      "categorical_feature in Dataset is overridden.\n",
      "New categorical_feature is ['artist_is_creator', 'artist_name', 'city', 'genre_ids', 'language', 'msno', 'song_decade', 'song_id', 'source_screen_name', 'source_system_tab', 'source_type']\n"
     ]
    },
    {
     "name": "stdout",
     "output_type": "stream",
     "text": [
      "[LightGBM] [Info] Number of positive: 2972286, number of negative: 2929648\n",
      "[LightGBM] [Warning] Auto-choosing row-wise multi-threading, the overhead of testing was 0.383300 seconds.\n",
      "You can set `force_row_wise=true` to remove the overhead.\n",
      "And if memory is not enough, you can set `force_col_wise=true`.\n",
      "[LightGBM] [Info] Total Bins 33801\n",
      "[LightGBM] [Info] Number of data points in the train set: 5901934, number of used features: 22\n"
     ]
    },
    {
     "name": "stderr",
     "output_type": "stream",
     "text": [
      "Overriding the parameters from Reference Dataset.\n",
      "categorical_column in param dict is overridden.\n"
     ]
    },
    {
     "name": "stdout",
     "output_type": "stream",
     "text": [
      "[LightGBM] [Info] [binary:BoostFromScore]: pavg=0.503612 -> initscore=0.014449\n",
      "[LightGBM] [Info] Start training from score 0.014449\n",
      "[5]\tvalid_0's auc: 0.728186\n",
      "[10]\tvalid_0's auc: 0.734581\n",
      "[15]\tvalid_0's auc: 0.739208\n",
      "[LightGBM] [Warning] No further splits with positive gain, best gain: -inf\n",
      "[LightGBM] [Warning] No further splits with positive gain, best gain: -inf\n",
      "[LightGBM] [Warning] No further splits with positive gain, best gain: -inf\n",
      "[20]\tvalid_0's auc: 0.743563\n",
      "[LightGBM] [Warning] No further splits with positive gain, best gain: -inf\n",
      "[LightGBM] [Warning] No further splits with positive gain, best gain: -inf\n",
      "[LightGBM] [Warning] No further splits with positive gain, best gain: -inf\n",
      "[LightGBM] [Warning] No further splits with positive gain, best gain: -inf\n",
      "[25]\tvalid_0's auc: 0.74753\n",
      "[LightGBM] [Warning] No further splits with positive gain, best gain: -inf\n",
      "[LightGBM] [Warning] No further splits with positive gain, best gain: -inf\n",
      "[LightGBM] [Warning] No further splits with positive gain, best gain: -inf\n",
      "[LightGBM] [Warning] No further splits with positive gain, best gain: -inf\n",
      "[LightGBM] [Warning] No further splits with positive gain, best gain: -inf\n",
      "[30]\tvalid_0's auc: 0.750012\n",
      "[LightGBM] [Warning] No further splits with positive gain, best gain: -inf\n",
      "[LightGBM] [Warning] No further splits with positive gain, best gain: -inf\n",
      "[LightGBM] [Warning] No further splits with positive gain, best gain: -inf\n",
      "[LightGBM] [Warning] No further splits with positive gain, best gain: -inf\n",
      "[LightGBM] [Warning] No further splits with positive gain, best gain: -inf\n",
      "[35]\tvalid_0's auc: 0.752156\n",
      "[LightGBM] [Warning] No further splits with positive gain, best gain: -inf\n",
      "[LightGBM] [Warning] No further splits with positive gain, best gain: -inf\n",
      "[LightGBM] [Warning] No further splits with positive gain, best gain: -inf\n",
      "[LightGBM] [Warning] No further splits with positive gain, best gain: -inf\n",
      "[LightGBM] [Warning] No further splits with positive gain, best gain: -inf\n",
      "[40]\tvalid_0's auc: 0.753414\n",
      "[LightGBM] [Warning] No further splits with positive gain, best gain: -inf\n",
      "[LightGBM] [Warning] No further splits with positive gain, best gain: -inf\n",
      "[LightGBM] [Warning] No further splits with positive gain, best gain: -inf\n",
      "[LightGBM] [Warning] No further splits with positive gain, best gain: -inf\n",
      "[LightGBM] [Warning] No further splits with positive gain, best gain: -inf\n",
      "[45]\tvalid_0's auc: 0.754998\n",
      "[LightGBM] [Warning] No further splits with positive gain, best gain: -inf\n",
      "[LightGBM] [Warning] No further splits with positive gain, best gain: -inf\n",
      "[LightGBM] [Warning] No further splits with positive gain, best gain: -inf\n",
      "[LightGBM] [Warning] No further splits with positive gain, best gain: -inf\n",
      "[LightGBM] [Warning] No further splits with positive gain, best gain: -inf\n",
      "[50]\tvalid_0's auc: 0.756305\n"
     ]
    }
   ],
   "source": [
    "params = {'objective': 'binary',\n",
    "        'metric': 'binary_logloss',\n",
    "        'learning_rate': 0.1,\n",
    "        'min_gain_to_split': 5,\n",
    "        'num_leaves': 128,\n",
    "        'max_depth': 10,\n",
    "        'bagging_fraction': 0.95,\n",
    "        'bagging_freq': 1,\n",
    "        'bagging_seed': 1,\n",
    "        'metric' : 'auc'}\n",
    "\n",
    "dtrain = lgb.Dataset(X_train0, y_train0)\n",
    "dtrain_watch = lgb.Dataset(X_train0, y_train0)\n",
    "model = lgb.train(params, train_set=dtrain, num_boost_round=50, valid_sets=dtrain_watch, verbose_eval=5,\n",
    "                 categorical_feature=category_cols)"
   ]
  },
  {
   "cell_type": "code",
   "execution_count": 31,
   "metadata": {},
   "outputs": [
    {
     "name": "stdout",
     "output_type": "stream",
     "text": [
      "Test AUC: 0.756\n"
     ]
    }
   ],
   "source": [
    "y_test0_pred = model.predict(X_test)\n",
    "score = roc_auc_score(y_test0, y_test0_pred)\n",
    "print('Test AUC: {:.3f}' .format(score))"
   ]
  },
  {
   "cell_type": "code",
   "execution_count": 16,
   "metadata": {},
   "outputs": [
    {
     "data": {
      "text/plain": [
       "[]"
      ]
     },
     "execution_count": 16,
     "metadata": {},
     "output_type": "execute_result"
    },
    {
     "data": {
      "image/png": "[encoded data removed]",
      "text/plain": [
       "<Figure size 432x288 with 1 Axes>"
      ]
     },
     "metadata": {
      "needs_background": "light"
     },
     "output_type": "display_data"
    }
   ],
   "source": [
    "lgb.plot_importance(model).plot()"
   ]
  },
  {
   "cell_type": "code",
   "execution_count": 32,
   "metadata": {},
   "outputs": [
    {
     "name": "stderr",
     "output_type": "stream",
     "text": [
      "LightGBM binary classifier with TreeExplainer shap values output has changed to a list of ndarray\n"
     ]
    }
   ],
   "source": [
    "shap_values = shap.TreeExplainer(model).shap_values(X_train0)"
   ]
  },
  {
   "cell_type": "code",
   "execution_count": 37,
   "metadata": {},
   "outputs": [
    {
     "data": {
      "image/png": "[encoded data removed]",
      "text/plain": [
       "<Figure size 576x684 with 1 Axes>"
      ]
     },
     "metadata": {
      "needs_background": "light"
     },
     "output_type": "display_data"
    }
   ],
   "source": [
    "shap.summary_plot(shap_values, X_train0)"
   ]
  },
  {
   "cell_type": "markdown",
   "metadata": {},
   "source": [
    "Shapley values и использование internal feature significance выделили примерно одинаковый по составу top-10, \n",
    "но внутри него фичи перемешаны. Кажется порядок фичей и сами фичи, выделенные с помощью shap values, более логичны: например, msno не\n",
    "должен быть определяющим фактором и возраст пользователей скорее всего ни на что не влияет. Кроме того, можно заметить, что для обоих классов все фичи имеют приблизительно одинаковую важность. Возьмем 11 наиболее важных факторов."
   ]
  },
  {
   "cell_type": "code",
   "execution_count": 10,
   "metadata": {},
   "outputs": [],
   "source": [
    "X = data[['song_repeated_rate', 'source_type', 'msno', 'source_system_tab', 'source_screen_name', 'song_id', \n",
    "          'expiration_year', 'genre_ids', 'membership_duration_m', 'artist_repeated_rate', 'artist_name']]\n",
    "y = data['target']\n",
    "\n",
    "category_cols = ['msno', 'song_id', 'source_system_tab', 'source_screen_name', 'source_type', \n",
    "                 'genre_ids', 'artist_name']"
   ]
  },
  {
   "cell_type": "code",
   "execution_count": 13,
   "metadata": {},
   "outputs": [],
   "source": [
    "params = {'objective': 'binary',\n",
    "          'learning_rate': 0.1, \n",
    "          'min_gain_to_split': 0,\n",
    "          'min_child_weight': 2, \n",
    "          'max_depth': 10,\n",
    "          'subsample': 0.8,\n",
    "          'subsample_freq': 1,\n",
    "          'colsample_bytree': 0.8,\n",
    "          'n_estimators': 150}"
   ]
  },
  {
   "cell_type": "markdown",
   "metadata": {},
   "source": [
    "#### max_depth_range и min_child_weight"
   ]
  },
  {
   "cell_type": "code",
   "execution_count": 14,
   "metadata": {},
   "outputs": [
    {
     "name": "stdout",
     "output_type": "stream",
     "text": [
      "Fitting 1 folds for each of 9 candidates, totalling 9 fits\n"
     ]
    },
    {
     "name": "stderr",
     "output_type": "stream",
     "text": [
      "[Parallel(n_jobs=1)]: Using backend SequentialBackend with 1 concurrent workers.\n"
     ]
    },
    {
     "name": "stdout",
     "output_type": "stream",
     "text": [
      "[LightGBM] [Warning] min_gain_to_split is set=0, min_split_gain=0.0 will be ignored. Current value: min_gain_to_split=0\n",
      "[LightGBM] [Warning] Accuracy may be bad since you didn't set num_leaves and 2^max_depth > num_leaves\n",
      "[LightGBM] [Warning] min_gain_to_split is set=0, min_split_gain=0.0 will be ignored. Current value: min_gain_to_split=0\n",
      "[LightGBM] [Warning] Accuracy may be bad since you didn't set num_leaves and 2^max_depth > num_leaves\n",
      "[LightGBM] [Warning] min_gain_to_split is set=0, min_split_gain=0.0 will be ignored. Current value: min_gain_to_split=0\n",
      "[LightGBM] [Warning] Accuracy may be bad since you didn't set num_leaves and 2^max_depth > num_leaves\n",
      "[LightGBM] [Warning] min_gain_to_split is set=0, min_split_gain=0.0 will be ignored. Current value: min_gain_to_split=0\n",
      "[LightGBM] [Warning] Accuracy may be bad since you didn't set num_leaves and 2^max_depth > num_leaves\n",
      "[LightGBM] [Warning] min_gain_to_split is set=0, min_split_gain=0.0 will be ignored. Current value: min_gain_to_split=0\n",
      "[LightGBM] [Warning] Accuracy may be bad since you didn't set num_leaves and 2^max_depth > num_leaves\n",
      "[LightGBM] [Warning] min_gain_to_split is set=0, min_split_gain=0.0 will be ignored. Current value: min_gain_to_split=0\n",
      "[LightGBM] [Warning] Accuracy may be bad since you didn't set num_leaves and 2^max_depth > num_leaves\n",
      "[LightGBM] [Warning] min_gain_to_split is set=0, min_split_gain=0.0 will be ignored. Current value: min_gain_to_split=0\n",
      "[LightGBM] [Warning] Accuracy may be bad since you didn't set num_leaves and 2^max_depth > num_leaves\n",
      "[LightGBM] [Warning] min_gain_to_split is set=0, min_split_gain=0.0 will be ignored. Current value: min_gain_to_split=0\n",
      "[LightGBM] [Warning] Accuracy may be bad since you didn't set num_leaves and 2^max_depth > num_leaves\n"
     ]
    },
    {
     "name": "stderr",
     "output_type": "stream",
     "text": [
      "[Parallel(n_jobs=1)]: Done   9 out of   9 | elapsed: 30.0min finished\n"
     ]
    },
    {
     "name": "stdout",
     "output_type": "stream",
     "text": [
      "[LightGBM] [Warning] min_gain_to_split is set=0, min_split_gain=0.0 will be ignored. Current value: min_gain_to_split=0\n",
      "[LightGBM] [Warning] Accuracy may be bad since you didn't set num_leaves and 2^max_depth > num_leaves\n"
     ]
    },
    {
     "data": {
      "text/plain": [
       "([{'max_depth': 6, 'min_child_weight': 2},\n",
       "  {'max_depth': 6, 'min_child_weight': 4},\n",
       "  {'max_depth': 6, 'min_child_weight': 6},\n",
       "  {'max_depth': 8, 'min_child_weight': 2},\n",
       "  {'max_depth': 8, 'min_child_weight': 4},\n",
       "  {'max_depth': 8, 'min_child_weight': 6},\n",
       "  {'max_depth': 10, 'min_child_weight': 2},\n",
       "  {'max_depth': 10, 'min_child_weight': 4},\n",
       "  {'max_depth': 10, 'min_child_weight': 6}],\n",
       " array([0.75240682, 0.75246514, 0.75244557, 0.7585929 , 0.7586529 ,\n",
       "        0.75840956, 0.76290332, 0.76293653, 0.76289856]),\n",
       " {'max_depth': 10, 'min_child_weight': 4})"
      ]
     },
     "execution_count": 14,
     "metadata": {},
     "output_type": "execute_result"
    }
   ],
   "source": [
    "params1 = {'max_depth': range(6, 11, 2),\n",
    "           'min_child_weight': range(2, 7, 2)}\n",
    "\n",
    "train_test_split = ShuffleSplit(test_size=0.2, n_splits=1)\n",
    "gsearch1 = GridSearchCV(estimator=lgb.LGBMClassifier(**params), \n",
    "                        param_grid=params1, \n",
    "                        scoring='roc_auc', \n",
    "                        cv=train_test_split,  \n",
    "                        verbose=1)\n",
    "\n",
    "gsearch1.fit(X, y)\n",
    "gsearch1.cv_results_['params'], gsearch1.cv_results_['split0_test_score'], gsearch1.best_params_"
   ]
  },
  {
   "cell_type": "code",
   "execution_count": 15,
   "metadata": {},
   "outputs": [],
   "source": [
    "params['max_depth'] = gsearch1.best_params_['max_depth']\n",
    "params['min_child_weight'] = gsearch1.best_params_['min_child_weight']"
   ]
  },
  {
   "cell_type": "markdown",
   "metadata": {},
   "source": [
    "#### gamma"
   ]
  },
  {
   "cell_type": "code",
   "execution_count": 18,
   "metadata": {},
   "outputs": [
    {
     "name": "stdout",
     "output_type": "stream",
     "text": [
      "Fitting 1 folds for each of 5 candidates, totalling 5 fits\n"
     ]
    },
    {
     "name": "stderr",
     "output_type": "stream",
     "text": [
      "[Parallel(n_jobs=1)]: Using backend SequentialBackend with 1 concurrent workers.\n"
     ]
    },
    {
     "name": "stdout",
     "output_type": "stream",
     "text": [
      "[CV] min_gain_to_split=0.0 ...........................................\n",
      "[CV] ............................ min_gain_to_split=0.0, total= 3.7min\n",
      "[CV] min_gain_to_split=0.1 ...........................................\n"
     ]
    },
    {
     "name": "stderr",
     "output_type": "stream",
     "text": [
      "[Parallel(n_jobs=1)]: Done   1 out of   1 | elapsed:  3.7min remaining:    0.0s\n"
     ]
    },
    {
     "name": "stdout",
     "output_type": "stream",
     "text": [
      "[LightGBM] [Warning] min_gain_to_split is set=0.1, min_split_gain=0.0 will be ignored. Current value: min_gain_to_split=0.1\n",
      "[LightGBM] [Warning] Accuracy may be bad since you didn't set num_leaves and 2^max_depth > num_leaves\n",
      "[CV] ............................ min_gain_to_split=0.1, total= 3.6min\n",
      "[CV] min_gain_to_split=0.2 ...........................................\n",
      "[LightGBM] [Warning] min_gain_to_split is set=0.2, min_split_gain=0.0 will be ignored. Current value: min_gain_to_split=0.2\n",
      "[LightGBM] [Warning] Accuracy may be bad since you didn't set num_leaves and 2^max_depth > num_leaves\n",
      "[CV] ............................ min_gain_to_split=0.2, total= 3.7min\n",
      "[CV] min_gain_to_split=0.3 ...........................................\n",
      "[LightGBM] [Warning] min_gain_to_split is set=0.3, min_split_gain=0.0 will be ignored. Current value: min_gain_to_split=0.3\n",
      "[LightGBM] [Warning] Accuracy may be bad since you didn't set num_leaves and 2^max_depth > num_leaves\n",
      "[CV] ............................ min_gain_to_split=0.3, total= 3.7min\n",
      "[CV] min_gain_to_split=0.4 ...........................................\n",
      "[LightGBM] [Warning] min_gain_to_split is set=0.4, min_split_gain=0.0 will be ignored. Current value: min_gain_to_split=0.4\n",
      "[LightGBM] [Warning] Accuracy may be bad since you didn't set num_leaves and 2^max_depth > num_leaves\n",
      "[CV] ............................ min_gain_to_split=0.4, total= 3.6min\n"
     ]
    },
    {
     "name": "stderr",
     "output_type": "stream",
     "text": [
      "[Parallel(n_jobs=1)]: Done   5 out of   5 | elapsed: 18.3min finished\n"
     ]
    },
    {
     "name": "stdout",
     "output_type": "stream",
     "text": [
      "[LightGBM] [Warning] min_gain_to_split is set=0.1, min_split_gain=0.0 will be ignored. Current value: min_gain_to_split=0.1\n",
      "[LightGBM] [Warning] Accuracy may be bad since you didn't set num_leaves and 2^max_depth > num_leaves\n"
     ]
    },
    {
     "data": {
      "text/plain": [
       "([{'min_gain_to_split': 0.0},\n",
       "  {'min_gain_to_split': 0.1},\n",
       "  {'min_gain_to_split': 0.2},\n",
       "  {'min_gain_to_split': 0.3},\n",
       "  {'min_gain_to_split': 0.4}],\n",
       " array([0.76318381, 0.76330753, 0.76312431, 0.76311061, 0.763211  ]),\n",
       " {'min_gain_to_split': 0.1})"
      ]
     },
     "execution_count": 18,
     "metadata": {},
     "output_type": "execute_result"
    }
   ],
   "source": [
    "params2 = {'min_gain_to_split': [i / 10.0 for i in range(0,5)]}\n",
    "\n",
    "train_test_split = ShuffleSplit(test_size=0.2, n_splits=1)\n",
    "gsearch2 = GridSearchCV(estimator=lgb.LGBMClassifier(**params), \n",
    "                        param_grid=params2, \n",
    "                        scoring='roc_auc', \n",
    "                        cv=train_test_split,  \n",
    "                        verbose=2)\n",
    "\n",
    "gsearch2.fit(X, y)\n",
    "gsearch2.cv_results_['params'], gsearch2.cv_results_['split0_test_score'], gsearch2.best_params_"
   ]
  },
  {
   "cell_type": "code",
   "execution_count": null,
   "metadata": {},
   "outputs": [],
   "source": [
    "params['min_gain_to_split'] = gsearch2.best_params_['min_gain_to_split']"
   ]
  },
  {
   "cell_type": "markdown",
   "metadata": {},
   "source": [
    "#### subsample"
   ]
  },
  {
   "cell_type": "code",
   "execution_count": 22,
   "metadata": {},
   "outputs": [
    {
     "name": "stdout",
     "output_type": "stream",
     "text": [
      "Fitting 1 folds for each of 9 candidates, totalling 9 fits\n"
     ]
    },
    {
     "name": "stderr",
     "output_type": "stream",
     "text": [
      "[Parallel(n_jobs=1)]: Using backend SequentialBackend with 1 concurrent workers.\n"
     ]
    },
    {
     "name": "stdout",
     "output_type": "stream",
     "text": [
      "[CV] colsample_bytree=0.8, subsample=0.8 .............................\n",
      "[CV] .............. colsample_bytree=0.8, subsample=0.8, total= 4.3min\n",
      "[CV] colsample_bytree=0.8, subsample=0.9 .............................\n"
     ]
    },
    {
     "name": "stderr",
     "output_type": "stream",
     "text": [
      "[Parallel(n_jobs=1)]: Done   1 out of   1 | elapsed:  4.3min remaining:    0.0s\n"
     ]
    },
    {
     "name": "stdout",
     "output_type": "stream",
     "text": [
      "[LightGBM] [Warning] min_gain_to_split is set=0.1, min_split_gain=0.0 will be ignored. Current value: min_gain_to_split=0.1\n",
      "[LightGBM] [Warning] Accuracy may be bad since you didn't set num_leaves and 2^max_depth > num_leaves\n",
      "[CV] .............. colsample_bytree=0.8, subsample=0.9, total= 3.9min\n",
      "[CV] colsample_bytree=0.8, subsample=1.0 .............................\n",
      "[LightGBM] [Warning] min_gain_to_split is set=0.1, min_split_gain=0.0 will be ignored. Current value: min_gain_to_split=0.1\n",
      "[LightGBM] [Warning] Accuracy may be bad since you didn't set num_leaves and 2^max_depth > num_leaves\n",
      "[CV] .............. colsample_bytree=0.8, subsample=1.0, total= 3.8min\n",
      "[CV] colsample_bytree=0.9, subsample=0.8 .............................\n",
      "[LightGBM] [Warning] min_gain_to_split is set=0.1, min_split_gain=0.0 will be ignored. Current value: min_gain_to_split=0.1\n",
      "[LightGBM] [Warning] Accuracy may be bad since you didn't set num_leaves and 2^max_depth > num_leaves\n",
      "[CV] .............. colsample_bytree=0.9, subsample=0.8, total= 4.3min\n",
      "[CV] colsample_bytree=0.9, subsample=0.9 .............................\n",
      "[LightGBM] [Warning] min_gain_to_split is set=0.1, min_split_gain=0.0 will be ignored. Current value: min_gain_to_split=0.1\n",
      "[LightGBM] [Warning] Accuracy may be bad since you didn't set num_leaves and 2^max_depth > num_leaves\n",
      "[CV] .............. colsample_bytree=0.9, subsample=0.9, total= 3.7min\n",
      "[CV] colsample_bytree=0.9, subsample=1.0 .............................\n",
      "[LightGBM] [Warning] min_gain_to_split is set=0.1, min_split_gain=0.0 will be ignored. Current value: min_gain_to_split=0.1\n",
      "[LightGBM] [Warning] Accuracy may be bad since you didn't set num_leaves and 2^max_depth > num_leaves\n",
      "[CV] .............. colsample_bytree=0.9, subsample=1.0, total= 4.3min\n",
      "[CV] colsample_bytree=1.0, subsample=0.8 .............................\n",
      "[LightGBM] [Warning] min_gain_to_split is set=0.1, min_split_gain=0.0 will be ignored. Current value: min_gain_to_split=0.1\n",
      "[LightGBM] [Warning] Accuracy may be bad since you didn't set num_leaves and 2^max_depth > num_leaves\n",
      "[CV] .............. colsample_bytree=1.0, subsample=0.8, total= 4.5min\n",
      "[CV] colsample_bytree=1.0, subsample=0.9 .............................\n",
      "[LightGBM] [Warning] min_gain_to_split is set=0.1, min_split_gain=0.0 will be ignored. Current value: min_gain_to_split=0.1\n",
      "[LightGBM] [Warning] Accuracy may be bad since you didn't set num_leaves and 2^max_depth > num_leaves\n",
      "[CV] .............. colsample_bytree=1.0, subsample=0.9, total= 4.7min\n",
      "[CV] colsample_bytree=1.0, subsample=1.0 .............................\n",
      "[LightGBM] [Warning] min_gain_to_split is set=0.1, min_split_gain=0.0 will be ignored. Current value: min_gain_to_split=0.1\n",
      "[LightGBM] [Warning] Accuracy may be bad since you didn't set num_leaves and 2^max_depth > num_leaves\n",
      "[CV] .............. colsample_bytree=1.0, subsample=1.0, total= 4.4min\n"
     ]
    },
    {
     "name": "stderr",
     "output_type": "stream",
     "text": [
      "[Parallel(n_jobs=1)]: Done   9 out of   9 | elapsed: 38.0min finished\n"
     ]
    },
    {
     "name": "stdout",
     "output_type": "stream",
     "text": [
      "[LightGBM] [Warning] min_gain_to_split is set=0.1, min_split_gain=0.0 will be ignored. Current value: min_gain_to_split=0.1\n",
      "[LightGBM] [Warning] Accuracy may be bad since you didn't set num_leaves and 2^max_depth > num_leaves\n"
     ]
    },
    {
     "data": {
      "text/plain": [
       "([{'colsample_bytree': 0.8, 'subsample': 0.8},\n",
       "  {'colsample_bytree': 0.8, 'subsample': 0.9},\n",
       "  {'colsample_bytree': 0.8, 'subsample': 1.0},\n",
       "  {'colsample_bytree': 0.9, 'subsample': 0.8},\n",
       "  {'colsample_bytree': 0.9, 'subsample': 0.9},\n",
       "  {'colsample_bytree': 0.9, 'subsample': 1.0},\n",
       "  {'colsample_bytree': 1.0, 'subsample': 0.8},\n",
       "  {'colsample_bytree': 1.0, 'subsample': 0.9},\n",
       "  {'colsample_bytree': 1.0, 'subsample': 1.0}],\n",
       " array([0.76244703, 0.76265508, 0.76235655, 0.76475304, 0.76475539,\n",
       "        0.76447113, 0.76576831, 0.76555155, 0.76598415]),\n",
       " {'colsample_bytree': 1.0, 'subsample': 1.0})"
      ]
     },
     "execution_count": 22,
     "metadata": {},
     "output_type": "execute_result"
    }
   ],
   "source": [
    "params3 = {'subsample': [i / 10.0 for i in range(8, 11)],\n",
    "          'colsample_bytree': [i / 10.0 for i in range(8, 11)]}\n",
    "\n",
    "train_test_split = ShuffleSplit(test_size=0.2, n_splits=1)\n",
    "gsearch3 = GridSearchCV(estimator=lgb.LGBMClassifier(**params), \n",
    "                        param_grid=params3, \n",
    "                        scoring='roc_auc', \n",
    "                        cv=train_test_split,  \n",
    "                        verbose=2)\n",
    "\n",
    "gsearch3.fit(X, y)\n",
    "gsearch3.cv_results_['params'], gsearch3.cv_results_['split0_test_score'], gsearch3.best_params_"
   ]
  },
  {
   "cell_type": "code",
   "execution_count": 23,
   "metadata": {},
   "outputs": [],
   "source": [
    "del params['subsample'], params['colsample_bytree'] "
   ]
  },
  {
   "cell_type": "markdown",
   "metadata": {},
   "source": [
    "#### regularization"
   ]
  },
  {
   "cell_type": "code",
   "execution_count": 25,
   "metadata": {},
   "outputs": [
    {
     "name": "stdout",
     "output_type": "stream",
     "text": [
      "Fitting 1 folds for each of 4 candidates, totalling 4 fits\n"
     ]
    },
    {
     "name": "stderr",
     "output_type": "stream",
     "text": [
      "[Parallel(n_jobs=1)]: Using backend SequentialBackend with 1 concurrent workers.\n"
     ]
    },
    {
     "name": "stdout",
     "output_type": "stream",
     "text": [
      "[CV] reg_alpha=0.001 .................................................\n",
      "[CV] .................................. reg_alpha=0.001, total= 4.3min\n",
      "[CV] reg_alpha=0.01 ..................................................\n"
     ]
    },
    {
     "name": "stderr",
     "output_type": "stream",
     "text": [
      "[Parallel(n_jobs=1)]: Done   1 out of   1 | elapsed:  4.3min remaining:    0.0s\n"
     ]
    },
    {
     "name": "stdout",
     "output_type": "stream",
     "text": [
      "[LightGBM] [Warning] min_gain_to_split is set=0.1, min_split_gain=0.0 will be ignored. Current value: min_gain_to_split=0.1\n",
      "[LightGBM] [Warning] Accuracy may be bad since you didn't set num_leaves and 2^max_depth > num_leaves\n",
      "[CV] ................................... reg_alpha=0.01, total= 5.0min\n",
      "[CV] reg_alpha=0.1 ...................................................\n",
      "[LightGBM] [Warning] min_gain_to_split is set=0.1, min_split_gain=0.0 will be ignored. Current value: min_gain_to_split=0.1\n",
      "[LightGBM] [Warning] Accuracy may be bad since you didn't set num_leaves and 2^max_depth > num_leaves\n",
      "[CV] .................................... reg_alpha=0.1, total= 3.8min\n",
      "[CV] reg_alpha=1 .....................................................\n",
      "[LightGBM] [Warning] min_gain_to_split is set=0.1, min_split_gain=0.0 will be ignored. Current value: min_gain_to_split=0.1\n",
      "[LightGBM] [Warning] Accuracy may be bad since you didn't set num_leaves and 2^max_depth > num_leaves\n",
      "[CV] ...................................... reg_alpha=1, total= 3.8min\n"
     ]
    },
    {
     "name": "stderr",
     "output_type": "stream",
     "text": [
      "[Parallel(n_jobs=1)]: Done   4 out of   4 | elapsed: 16.9min finished\n"
     ]
    },
    {
     "name": "stdout",
     "output_type": "stream",
     "text": [
      "[LightGBM] [Warning] min_gain_to_split is set=0.1, min_split_gain=0.0 will be ignored. Current value: min_gain_to_split=0.1\n",
      "[LightGBM] [Warning] Accuracy may be bad since you didn't set num_leaves and 2^max_depth > num_leaves\n"
     ]
    },
    {
     "data": {
      "text/plain": [
       "([{'reg_alpha': 0.001},\n",
       "  {'reg_alpha': 0.01},\n",
       "  {'reg_alpha': 0.1},\n",
       "  {'reg_alpha': 1}],\n",
       " array([0.76628891, 0.76537405, 0.76574517, 0.76534733]),\n",
       " {'reg_alpha': 0.001})"
      ]
     },
     "execution_count": 25,
     "metadata": {},
     "output_type": "execute_result"
    }
   ],
   "source": [
    "params4 = {'reg_alpha': [1e-3, 1e-2, 1e-1, 1]}\n",
    "\n",
    "train_test_split = ShuffleSplit(test_size=0.2, n_splits=1)\n",
    "gsearch4 = GridSearchCV(estimator=lgb.LGBMClassifier(**params), \n",
    "                        param_grid=params4, \n",
    "                        scoring='roc_auc', \n",
    "                        cv=train_test_split,  \n",
    "                        verbose=2)\n",
    "\n",
    "gsearch4.fit(X, y)\n",
    "gsearch4.cv_results_['params'], gsearch4.cv_results_['split0_test_score'], gsearch4.best_params_"
   ]
  },
  {
   "cell_type": "code",
   "execution_count": 26,
   "metadata": {},
   "outputs": [],
   "source": [
    "params['reg_alpha'] = gsearch4.best_params_['reg_alpha']"
   ]
  },
  {
   "cell_type": "code",
   "execution_count": 27,
   "metadata": {},
   "outputs": [
    {
     "data": {
      "text/plain": [
       "{'learning_rate': 0.1,\n",
       " 'max_depth': 10,\n",
       " 'min_child_weight': 4,\n",
       " 'min_gain_to_split': 0.1,\n",
       " 'n_estimators': 150,\n",
       " 'objective': 'binary',\n",
       " 'reg_alpha': 0.001,\n",
       " 'subsample_freq': 1}"
      ]
     },
     "execution_count": 27,
     "metadata": {},
     "output_type": "execute_result"
    }
   ],
   "source": [
    "params"
   ]
  },
  {
   "cell_type": "markdown",
   "metadata": {},
   "source": [
    "#### Финальная версия"
   ]
  },
  {
   "cell_type": "code",
   "execution_count": 37,
   "metadata": {
    "scrolled": true
   },
   "outputs": [
    {
     "name": "stderr",
     "output_type": "stream",
     "text": [
      "Found `n_estimators` in params. Will use it instead of argument\n",
      "categorical_feature in Dataset is overridden.\n",
      "New categorical_feature is ['artist_name', 'genre_ids', 'msno', 'song_id', 'source_screen_name', 'source_system_tab', 'source_type']\n",
      "silent keyword has been found in `params` and will be ignored.\n",
      "Please use silent argument of the Dataset constructor to pass this parameter.\n"
     ]
    },
    {
     "name": "stdout",
     "output_type": "stream",
     "text": [
      "[LightGBM] [Warning] Unknown parameter: silent\n",
      "[LightGBM] [Warning] Accuracy may be bad since you didn't set num_leaves and 2^max_depth > num_leaves\n",
      "[LightGBM] [Warning] Unknown parameter: silent\n",
      "[LightGBM] [Warning] Accuracy may be bad since you didn't set num_leaves and 2^max_depth > num_leaves\n",
      "[LightGBM] [Info] Number of positive: 2971634, number of negative: 2930300\n",
      "[LightGBM] [Warning] Auto-choosing row-wise multi-threading, the overhead of testing was 0.265960 seconds.\n",
      "You can set `force_row_wise=true` to remove the overhead.\n",
      "And if memory is not enough, you can set `force_col_wise=true`.\n",
      "[LightGBM] [Info] Total Bins 33205\n",
      "[LightGBM] [Info] Number of data points in the train set: 5901934, number of used features: 11\n"
     ]
    },
    {
     "name": "stderr",
     "output_type": "stream",
     "text": [
      "Overriding the parameters from Reference Dataset.\n",
      "categorical_column in param dict is overridden.\n"
     ]
    },
    {
     "name": "stdout",
     "output_type": "stream",
     "text": [
      "[LightGBM] [Warning] Unknown parameter: silent\n",
      "[LightGBM] [Warning] Accuracy may be bad since you didn't set num_leaves and 2^max_depth > num_leaves\n",
      "[LightGBM] [Info] [binary:BoostFromScore]: pavg=0.503502 -> initscore=0.014007\n",
      "[LightGBM] [Info] Start training from score 0.014007\n",
      "[20]\tvalid_0's auc: 0.721094\n",
      "[40]\tvalid_0's auc: 0.732108\n",
      "[60]\tvalid_0's auc: 0.740624\n",
      "[80]\tvalid_0's auc: 0.746072\n",
      "[100]\tvalid_0's auc: 0.74968\n",
      "[120]\tvalid_0's auc: 0.75223\n",
      "[140]\tvalid_0's auc: 0.754954\n",
      "[160]\tvalid_0's auc: 0.757736\n",
      "[180]\tvalid_0's auc: 0.760049\n",
      "[200]\tvalid_0's auc: 0.761941\n",
      "[220]\tvalid_0's auc: 0.763728\n",
      "[240]\tvalid_0's auc: 0.7655\n",
      "[260]\tvalid_0's auc: 0.767399\n",
      "[280]\tvalid_0's auc: 0.769175\n",
      "[300]\tvalid_0's auc: 0.77076\n",
      "[320]\tvalid_0's auc: 0.772199\n",
      "[340]\tvalid_0's auc: 0.773654\n",
      "[360]\tvalid_0's auc: 0.774822\n",
      "[380]\tvalid_0's auc: 0.776192\n",
      "[400]\tvalid_0's auc: 0.777315\n",
      "[420]\tvalid_0's auc: 0.778636\n",
      "[440]\tvalid_0's auc: 0.779503\n",
      "[460]\tvalid_0's auc: 0.780429\n",
      "[480]\tvalid_0's auc: 0.78133\n",
      "[500]\tvalid_0's auc: 0.782291\n"
     ]
    }
   ],
   "source": [
    "params['metric'] = 'auc'\n",
    "dtrain = lgb.Dataset(X_train, y_train)\n",
    "dtrain_watch = lgb.Dataset(X_train, y_train)\n",
    "model = lgb.train(params, train_set=dtrain, num_boost_round=1000, valid_sets=dtrain_watch, verbose_eval=20,\n",
    "         categorical_feature=category_cols)"
   ]
  },
  {
   "cell_type": "code",
   "execution_count": 39,
   "metadata": {},
   "outputs": [
    {
     "name": "stdout",
     "output_type": "stream",
     "text": [
      "Test AUC: 0.775\n"
     ]
    }
   ],
   "source": [
    "y_test_pred = model.predict(X_test)\n",
    "score = roc_auc_score(y_test, y_test_pred)\n",
    "print('Test AUC: {:.3f}' .format(score))"
   ]
  },
  {
   "cell_type": "code",
   "execution_count": 47,
   "metadata": {},
   "outputs": [
    {
     "name": "stderr",
     "output_type": "stream",
     "text": [
      "Found `n_estimators` in params. Will use it instead of argument\n",
      "categorical_feature in Dataset is overridden.\n",
      "New categorical_feature is ['artist_name', 'genre_ids', 'msno', 'song_id', 'source_screen_name', 'source_system_tab', 'source_type']\n"
     ]
    },
    {
     "name": "stdout",
     "output_type": "stream",
     "text": [
      "[LightGBM] [Warning] Accuracy may be bad since you didn't set num_leaves and 2^max_depth > num_leaves\n",
      "[LightGBM] [Warning] Accuracy may be bad since you didn't set num_leaves and 2^max_depth > num_leaves\n",
      "[LightGBM] [Info] Number of positive: 2971020, number of negative: 2930914\n",
      "[LightGBM] [Warning] Auto-choosing row-wise multi-threading, the overhead of testing was 0.209153 seconds.\n",
      "You can set `force_row_wise=true` to remove the overhead.\n",
      "And if memory is not enough, you can set `force_col_wise=true`.\n",
      "[LightGBM] [Info] Total Bins 33211\n",
      "[LightGBM] [Info] Number of data points in the train set: 5901934, number of used features: 11\n"
     ]
    },
    {
     "name": "stderr",
     "output_type": "stream",
     "text": [
      "Overriding the parameters from Reference Dataset.\n",
      "categorical_column in param dict is overridden.\n"
     ]
    },
    {
     "name": "stdout",
     "output_type": "stream",
     "text": [
      "[LightGBM] [Warning] Accuracy may be bad since you didn't set num_leaves and 2^max_depth > num_leaves\n",
      "[LightGBM] [Info] [binary:BoostFromScore]: pavg=0.503398 -> initscore=0.013591\n",
      "[LightGBM] [Info] Start training from score 0.013591\n",
      "[50]\tvalid_0's auc: 0.736586\n",
      "[100]\tvalid_0's auc: 0.749636\n",
      "[150]\tvalid_0's auc: 0.756671\n",
      "[200]\tvalid_0's auc: 0.762153\n",
      "[250]\tvalid_0's auc: 0.766598\n",
      "[300]\tvalid_0's auc: 0.770603\n",
      "[350]\tvalid_0's auc: 0.774506\n",
      "[400]\tvalid_0's auc: 0.777472\n",
      "[450]\tvalid_0's auc: 0.780531\n",
      "[500]\tvalid_0's auc: 0.782818\n",
      "Test AUC: 0.776\n"
     ]
    },
    {
     "name": "stderr",
     "output_type": "stream",
     "text": [
      "Found `n_estimators` in params. Will use it instead of argument\n",
      "categorical_feature in Dataset is overridden.\n",
      "New categorical_feature is ['artist_name', 'genre_ids', 'msno', 'song_id', 'source_screen_name', 'source_system_tab', 'source_type']\n"
     ]
    },
    {
     "name": "stdout",
     "output_type": "stream",
     "text": [
      "[LightGBM] [Warning] Accuracy may be bad since you didn't set num_leaves and 2^max_depth > num_leaves\n",
      "[LightGBM] [Warning] Accuracy may be bad since you didn't set num_leaves and 2^max_depth > num_leaves\n",
      "[LightGBM] [Info] Number of positive: 2971034, number of negative: 2930900\n",
      "[LightGBM] [Warning] Auto-choosing row-wise multi-threading, the overhead of testing was 0.209116 seconds.\n",
      "You can set `force_row_wise=true` to remove the overhead.\n",
      "And if memory is not enough, you can set `force_col_wise=true`.\n",
      "[LightGBM] [Info] Total Bins 33268\n",
      "[LightGBM] [Info] Number of data points in the train set: 5901934, number of used features: 11\n"
     ]
    },
    {
     "name": "stderr",
     "output_type": "stream",
     "text": [
      "Overriding the parameters from Reference Dataset.\n",
      "categorical_column in param dict is overridden.\n"
     ]
    },
    {
     "name": "stdout",
     "output_type": "stream",
     "text": [
      "[LightGBM] [Warning] Accuracy may be bad since you didn't set num_leaves and 2^max_depth > num_leaves\n",
      "[LightGBM] [Info] [binary:BoostFromScore]: pavg=0.503400 -> initscore=0.013600\n",
      "[LightGBM] [Info] Start training from score 0.013600\n",
      "[50]\tvalid_0's auc: 0.736757\n",
      "[100]\tvalid_0's auc: 0.749278\n",
      "[150]\tvalid_0's auc: 0.756464\n",
      "[200]\tvalid_0's auc: 0.762174\n",
      "[250]\tvalid_0's auc: 0.766557\n",
      "[300]\tvalid_0's auc: 0.770344\n",
      "[350]\tvalid_0's auc: 0.773672\n",
      "[400]\tvalid_0's auc: 0.776421\n",
      "[450]\tvalid_0's auc: 0.779187\n",
      "[500]\tvalid_0's auc: 0.781799\n",
      "Test AUC: 0.775\n"
     ]
    },
    {
     "name": "stderr",
     "output_type": "stream",
     "text": [
      "Found `n_estimators` in params. Will use it instead of argument\n",
      "categorical_feature in Dataset is overridden.\n",
      "New categorical_feature is ['artist_name', 'genre_ids', 'msno', 'song_id', 'source_screen_name', 'source_system_tab', 'source_type']\n"
     ]
    },
    {
     "name": "stdout",
     "output_type": "stream",
     "text": [
      "[LightGBM] [Warning] Accuracy may be bad since you didn't set num_leaves and 2^max_depth > num_leaves\n",
      "[LightGBM] [Warning] Accuracy may be bad since you didn't set num_leaves and 2^max_depth > num_leaves\n",
      "[LightGBM] [Info] Number of positive: 2972296, number of negative: 2929638\n",
      "[LightGBM] [Warning] Auto-choosing row-wise multi-threading, the overhead of testing was 0.216499 seconds.\n",
      "You can set `force_row_wise=true` to remove the overhead.\n",
      "And if memory is not enough, you can set `force_col_wise=true`.\n",
      "[LightGBM] [Info] Total Bins 33364\n",
      "[LightGBM] [Info] Number of data points in the train set: 5901934, number of used features: 11\n"
     ]
    },
    {
     "name": "stderr",
     "output_type": "stream",
     "text": [
      "Overriding the parameters from Reference Dataset.\n",
      "categorical_column in param dict is overridden.\n"
     ]
    },
    {
     "name": "stdout",
     "output_type": "stream",
     "text": [
      "[LightGBM] [Warning] Accuracy may be bad since you didn't set num_leaves and 2^max_depth > num_leaves\n",
      "[LightGBM] [Info] [binary:BoostFromScore]: pavg=0.503614 -> initscore=0.014456\n",
      "[LightGBM] [Info] Start training from score 0.014456\n",
      "[50]\tvalid_0's auc: 0.736854\n",
      "[100]\tvalid_0's auc: 0.749869\n",
      "[150]\tvalid_0's auc: 0.756764\n",
      "[200]\tvalid_0's auc: 0.762546\n",
      "[250]\tvalid_0's auc: 0.766765\n",
      "[300]\tvalid_0's auc: 0.770501\n",
      "[350]\tvalid_0's auc: 0.773845\n",
      "[400]\tvalid_0's auc: 0.777259\n",
      "[450]\tvalid_0's auc: 0.780126\n",
      "[500]\tvalid_0's auc: 0.782599\n",
      "Test AUC: 0.776\n"
     ]
    },
    {
     "name": "stderr",
     "output_type": "stream",
     "text": [
      "Found `n_estimators` in params. Will use it instead of argument\n",
      "categorical_feature in Dataset is overridden.\n",
      "New categorical_feature is ['artist_name', 'genre_ids', 'msno', 'song_id', 'source_screen_name', 'source_system_tab', 'source_type']\n"
     ]
    },
    {
     "name": "stdout",
     "output_type": "stream",
     "text": [
      "[LightGBM] [Warning] Accuracy may be bad since you didn't set num_leaves and 2^max_depth > num_leaves\n",
      "[LightGBM] [Warning] Accuracy may be bad since you didn't set num_leaves and 2^max_depth > num_leaves\n",
      "[LightGBM] [Info] Number of positive: 2972325, number of negative: 2929610\n",
      "[LightGBM] [Warning] Auto-choosing row-wise multi-threading, the overhead of testing was 0.214360 seconds.\n",
      "You can set `force_row_wise=true` to remove the overhead.\n",
      "And if memory is not enough, you can set `force_col_wise=true`.\n",
      "[LightGBM] [Info] Total Bins 33242\n",
      "[LightGBM] [Info] Number of data points in the train set: 5901935, number of used features: 11\n"
     ]
    },
    {
     "name": "stderr",
     "output_type": "stream",
     "text": [
      "Overriding the parameters from Reference Dataset.\n",
      "categorical_column in param dict is overridden.\n"
     ]
    },
    {
     "name": "stdout",
     "output_type": "stream",
     "text": [
      "[LightGBM] [Warning] Accuracy may be bad since you didn't set num_leaves and 2^max_depth > num_leaves\n",
      "[LightGBM] [Info] [binary:BoostFromScore]: pavg=0.503619 -> initscore=0.014475\n",
      "[LightGBM] [Info] Start training from score 0.014475\n",
      "[50]\tvalid_0's auc: 0.736725\n",
      "[100]\tvalid_0's auc: 0.749831\n",
      "[150]\tvalid_0's auc: 0.756312\n",
      "[200]\tvalid_0's auc: 0.761844\n",
      "[250]\tvalid_0's auc: 0.766744\n",
      "[300]\tvalid_0's auc: 0.770395\n",
      "[350]\tvalid_0's auc: 0.773771\n",
      "[400]\tvalid_0's auc: 0.776664\n",
      "[450]\tvalid_0's auc: 0.779352\n",
      "[500]\tvalid_0's auc: 0.782014\n",
      "Test AUC: 0.776\n"
     ]
    },
    {
     "name": "stderr",
     "output_type": "stream",
     "text": [
      "Found `n_estimators` in params. Will use it instead of argument\n",
      "categorical_feature in Dataset is overridden.\n",
      "New categorical_feature is ['artist_name', 'genre_ids', 'msno', 'song_id', 'source_screen_name', 'source_system_tab', 'source_type']\n"
     ]
    },
    {
     "name": "stdout",
     "output_type": "stream",
     "text": [
      "[LightGBM] [Warning] Accuracy may be bad since you didn't set num_leaves and 2^max_depth > num_leaves\n",
      "[LightGBM] [Warning] Accuracy may be bad since you didn't set num_leaves and 2^max_depth > num_leaves\n",
      "[LightGBM] [Info] Number of positive: 2971949, number of negative: 2929986\n",
      "[LightGBM] [Warning] Auto-choosing row-wise multi-threading, the overhead of testing was 0.199831 seconds.\n",
      "You can set `force_row_wise=true` to remove the overhead.\n",
      "And if memory is not enough, you can set `force_col_wise=true`.\n",
      "[LightGBM] [Info] Total Bins 33266\n",
      "[LightGBM] [Info] Number of data points in the train set: 5901935, number of used features: 11\n"
     ]
    },
    {
     "name": "stderr",
     "output_type": "stream",
     "text": [
      "Overriding the parameters from Reference Dataset.\n",
      "categorical_column in param dict is overridden.\n"
     ]
    },
    {
     "name": "stdout",
     "output_type": "stream",
     "text": [
      "[LightGBM] [Warning] Accuracy may be bad since you didn't set num_leaves and 2^max_depth > num_leaves\n",
      "[LightGBM] [Info] [binary:BoostFromScore]: pavg=0.503555 -> initscore=0.014220\n",
      "[LightGBM] [Info] Start training from score 0.014220\n",
      "[50]\tvalid_0's auc: 0.736604\n",
      "[100]\tvalid_0's auc: 0.74972\n",
      "[150]\tvalid_0's auc: 0.756102\n",
      "[200]\tvalid_0's auc: 0.761623\n",
      "[250]\tvalid_0's auc: 0.766343\n",
      "[300]\tvalid_0's auc: 0.770139\n",
      "[350]\tvalid_0's auc: 0.773721\n",
      "[400]\tvalid_0's auc: 0.776895\n",
      "[450]\tvalid_0's auc: 0.779754\n",
      "[500]\tvalid_0's auc: 0.782125\n",
      "Test AUC: 0.776\n"
     ]
    }
   ],
   "source": [
    "kf = KFold(n_splits=5, shuffle=True)\n",
    "\n",
    "params['learning_rate'] = 0.05\n",
    "params['n_estimators'] = 500\n",
    "\n",
    "test_aucs = []\n",
    "for train_index, test_index in kf.split(X):\n",
    "    X_train, X_test = X.iloc[train_index], X.iloc[test_index]\n",
    "    y_train, y_test = y.iloc[train_index], y.iloc[test_index]\n",
    "    \n",
    "    dtrain = lgb.Dataset(X_train, y_train)\n",
    "    dtrain_watch = lgb.Dataset(X_train, y_train)\n",
    "    model = lgb.train(params, train_set=dtrain, valid_sets=dtrain_watch, verbose_eval=50,\n",
    "                      categorical_feature=category_cols)\n",
    "    \n",
    "    y_test_pred = model.predict(X_test)\n",
    "    score = roc_auc_score(y_test, y_test_pred)\n",
    "    print('Test AUC: {:.3f}' .format(score))\n",
    "    test_aucs.append(score)"
   ]
  },
  {
   "cell_type": "code",
   "execution_count": 49,
   "metadata": {},
   "outputs": [
    {
     "name": "stdout",
     "output_type": "stream",
     "text": [
      "Average 5-fold test AUC: 0.776\n"
     ]
    }
   ],
   "source": [
    "print('Average 5-fold test AUC: {:.3f}' .format(np.mean(test_aucs)))"
   ]
  },
  {
   "cell_type": "code",
   "execution_count": null,
   "metadata": {},
   "outputs": [],
   "source": []
  }
 ],
 "metadata": {
  "kernelspec": {
   "display_name": "Python 3",
   "language": "python",
   "name": "python3"
  },
  "language_info": {
   "codemirror_mode": {
    "name": "ipython",
    "version": 3
   },
   "file_extension": ".py",
   "mimetype": "text/x-python",
   "name": "python",
   "nbconvert_exporter": "python",
   "pygments_lexer": "ipython3",
   "version": "3.7.3"
  }
 },
 "nbformat": 4,
 "nbformat_minor": 4
}
