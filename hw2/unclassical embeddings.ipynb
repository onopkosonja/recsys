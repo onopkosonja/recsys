{
 "cells": [
  {
   "cell_type": "code",
   "execution_count": 1,
   "metadata": {},
   "outputs": [],
   "source": [
    "from torch.utils.data import DataLoader, TensorDataset\n",
    "from gensim.models import Word2Vec\n",
    "from tqdm.auto import tqdm\n",
    "from torch.optim import Adam\n",
    "from IPython.display import display\n",
    "from sklearn.model_selection import KFold, train_test_split\n",
    "from sklearn.metrics import roc_auc_score\n",
    "import numpy as np\n",
    "import pandas as pd\n",
    "import torch\n",
    "import torch.nn as nn\n",
    "import scipy.sparse as sp\n",
    "import lightgbm as lgb\n",
    "import shap"
   ]
  },
  {
   "cell_type": "code",
   "execution_count": 4,
   "metadata": {},
   "outputs": [],
   "source": [
    "songs = pd.read_csv('kkbox/songs.csv')\n",
    "songs_extra = pd.read_csv('kkbox/song_extra_info.csv')\n",
    "songs = songs.merge(songs_extra, on='song_id', how='left')\n",
    "songs = songs[['song_id', 'artist_name', 'name']]"
   ]
  },
  {
   "cell_type": "markdown",
   "metadata": {},
   "source": [
    "После merge songs и song_extra_info встречаются дубликаты: песни с разными id, но одинаковыми артистами+названиями. Чтобы потом слить эту табличку с data, хотим сохранить все ids, но убрать дубликаты."
   ]
  },
  {
   "cell_type": "code",
   "execution_count": 5,
   "metadata": {},
   "outputs": [],
   "source": [
    "songs = (songs.groupby(['artist_name', 'name']).apply(lambda x: list(x['song_id'])).reset_index(name='song_ids'))\n",
    "\n",
    "song_id2idx = dict()\n",
    "for index, data in songs.iterrows():\n",
    "    song_ids = data['song_ids']\n",
    "    for song_id in song_ids:\n",
    "        song_id2idx[song_id] = index\n",
    "        \n",
    "songs = songs[['artist_name', 'name']]"
   ]
  },
  {
   "cell_type": "code",
   "execution_count": 6,
   "metadata": {},
   "outputs": [],
   "source": [
    "emb_size = 50\n",
    "full_names = list(zip(songs['artist_name'], songs['name']))\n",
    "w2v_model = Word2Vec(size=emb_size)\n",
    "w2v_model.build_vocab(full_names)\n",
    "w2v_model.train(full_names, total_examples=w2v_model.corpus_count, epochs=20)\n",
    "\n",
    "voc = w2v_model.wv\n",
    "trained_words = voc.vocab\n",
    "trained_embs = voc.vectors"
   ]
  },
  {
   "cell_type": "code",
   "execution_count": 7,
   "metadata": {},
   "outputs": [],
   "source": [
    "def get_embs(songs, trained_words, trained_embs, emb_size):\n",
    "    n_songs = len(songs)\n",
    "    song_embs = np.zeros((n_songs, 2 * emb_size))\n",
    "    \n",
    "    for song_id, row in songs.iterrows():\n",
    "        art_name = row['artist_name']\n",
    "        song_name = row['name']\n",
    "\n",
    "        if art_name in trained_words:\n",
    "            art_name_id = trained_words[art_name].index\n",
    "            art_name_emb = trained_embs[art_name_id].reshape(1, -1)     \n",
    "        else:\n",
    "            art_name_emb = np.zeros((1, emb_size))\n",
    "\n",
    "        if song_name in trained_words:\n",
    "            song_name_id = trained_words[song_name].index\n",
    "            song_name_emb = trained_embs[song_name_id].reshape(1, -1)\n",
    "        else:\n",
    "            song_name_emb = np.zeros((1, emb_size))\n",
    "\n",
    "        song_emb = np.hstack((art_name_emb, song_name_emb))\n",
    "        song_embs[song_id] = song_emb \n",
    "    return song_embs"
   ]
  },
  {
   "cell_type": "code",
   "execution_count": 8,
   "metadata": {},
   "outputs": [],
   "source": [
    "full_name_embs = get_embs(songs, trained_words, trained_embs, emb_size)"
   ]
  },
  {
   "cell_type": "markdown",
   "metadata": {},
   "source": [
    "## 1. Similars"
   ]
  },
  {
   "cell_type": "code",
   "execution_count": 9,
   "metadata": {},
   "outputs": [],
   "source": [
    "data = pd.read_csv('kkbox/train.csv')\n",
    "unique_users = np.unique(data['msno'])\n",
    "n_users = len(unique_users)\n",
    "user2idx = dict(zip(unique_users, range(n_users)))\n",
    "idx2user = dict(zip(range(n_users), unique_users))\n",
    "data['msno'] = data['msno'].apply(lambda x: user2idx[x])\n",
    "\n",
    "# counting how many times a song was listened so that we sample similars only for popular ones\n",
    "data['song_id'] = data['song_id'].apply(lambda x: song_id2idx[x] if x in song_id2idx else np.nan)\n",
    "data.dropna(subset=['song_id'], inplace=True)\n",
    "data['song_id'] = data['song_id'].apply(lambda x: int(x))\n",
    "\n",
    "song_count = pd.DataFrame(data['song_id'])\n",
    "song_count['song_count'] = song_count.groupby(['song_id'])['song_id'].transform('count')\n",
    "song_count.drop_duplicates(inplace=True)\n",
    "song_count.set_index(keys='song_id', inplace=True)\n",
    "\n",
    "# building similars only for songs that were listened more than 1500 times and whose name and artist name\n",
    "# are written in english \n",
    "popular_songs = songs.merge(song_count, left_index=True, right_index=True, how='inner')\n",
    "popular_songs = popular_songs[popular_songs['song_count'] > 1500]\n",
    "popular_songs['eng'] = popular_songs['artist_name'].apply(lambda x: int(x.isascii())) * popular_songs['name'].apply(lambda x: int(x.isascii()))\n",
    "popular_songs = popular_songs[popular_songs['eng'] == 1]\n",
    "popular_songs = popular_songs[['artist_name', 'name']]\n",
    "popular_songs = popular_songs[popular_songs['artist_name'] != 'Various Artists']"
   ]
  },
  {
   "cell_type": "code",
   "execution_count": 10,
   "metadata": {},
   "outputs": [],
   "source": [
    "def find_similars(x_emb, embs, k=10):    \n",
    "    dist_fn = nn.CosineSimilarity()\n",
    "    dist = dist_fn(torch.Tensor(x_emb), torch.Tensor(embs))\n",
    "    sorted_idx = np.argsort(dist)\n",
    "    top_k = sorted_idx[-k:-1].squeeze().tolist()[::-1]\n",
    "    return pd.DataFrame(songs.iloc[top_k])"
   ]
  },
  {
   "cell_type": "code",
   "execution_count": 11,
   "metadata": {
    "scrolled": false
   },
   "outputs": [
    {
     "name": "stdout",
     "output_type": "stream",
     "text": [
      "For\n"
     ]
    },
    {
     "data": {
      "text/html": [
       "<div>\n",
       "<style scoped>\n",
       "    .dataframe tbody tr th:only-of-type {\n",
       "        vertical-align: middle;\n",
       "    }\n",
       "\n",
       "    .dataframe tbody tr th {\n",
       "        vertical-align: top;\n",
       "    }\n",
       "\n",
       "    .dataframe thead th {\n",
       "        text-align: right;\n",
       "    }\n",
       "</style>\n",
       "<table border=\"1\" class=\"dataframe\">\n",
       "  <thead>\n",
       "    <tr style=\"text-align: right;\">\n",
       "      <th></th>\n",
       "      <th>artist_name</th>\n",
       "      <th>name</th>\n",
       "    </tr>\n",
       "  </thead>\n",
       "  <tbody>\n",
       "    <tr>\n",
       "      <th>128598</th>\n",
       "      <td>BIGBANG</td>\n",
       "      <td>LAST DANCE</td>\n",
       "    </tr>\n",
       "  </tbody>\n",
       "</table>\n",
       "</div>"
      ],
      "text/plain": [
       "       artist_name        name\n",
       "128598     BIGBANG  LAST DANCE"
      ]
     },
     "metadata": {},
     "output_type": "display_data"
    },
    {
     "name": "stdout",
     "output_type": "stream",
     "text": [
      "Similars are:\n"
     ]
    },
    {
     "data": {
      "text/html": [
       "<div>\n",
       "<style scoped>\n",
       "    .dataframe tbody tr th:only-of-type {\n",
       "        vertical-align: middle;\n",
       "    }\n",
       "\n",
       "    .dataframe tbody tr th {\n",
       "        vertical-align: top;\n",
       "    }\n",
       "\n",
       "    .dataframe thead th {\n",
       "        text-align: right;\n",
       "    }\n",
       "</style>\n",
       "<table border=\"1\" class=\"dataframe\">\n",
       "  <thead>\n",
       "    <tr style=\"text-align: right;\">\n",
       "      <th></th>\n",
       "      <th>artist_name</th>\n",
       "      <th>name</th>\n",
       "    </tr>\n",
       "  </thead>\n",
       "  <tbody>\n",
       "    <tr>\n",
       "      <th>128674</th>\n",
       "      <td>BIGBANG</td>\n",
       "      <td>V.I.P</td>\n",
       "    </tr>\n",
       "    <tr>\n",
       "      <th>128516</th>\n",
       "      <td>BIGBANG</td>\n",
       "      <td>A Good Man</td>\n",
       "    </tr>\n",
       "    <tr>\n",
       "      <th>128597</th>\n",
       "      <td>BIGBANG</td>\n",
       "      <td>LA LA LA</td>\n",
       "    </tr>\n",
       "    <tr>\n",
       "      <th>128568</th>\n",
       "      <td>BIGBANG</td>\n",
       "      <td>GIRLFRIEND</td>\n",
       "    </tr>\n",
       "    <tr>\n",
       "      <th>128614</th>\n",
       "      <td>BIGBANG</td>\n",
       "      <td>Liquid Gold</td>\n",
       "    </tr>\n",
       "    <tr>\n",
       "      <th>128518</th>\n",
       "      <td>BIGBANG</td>\n",
       "      <td>Ain't No Fun</td>\n",
       "    </tr>\n",
       "    <tr>\n",
       "      <th>128681</th>\n",
       "      <td>BIGBANG</td>\n",
       "      <td>We Like 2 Party</td>\n",
       "    </tr>\n",
       "    <tr>\n",
       "      <th>128528</th>\n",
       "      <td>BIGBANG</td>\n",
       "      <td>BLUE</td>\n",
       "    </tr>\n",
       "    <tr>\n",
       "      <th>128694</th>\n",
       "      <td>BIGBANG</td>\n",
       "      <td>一天一天</td>\n",
       "    </tr>\n",
       "  </tbody>\n",
       "</table>\n",
       "</div>"
      ],
      "text/plain": [
       "       artist_name             name\n",
       "128674     BIGBANG            V.I.P\n",
       "128516     BIGBANG       A Good Man\n",
       "128597     BIGBANG         LA LA LA\n",
       "128568     BIGBANG       GIRLFRIEND\n",
       "128614     BIGBANG      Liquid Gold\n",
       "128518     BIGBANG     Ain't No Fun\n",
       "128681     BIGBANG  We Like 2 Party\n",
       "128528     BIGBANG             BLUE\n",
       "128694     BIGBANG             一天一天"
      ]
     },
     "metadata": {},
     "output_type": "display_data"
    },
    {
     "name": "stdout",
     "output_type": "stream",
     "text": [
      "------------------\n",
      "For\n"
     ]
    },
    {
     "data": {
      "text/html": [
       "<div>\n",
       "<style scoped>\n",
       "    .dataframe tbody tr th:only-of-type {\n",
       "        vertical-align: middle;\n",
       "    }\n",
       "\n",
       "    .dataframe tbody tr th {\n",
       "        vertical-align: top;\n",
       "    }\n",
       "\n",
       "    .dataframe thead th {\n",
       "        text-align: right;\n",
       "    }\n",
       "</style>\n",
       "<table border=\"1\" class=\"dataframe\">\n",
       "  <thead>\n",
       "    <tr style=\"text-align: right;\">\n",
       "      <th></th>\n",
       "      <th>artist_name</th>\n",
       "      <th>name</th>\n",
       "    </tr>\n",
       "  </thead>\n",
       "  <tbody>\n",
       "    <tr>\n",
       "      <th>672463</th>\n",
       "      <td>John Mayer</td>\n",
       "      <td>Love on the Weekend</td>\n",
       "    </tr>\n",
       "  </tbody>\n",
       "</table>\n",
       "</div>"
      ],
      "text/plain": [
       "       artist_name                 name\n",
       "672463  John Mayer  Love on the Weekend"
      ]
     },
     "metadata": {},
     "output_type": "display_data"
    },
    {
     "name": "stdout",
     "output_type": "stream",
     "text": [
      "Similars are:\n"
     ]
    },
    {
     "data": {
      "text/html": [
       "<div>\n",
       "<style scoped>\n",
       "    .dataframe tbody tr th:only-of-type {\n",
       "        vertical-align: middle;\n",
       "    }\n",
       "\n",
       "    .dataframe tbody tr th {\n",
       "        vertical-align: top;\n",
       "    }\n",
       "\n",
       "    .dataframe thead th {\n",
       "        text-align: right;\n",
       "    }\n",
       "</style>\n",
       "<table border=\"1\" class=\"dataframe\">\n",
       "  <thead>\n",
       "    <tr style=\"text-align: right;\">\n",
       "      <th></th>\n",
       "      <th>artist_name</th>\n",
       "      <th>name</th>\n",
       "    </tr>\n",
       "  </thead>\n",
       "  <tbody>\n",
       "    <tr>\n",
       "      <th>672460</th>\n",
       "      <td>John Mayer</td>\n",
       "      <td>Love Song For No One</td>\n",
       "    </tr>\n",
       "    <tr>\n",
       "      <th>672494</th>\n",
       "      <td>John Mayer</td>\n",
       "      <td>Split Screen Sadness</td>\n",
       "    </tr>\n",
       "    <tr>\n",
       "      <th>672493</th>\n",
       "      <td>John Mayer</td>\n",
       "      <td>Speak For Me</td>\n",
       "    </tr>\n",
       "    <tr>\n",
       "      <th>672492</th>\n",
       "      <td>John Mayer</td>\n",
       "      <td>Something's Missing</td>\n",
       "    </tr>\n",
       "    <tr>\n",
       "      <th>672491</th>\n",
       "      <td>John Mayer</td>\n",
       "      <td>Something Like Olivia</td>\n",
       "    </tr>\n",
       "    <tr>\n",
       "      <th>672490</th>\n",
       "      <td>John Mayer</td>\n",
       "      <td>Slow Dancing in a Burning Room</td>\n",
       "    </tr>\n",
       "    <tr>\n",
       "      <th>672489</th>\n",
       "      <td>John Mayer</td>\n",
       "      <td>Slow Dancing In A Burning Room</td>\n",
       "    </tr>\n",
       "    <tr>\n",
       "      <th>672488</th>\n",
       "      <td>John Mayer</td>\n",
       "      <td>Shadow Days</td>\n",
       "    </tr>\n",
       "    <tr>\n",
       "      <th>672486</th>\n",
       "      <td>John Mayer</td>\n",
       "      <td>Sannyasin Two</td>\n",
       "    </tr>\n",
       "  </tbody>\n",
       "</table>\n",
       "</div>"
      ],
      "text/plain": [
       "       artist_name                            name\n",
       "672460  John Mayer            Love Song For No One\n",
       "672494  John Mayer            Split Screen Sadness\n",
       "672493  John Mayer                    Speak For Me\n",
       "672492  John Mayer             Something's Missing\n",
       "672491  John Mayer           Something Like Olivia\n",
       "672490  John Mayer  Slow Dancing in a Burning Room\n",
       "672489  John Mayer  Slow Dancing In A Burning Room\n",
       "672488  John Mayer                     Shadow Days\n",
       "672486  John Mayer                   Sannyasin Two"
      ]
     },
     "metadata": {},
     "output_type": "display_data"
    },
    {
     "name": "stdout",
     "output_type": "stream",
     "text": [
      "------------------\n",
      "For\n"
     ]
    },
    {
     "data": {
      "text/html": [
       "<div>\n",
       "<style scoped>\n",
       "    .dataframe tbody tr th:only-of-type {\n",
       "        vertical-align: middle;\n",
       "    }\n",
       "\n",
       "    .dataframe tbody tr th {\n",
       "        vertical-align: top;\n",
       "    }\n",
       "\n",
       "    .dataframe thead th {\n",
       "        text-align: right;\n",
       "    }\n",
       "</style>\n",
       "<table border=\"1\" class=\"dataframe\">\n",
       "  <thead>\n",
       "    <tr style=\"text-align: right;\">\n",
       "      <th></th>\n",
       "      <th>artist_name</th>\n",
       "      <th>name</th>\n",
       "    </tr>\n",
       "  </thead>\n",
       "  <tbody>\n",
       "    <tr>\n",
       "      <th>120675</th>\n",
       "      <td>Austin Mahone</td>\n",
       "      <td>Shake It For Me (feat. 2 Chainz)</td>\n",
       "    </tr>\n",
       "  </tbody>\n",
       "</table>\n",
       "</div>"
      ],
      "text/plain": [
       "          artist_name                              name\n",
       "120675  Austin Mahone  Shake It For Me (feat. 2 Chainz)"
      ]
     },
     "metadata": {},
     "output_type": "display_data"
    },
    {
     "name": "stdout",
     "output_type": "stream",
     "text": [
      "Similars are:\n"
     ]
    },
    {
     "data": {
      "text/html": [
       "<div>\n",
       "<style scoped>\n",
       "    .dataframe tbody tr th:only-of-type {\n",
       "        vertical-align: middle;\n",
       "    }\n",
       "\n",
       "    .dataframe tbody tr th {\n",
       "        vertical-align: top;\n",
       "    }\n",
       "\n",
       "    .dataframe thead th {\n",
       "        text-align: right;\n",
       "    }\n",
       "</style>\n",
       "<table border=\"1\" class=\"dataframe\">\n",
       "  <thead>\n",
       "    <tr style=\"text-align: right;\">\n",
       "      <th></th>\n",
       "      <th>artist_name</th>\n",
       "      <th>name</th>\n",
       "    </tr>\n",
       "  </thead>\n",
       "  <tbody>\n",
       "    <tr>\n",
       "      <th>120677</th>\n",
       "      <td>Austin Mahone</td>\n",
       "      <td>The One I've Waited For</td>\n",
       "    </tr>\n",
       "    <tr>\n",
       "      <th>120675</th>\n",
       "      <td>Austin Mahone</td>\n",
       "      <td>Shake It For Me (feat. 2 Chainz)</td>\n",
       "    </tr>\n",
       "    <tr>\n",
       "      <th>120673</th>\n",
       "      <td>Austin Mahone</td>\n",
       "      <td>Send It (feat. Rich Homie Quan)</td>\n",
       "    </tr>\n",
       "    <tr>\n",
       "      <th>120671</th>\n",
       "      <td>Austin Mahone</td>\n",
       "      <td>Say You're Just a Friend (feat. Flo Rida)</td>\n",
       "    </tr>\n",
       "    <tr>\n",
       "      <th>120657</th>\n",
       "      <td>Austin Mahone</td>\n",
       "      <td>Lady (feat. Pitbull)</td>\n",
       "    </tr>\n",
       "    <tr>\n",
       "      <th>120670</th>\n",
       "      <td>Austin Mahone</td>\n",
       "      <td>Say You're Just A Friend</td>\n",
       "    </tr>\n",
       "    <tr>\n",
       "      <th>120651</th>\n",
       "      <td>Austin Mahone</td>\n",
       "      <td>Do It Right (feat. Rob Villa)</td>\n",
       "    </tr>\n",
       "    <tr>\n",
       "      <th>120653</th>\n",
       "      <td>Austin Mahone</td>\n",
       "      <td>Except For Us</td>\n",
       "    </tr>\n",
       "    <tr>\n",
       "      <th>120654</th>\n",
       "      <td>Austin Mahone</td>\n",
       "      <td>Hate To Let You Go</td>\n",
       "    </tr>\n",
       "  </tbody>\n",
       "</table>\n",
       "</div>"
      ],
      "text/plain": [
       "          artist_name                                       name\n",
       "120677  Austin Mahone                    The One I've Waited For\n",
       "120675  Austin Mahone           Shake It For Me (feat. 2 Chainz)\n",
       "120673  Austin Mahone            Send It (feat. Rich Homie Quan)\n",
       "120671  Austin Mahone  Say You're Just a Friend (feat. Flo Rida)\n",
       "120657  Austin Mahone                       Lady (feat. Pitbull)\n",
       "120670  Austin Mahone                   Say You're Just A Friend\n",
       "120651  Austin Mahone              Do It Right (feat. Rob Villa)\n",
       "120653  Austin Mahone                              Except For Us\n",
       "120654  Austin Mahone                         Hate To Let You Go"
      ]
     },
     "metadata": {},
     "output_type": "display_data"
    },
    {
     "name": "stdout",
     "output_type": "stream",
     "text": [
      "------------------\n",
      "For\n"
     ]
    },
    {
     "data": {
      "text/html": [
       "<div>\n",
       "<style scoped>\n",
       "    .dataframe tbody tr th:only-of-type {\n",
       "        vertical-align: middle;\n",
       "    }\n",
       "\n",
       "    .dataframe tbody tr th {\n",
       "        vertical-align: top;\n",
       "    }\n",
       "\n",
       "    .dataframe thead th {\n",
       "        text-align: right;\n",
       "    }\n",
       "</style>\n",
       "<table border=\"1\" class=\"dataframe\">\n",
       "  <thead>\n",
       "    <tr style=\"text-align: right;\">\n",
       "      <th></th>\n",
       "      <th>artist_name</th>\n",
       "      <th>name</th>\n",
       "    </tr>\n",
       "  </thead>\n",
       "  <tbody>\n",
       "    <tr>\n",
       "      <th>128940</th>\n",
       "      <td>BIRDY</td>\n",
       "      <td>Keeping Your Head Up</td>\n",
       "    </tr>\n",
       "  </tbody>\n",
       "</table>\n",
       "</div>"
      ],
      "text/plain": [
       "       artist_name                  name\n",
       "128940       BIRDY  Keeping Your Head Up"
      ]
     },
     "metadata": {},
     "output_type": "display_data"
    },
    {
     "name": "stdout",
     "output_type": "stream",
     "text": [
      "Similars are:\n"
     ]
    },
    {
     "data": {
      "text/html": [
       "<div>\n",
       "<style scoped>\n",
       "    .dataframe tbody tr th:only-of-type {\n",
       "        vertical-align: middle;\n",
       "    }\n",
       "\n",
       "    .dataframe tbody tr th {\n",
       "        vertical-align: top;\n",
       "    }\n",
       "\n",
       "    .dataframe thead th {\n",
       "        text-align: right;\n",
       "    }\n",
       "</style>\n",
       "<table border=\"1\" class=\"dataframe\">\n",
       "  <thead>\n",
       "    <tr style=\"text-align: right;\">\n",
       "      <th></th>\n",
       "      <th>artist_name</th>\n",
       "      <th>name</th>\n",
       "    </tr>\n",
       "  </thead>\n",
       "  <tbody>\n",
       "    <tr>\n",
       "      <th>128923</th>\n",
       "      <td>BIRDY</td>\n",
       "      <td>Farewell and Goodnight</td>\n",
       "    </tr>\n",
       "    <tr>\n",
       "      <th>128977</th>\n",
       "      <td>BIRDY</td>\n",
       "      <td>Warten</td>\n",
       "    </tr>\n",
       "    <tr>\n",
       "      <th>128978</th>\n",
       "      <td>BIRDY</td>\n",
       "      <td>West Stream</td>\n",
       "    </tr>\n",
       "    <tr>\n",
       "      <th>128982</th>\n",
       "      <td>BIRDY</td>\n",
       "      <td>Wings Acoustic</td>\n",
       "    </tr>\n",
       "    <tr>\n",
       "      <th>128985</th>\n",
       "      <td>BIRDY</td>\n",
       "      <td>Without A Word</td>\n",
       "    </tr>\n",
       "    <tr>\n",
       "      <th>128987</th>\n",
       "      <td>BIRDY</td>\n",
       "      <td>Words As Weapons</td>\n",
       "    </tr>\n",
       "    <tr>\n",
       "      <th>128988</th>\n",
       "      <td>BIRDY</td>\n",
       "      <td>You Used To Shine</td>\n",
       "    </tr>\n",
       "    <tr>\n",
       "      <th>128926</th>\n",
       "      <td>BIRDY</td>\n",
       "      <td>Flowers for You</td>\n",
       "    </tr>\n",
       "    <tr>\n",
       "      <th>128920</th>\n",
       "      <td>BIRDY</td>\n",
       "      <td>Dancing Snowflakes</td>\n",
       "    </tr>\n",
       "  </tbody>\n",
       "</table>\n",
       "</div>"
      ],
      "text/plain": [
       "       artist_name                    name\n",
       "128923       BIRDY  Farewell and Goodnight\n",
       "128977       BIRDY                  Warten\n",
       "128978       BIRDY             West Stream\n",
       "128982       BIRDY          Wings Acoustic\n",
       "128985       BIRDY          Without A Word\n",
       "128987       BIRDY        Words As Weapons\n",
       "128988       BIRDY       You Used To Shine\n",
       "128926       BIRDY         Flowers for You\n",
       "128920       BIRDY      Dancing Snowflakes"
      ]
     },
     "metadata": {},
     "output_type": "display_data"
    },
    {
     "name": "stdout",
     "output_type": "stream",
     "text": [
      "------------------\n",
      "For\n"
     ]
    },
    {
     "data": {
      "text/html": [
       "<div>\n",
       "<style scoped>\n",
       "    .dataframe tbody tr th:only-of-type {\n",
       "        vertical-align: middle;\n",
       "    }\n",
       "\n",
       "    .dataframe tbody tr th {\n",
       "        vertical-align: top;\n",
       "    }\n",
       "\n",
       "    .dataframe thead th {\n",
       "        text-align: right;\n",
       "    }\n",
       "</style>\n",
       "<table border=\"1\" class=\"dataframe\">\n",
       "  <thead>\n",
       "    <tr style=\"text-align: right;\">\n",
       "      <th></th>\n",
       "      <th>artist_name</th>\n",
       "      <th>name</th>\n",
       "    </tr>\n",
       "  </thead>\n",
       "  <tbody>\n",
       "    <tr>\n",
       "      <th>849497</th>\n",
       "      <td>Maroon 5</td>\n",
       "      <td>Maps</td>\n",
       "    </tr>\n",
       "  </tbody>\n",
       "</table>\n",
       "</div>"
      ],
      "text/plain": [
       "       artist_name  name\n",
       "849497    Maroon 5  Maps"
      ]
     },
     "metadata": {},
     "output_type": "display_data"
    },
    {
     "name": "stdout",
     "output_type": "stream",
     "text": [
      "Similars are:\n"
     ]
    },
    {
     "data": {
      "text/html": [
       "<div>\n",
       "<style scoped>\n",
       "    .dataframe tbody tr th:only-of-type {\n",
       "        vertical-align: middle;\n",
       "    }\n",
       "\n",
       "    .dataframe tbody tr th {\n",
       "        vertical-align: top;\n",
       "    }\n",
       "\n",
       "    .dataframe thead th {\n",
       "        text-align: right;\n",
       "    }\n",
       "</style>\n",
       "<table border=\"1\" class=\"dataframe\">\n",
       "  <thead>\n",
       "    <tr style=\"text-align: right;\">\n",
       "      <th></th>\n",
       "      <th>artist_name</th>\n",
       "      <th>name</th>\n",
       "    </tr>\n",
       "  </thead>\n",
       "  <tbody>\n",
       "    <tr>\n",
       "      <th>1132825</th>\n",
       "      <td>Runaground</td>\n",
       "      <td>Maps</td>\n",
       "    </tr>\n",
       "    <tr>\n",
       "      <th>1351663</th>\n",
       "      <td>The Ukulele Boys</td>\n",
       "      <td>Maps</td>\n",
       "    </tr>\n",
       "    <tr>\n",
       "      <th>826084</th>\n",
       "      <td>Madilyn Bailey</td>\n",
       "      <td>Maps</td>\n",
       "    </tr>\n",
       "    <tr>\n",
       "      <th>794760</th>\n",
       "      <td>Look Up to the Billboard</td>\n",
       "      <td>Maps</td>\n",
       "    </tr>\n",
       "    <tr>\n",
       "      <th>993643</th>\n",
       "      <td>Our Last Night</td>\n",
       "      <td>Maps</td>\n",
       "    </tr>\n",
       "    <tr>\n",
       "      <th>157603</th>\n",
       "      <td>Ben Woodward</td>\n",
       "      <td>Maps</td>\n",
       "    </tr>\n",
       "    <tr>\n",
       "      <th>825200</th>\n",
       "      <td>Macy Gray</td>\n",
       "      <td>Maps</td>\n",
       "    </tr>\n",
       "    <tr>\n",
       "      <th>1533247</th>\n",
       "      <td>Vuducru</td>\n",
       "      <td>Maps</td>\n",
       "    </tr>\n",
       "    <tr>\n",
       "      <th>849517</th>\n",
       "      <td>Maroon 5</td>\n",
       "      <td>Payphone</td>\n",
       "    </tr>\n",
       "  </tbody>\n",
       "</table>\n",
       "</div>"
      ],
      "text/plain": [
       "                      artist_name      name\n",
       "1132825                Runaground      Maps\n",
       "1351663          The Ukulele Boys      Maps\n",
       "826084             Madilyn Bailey      Maps\n",
       "794760   Look Up to the Billboard      Maps\n",
       "993643             Our Last Night      Maps\n",
       "157603               Ben Woodward      Maps\n",
       "825200                  Macy Gray      Maps\n",
       "1533247                   Vuducru      Maps\n",
       "849517                   Maroon 5  Payphone"
      ]
     },
     "metadata": {},
     "output_type": "display_data"
    },
    {
     "name": "stdout",
     "output_type": "stream",
     "text": [
      "------------------\n"
     ]
    }
   ],
   "source": [
    "for _ in range(5):\n",
    "    x = popular_songs.sample()\n",
    "    song_id = x.index  \n",
    "    print('For')\n",
    "    display(x[['artist_name', 'name']])\n",
    " \n",
    "    print('Similars are:')\n",
    "    similars = find_similars(full_name_embs[song_id], full_name_embs)\n",
    "    display(similars[['artist_name', 'name']])\n",
    "    print('------------------')"
   ]
  },
  {
   "cell_type": "markdown",
   "metadata": {},
   "source": [
    "## 2. Recommender"
   ]
  },
  {
   "cell_type": "markdown",
   "metadata": {},
   "source": [
    "Чтобы сделать implicit матрицу надо убрать песни, которые никто не слушал вообще или слушал без повтора. "
   ]
  },
  {
   "cell_type": "code",
   "execution_count": 12,
   "metadata": {},
   "outputs": [
    {
     "name": "stderr",
     "output_type": "stream",
     "text": [
      "/Applications/anaconda3/lib/python3.7/site-packages/ipykernel_launcher.py:7: SettingWithCopyWarning: \n",
      "A value is trying to be set on a copy of a slice from a DataFrame.\n",
      "Try using .loc[row_indexer,col_indexer] = value instead\n",
      "\n",
      "See the caveats in the documentation: https://pandas.pydata.org/pandas-docs/stable/user_guide/indexing.html#returning-a-view-versus-a-copy\n",
      "  import sys\n"
     ]
    }
   ],
   "source": [
    "data_imp = data[data['target'] == 1]\n",
    "listened_songs = np.unique(data_imp['song_id'])\n",
    "listened_embs = full_name_embs[listened_songs]\n",
    "n_listened = len(listened_songs)\n",
    "old_idx2idx = dict(zip(listened_songs, range(n_listened)))\n",
    "idx2old_idx = dict(zip(range(n_listened), listened_songs))\n",
    "data_imp['song_id'] = data_imp['song_id'].apply(lambda x: old_idx2idx[x])"
   ]
  },
  {
   "cell_type": "code",
   "execution_count": 23,
   "metadata": {},
   "outputs": [],
   "source": [
    "def to_csr(data, rows, cols):\n",
    "    user_item = sp.coo_matrix((data, (rows, cols)))\n",
    "    user_item_csr = user_item.tocsr()\n",
    "    return user_item_csr\n",
    "\n",
    "def ALS(rating, item, epochs, lambd):\n",
    "    for i in tqdm(range(epochs)):\n",
    "        user = als_step(item, rating, lambd)\n",
    "    return user\n",
    "    \n",
    "def als_step(fixed, rating, lambd):\n",
    "    X = fixed.T @ fixed + lambd * np.eye(fixed.shape[1])\n",
    "    X = np.linalg.inv(X)\n",
    "    X = fixed @ X.T\n",
    "    a = rating @ X\n",
    "    return rating @ X"
   ]
  },
  {
   "cell_type": "code",
   "execution_count": 24,
   "metadata": {
    "scrolled": true
   },
   "outputs": [
    {
     "data": {
      "application/vnd.jupyter.widget-view+json": {
       "model_id": "e9b99fda5ab5406b88dd7d4b02289214",
       "version_major": 2,
       "version_minor": 0
      },
      "text/plain": [
       "HBox(children=(FloatProgress(value=0.0), HTML(value='')))"
      ]
     },
     "metadata": {},
     "output_type": "display_data"
    },
    {
     "name": "stdout",
     "output_type": "stream",
     "text": [
      "\n"
     ]
    }
   ],
   "source": [
    "# implicit data, sparse matrix\n",
    "user_imp = data_imp['msno']\n",
    "song_imp = data_imp['song_id']\n",
    "user_item = to_csr(np.ones_like(user_imp), user_imp, song_imp)\n",
    "\n",
    "# one-step ALS\n",
    "V = listened_embs\n",
    "U = ALS(user_item, V, epochs=100, lambd=0.01)"
   ]
  },
  {
   "cell_type": "code",
   "execution_count": 51,
   "metadata": {},
   "outputs": [],
   "source": [
    "class Recommender(nn.Module):\n",
    "    def __init__(self, user_embs, song_embs, emb_size, hidden_size=64):\n",
    "        super().__init__()\n",
    "        self.Emedding_user = nn.Embedding.from_pretrained(torch.Tensor(user_embs))\n",
    "        self.Embedding_song = nn.Embedding.from_pretrained(torch.Tensor(song_embs))\n",
    "        \n",
    "        self.fc1 = nn.Linear(emb_size * 2, hidden_size)\n",
    "        self.relu = torch.nn.ReLU()\n",
    "        self.fc2 = torch.nn.Linear(hidden_size, 1)\n",
    "        self.Sigmoid = nn.Sigmoid()\n",
    "        \n",
    "    def forward(self, x):\n",
    "        user_id, song_id = x[:, 0], x[:, 1]\n",
    "        user_emb = self.Emedding_user(user_id)\n",
    "        song_emb = self.Embedding_song(song_id)\n",
    "        emb = torch.cat((user_emb, song_emb), dim=1)\n",
    "        \n",
    "        x = self.fc1(emb)\n",
    "        x = self.relu(x)\n",
    "        x = self.fc2(x)\n",
    "        return self.Sigmoid(x)"
   ]
  },
  {
   "cell_type": "code",
   "execution_count": 63,
   "metadata": {},
   "outputs": [
    {
     "data": {
      "application/vnd.jupyter.widget-view+json": {
       "model_id": "e3657a876e774939a0db1680efee4b3f",
       "version_major": 2,
       "version_minor": 0
      },
      "text/plain": [
       "HBox(children=(FloatProgress(value=0.0, max=10.0), HTML(value='')))"
      ]
     },
     "metadata": {},
     "output_type": "display_data"
    },
    {
     "data": {
      "application/vnd.jupyter.widget-view+json": {
       "model_id": "728a34450a814d26a1948540a3a8de96",
       "version_major": 2,
       "version_minor": 0
      },
      "text/plain": [
       "HBox(children=(FloatProgress(value=0.0, max=5763.0), HTML(value='')))"
      ]
     },
     "metadata": {},
     "output_type": "display_data"
    },
    {
     "name": "stdout",
     "output_type": "stream",
     "text": [
      "\n",
      "Epoch 1 / 10. Loss: 0.6717457712244784\n"
     ]
    },
    {
     "data": {
      "application/vnd.jupyter.widget-view+json": {
       "model_id": "a55e94253b5249c38c4e1361c5583421",
       "version_major": 2,
       "version_minor": 0
      },
      "text/plain": [
       "HBox(children=(FloatProgress(value=0.0, max=5763.0), HTML(value='')))"
      ]
     },
     "metadata": {},
     "output_type": "display_data"
    },
    {
     "name": "stdout",
     "output_type": "stream",
     "text": [
      "\n",
      "Epoch 2 / 10. Loss: 0.6643421555090836\n"
     ]
    },
    {
     "data": {
      "application/vnd.jupyter.widget-view+json": {
       "model_id": "a002503f452441dd8878d4b12d03edd4",
       "version_major": 2,
       "version_minor": 0
      },
      "text/plain": [
       "HBox(children=(FloatProgress(value=0.0, max=5763.0), HTML(value='')))"
      ]
     },
     "metadata": {},
     "output_type": "display_data"
    },
    {
     "name": "stdout",
     "output_type": "stream",
     "text": [
      "\n",
      "Epoch 3 / 10. Loss: 0.6605200386183886\n"
     ]
    },
    {
     "data": {
      "application/vnd.jupyter.widget-view+json": {
       "model_id": "ce5cb83ef0274554b45755853b2d5dd6",
       "version_major": 2,
       "version_minor": 0
      },
      "text/plain": [
       "HBox(children=(FloatProgress(value=0.0, max=5763.0), HTML(value='')))"
      ]
     },
     "metadata": {},
     "output_type": "display_data"
    },
    {
     "name": "stdout",
     "output_type": "stream",
     "text": [
      "\n",
      "Epoch 4 / 10. Loss: 0.6577029122094944\n"
     ]
    },
    {
     "data": {
      "application/vnd.jupyter.widget-view+json": {
       "model_id": "2c871099949d412a9f69c634f4daf078",
       "version_major": 2,
       "version_minor": 0
      },
      "text/plain": [
       "HBox(children=(FloatProgress(value=0.0, max=5763.0), HTML(value='')))"
      ]
     },
     "metadata": {},
     "output_type": "display_data"
    },
    {
     "name": "stdout",
     "output_type": "stream",
     "text": [
      "\n",
      "Epoch 5 / 10. Loss: 0.6552971293896038\n"
     ]
    },
    {
     "data": {
      "application/vnd.jupyter.widget-view+json": {
       "model_id": "23ffb83f9f4f477cba1f509992cb3e2e",
       "version_major": 2,
       "version_minor": 0
      },
      "text/plain": [
       "HBox(children=(FloatProgress(value=0.0, max=5763.0), HTML(value='')))"
      ]
     },
     "metadata": {},
     "output_type": "display_data"
    },
    {
     "name": "stdout",
     "output_type": "stream",
     "text": [
      "\n",
      "Epoch 6 / 10. Loss: 0.6533567621934213\n"
     ]
    },
    {
     "data": {
      "application/vnd.jupyter.widget-view+json": {
       "model_id": "58c7f35aee554c2799729ad9123ef5f9",
       "version_major": 2,
       "version_minor": 0
      },
      "text/plain": [
       "HBox(children=(FloatProgress(value=0.0, max=5763.0), HTML(value='')))"
      ]
     },
     "metadata": {},
     "output_type": "display_data"
    },
    {
     "name": "stdout",
     "output_type": "stream",
     "text": [
      "\n",
      "Epoch 7 / 10. Loss: 0.6516866981000634\n"
     ]
    },
    {
     "data": {
      "application/vnd.jupyter.widget-view+json": {
       "model_id": "47382fd4c803440a99d52c23a516ff0e",
       "version_major": 2,
       "version_minor": 0
      },
      "text/plain": [
       "HBox(children=(FloatProgress(value=0.0, max=5763.0), HTML(value='')))"
      ]
     },
     "metadata": {},
     "output_type": "display_data"
    },
    {
     "name": "stdout",
     "output_type": "stream",
     "text": [
      "\n",
      "Epoch 8 / 10. Loss: 0.6502092010379562\n"
     ]
    },
    {
     "data": {
      "application/vnd.jupyter.widget-view+json": {
       "model_id": "dddcd73ba07f46f789aabf76ddaa5c65",
       "version_major": 2,
       "version_minor": 0
      },
      "text/plain": [
       "HBox(children=(FloatProgress(value=0.0, max=5763.0), HTML(value='')))"
      ]
     },
     "metadata": {},
     "output_type": "display_data"
    },
    {
     "name": "stdout",
     "output_type": "stream",
     "text": [
      "\n",
      "Epoch 9 / 10. Loss: 0.648845165125016\n"
     ]
    },
    {
     "data": {
      "application/vnd.jupyter.widget-view+json": {
       "model_id": "2d8763f9614f4ff493d9dda314d99358",
       "version_major": 2,
       "version_minor": 0
      },
      "text/plain": [
       "HBox(children=(FloatProgress(value=0.0, max=5763.0), HTML(value='')))"
      ]
     },
     "metadata": {},
     "output_type": "display_data"
    },
    {
     "name": "stdout",
     "output_type": "stream",
     "text": [
      "\n",
      "Epoch 10 / 10. Loss: 0.6476039804871165\n",
      "\n"
     ]
    },
    {
     "data": {
      "application/vnd.jupyter.widget-view+json": {
       "model_id": "7d007970e9574addafd7c40d0e0b5eb7",
       "version_major": 2,
       "version_minor": 0
      },
      "text/plain": [
       "HBox(children=(FloatProgress(value=0.0, max=1441.0), HTML(value='')))"
      ]
     },
     "metadata": {},
     "output_type": "display_data"
    },
    {
     "name": "stdout",
     "output_type": "stream",
     "text": [
      "\n",
      "Test auc: 0.6881132725081769\n"
     ]
    },
    {
     "data": {
      "application/vnd.jupyter.widget-view+json": {
       "model_id": "9f8db71ccea14adbb41f9ace245f72ba",
       "version_major": 2,
       "version_minor": 0
      },
      "text/plain": [
       "HBox(children=(FloatProgress(value=0.0, max=10.0), HTML(value='')))"
      ]
     },
     "metadata": {},
     "output_type": "display_data"
    },
    {
     "data": {
      "application/vnd.jupyter.widget-view+json": {
       "model_id": "302bf902125148e5bed68382d273f96f",
       "version_major": 2,
       "version_minor": 0
      },
      "text/plain": [
       "HBox(children=(FloatProgress(value=0.0, max=5763.0), HTML(value='')))"
      ]
     },
     "metadata": {},
     "output_type": "display_data"
    },
    {
     "name": "stdout",
     "output_type": "stream",
     "text": [
      "\n",
      "Epoch 1 / 10. Loss: 0.6716833033330859\n"
     ]
    },
    {
     "data": {
      "application/vnd.jupyter.widget-view+json": {
       "model_id": "494c82e16c4049d68a5125f7ccfb125f",
       "version_major": 2,
       "version_minor": 0
      },
      "text/plain": [
       "HBox(children=(FloatProgress(value=0.0, max=5763.0), HTML(value='')))"
      ]
     },
     "metadata": {},
     "output_type": "display_data"
    },
    {
     "name": "stdout",
     "output_type": "stream",
     "text": [
      "\n",
      "Epoch 2 / 10. Loss: 0.6640921955966668\n"
     ]
    },
    {
     "data": {
      "application/vnd.jupyter.widget-view+json": {
       "model_id": "22cd1b81137c4691a4d1c536bf217b3f",
       "version_major": 2,
       "version_minor": 0
      },
      "text/plain": [
       "HBox(children=(FloatProgress(value=0.0, max=5763.0), HTML(value='')))"
      ]
     },
     "metadata": {},
     "output_type": "display_data"
    },
    {
     "name": "stdout",
     "output_type": "stream",
     "text": [
      "\n",
      "Epoch 3 / 10. Loss: 0.6601531794040997\n"
     ]
    },
    {
     "data": {
      "application/vnd.jupyter.widget-view+json": {
       "model_id": "a7782998d8324ca9a96419ea1d3de617",
       "version_major": 2,
       "version_minor": 0
      },
      "text/plain": [
       "HBox(children=(FloatProgress(value=0.0, max=5763.0), HTML(value='')))"
      ]
     },
     "metadata": {},
     "output_type": "display_data"
    },
    {
     "name": "stdout",
     "output_type": "stream",
     "text": [
      "\n",
      "Epoch 4 / 10. Loss: 0.6572527425706584\n"
     ]
    },
    {
     "data": {
      "application/vnd.jupyter.widget-view+json": {
       "model_id": "604d0b44beaa4e3b900d577cbd5a77a6",
       "version_major": 2,
       "version_minor": 0
      },
      "text/plain": [
       "HBox(children=(FloatProgress(value=0.0, max=5763.0), HTML(value='')))"
      ]
     },
     "metadata": {},
     "output_type": "display_data"
    },
    {
     "name": "stdout",
     "output_type": "stream",
     "text": [
      "\n",
      "Epoch 5 / 10. Loss: 0.6549183187976223\n"
     ]
    },
    {
     "data": {
      "application/vnd.jupyter.widget-view+json": {
       "model_id": "d16445ae74c348d482590bd0c11dd38b",
       "version_major": 2,
       "version_minor": 0
      },
      "text/plain": [
       "HBox(children=(FloatProgress(value=0.0, max=5763.0), HTML(value='')))"
      ]
     },
     "metadata": {},
     "output_type": "display_data"
    },
    {
     "name": "stdout",
     "output_type": "stream",
     "text": [
      "\n",
      "Epoch 6 / 10. Loss: 0.6529396016027248\n"
     ]
    },
    {
     "data": {
      "application/vnd.jupyter.widget-view+json": {
       "model_id": "1309e4bf687d451e88539fb9fbfddd96",
       "version_major": 2,
       "version_minor": 0
      },
      "text/plain": [
       "HBox(children=(FloatProgress(value=0.0, max=5763.0), HTML(value='')))"
      ]
     },
     "metadata": {},
     "output_type": "display_data"
    },
    {
     "name": "stdout",
     "output_type": "stream",
     "text": [
      "\n",
      "Epoch 7 / 10. Loss: 0.6512710809314621\n"
     ]
    },
    {
     "data": {
      "application/vnd.jupyter.widget-view+json": {
       "model_id": "e8b38fca380d4c7689ab0acdff5c9e79",
       "version_major": 2,
       "version_minor": 0
      },
      "text/plain": [
       "HBox(children=(FloatProgress(value=0.0, max=5763.0), HTML(value='')))"
      ]
     },
     "metadata": {},
     "output_type": "display_data"
    },
    {
     "name": "stdout",
     "output_type": "stream",
     "text": [
      "\n",
      "Epoch 8 / 10. Loss: 0.6497417666133071\n"
     ]
    },
    {
     "data": {
      "application/vnd.jupyter.widget-view+json": {
       "model_id": "4ef7eb47933649a88f5d01bb2fd93d3c",
       "version_major": 2,
       "version_minor": 0
      },
      "text/plain": [
       "HBox(children=(FloatProgress(value=0.0, max=5763.0), HTML(value='')))"
      ]
     },
     "metadata": {},
     "output_type": "display_data"
    },
    {
     "name": "stdout",
     "output_type": "stream",
     "text": [
      "\n",
      "Epoch 9 / 10. Loss: 0.6483520649589434\n"
     ]
    },
    {
     "data": {
      "application/vnd.jupyter.widget-view+json": {
       "model_id": "a7ac79c106e8495ab0a9d30139496739",
       "version_major": 2,
       "version_minor": 0
      },
      "text/plain": [
       "HBox(children=(FloatProgress(value=0.0, max=5763.0), HTML(value='')))"
      ]
     },
     "metadata": {},
     "output_type": "display_data"
    },
    {
     "name": "stdout",
     "output_type": "stream",
     "text": [
      "\n",
      "Epoch 10 / 10. Loss: 0.6471813904542011\n",
      "\n"
     ]
    },
    {
     "data": {
      "application/vnd.jupyter.widget-view+json": {
       "model_id": "d7c3f91873a04f4989c9a04bb4acb9a4",
       "version_major": 2,
       "version_minor": 0
      },
      "text/plain": [
       "HBox(children=(FloatProgress(value=0.0, max=1441.0), HTML(value='')))"
      ]
     },
     "metadata": {},
     "output_type": "display_data"
    },
    {
     "name": "stdout",
     "output_type": "stream",
     "text": [
      "\n",
      "Test auc: 0.6630938929244014\n"
     ]
    },
    {
     "data": {
      "application/vnd.jupyter.widget-view+json": {
       "model_id": "c81c7a0383344fe7b8d24429e604a88f",
       "version_major": 2,
       "version_minor": 0
      },
      "text/plain": [
       "HBox(children=(FloatProgress(value=0.0, max=10.0), HTML(value='')))"
      ]
     },
     "metadata": {},
     "output_type": "display_data"
    },
    {
     "data": {
      "application/vnd.jupyter.widget-view+json": {
       "model_id": "89b76f1c800c4d4a87a317a1b7f27f0f",
       "version_major": 2,
       "version_minor": 0
      },
      "text/plain": [
       "HBox(children=(FloatProgress(value=0.0, max=5763.0), HTML(value='')))"
      ]
     },
     "metadata": {},
     "output_type": "display_data"
    },
    {
     "name": "stdout",
     "output_type": "stream",
     "text": [
      "\n",
      "Epoch 1 / 10. Loss: 0.6713167597865678\n"
     ]
    },
    {
     "data": {
      "application/vnd.jupyter.widget-view+json": {
       "model_id": "5ec736e71ac642d8858c88f4b61e2597",
       "version_major": 2,
       "version_minor": 0
      },
      "text/plain": [
       "HBox(children=(FloatProgress(value=0.0, max=5763.0), HTML(value='')))"
      ]
     },
     "metadata": {},
     "output_type": "display_data"
    },
    {
     "name": "stdout",
     "output_type": "stream",
     "text": [
      "\n",
      "Epoch 2 / 10. Loss: 0.663457900901108\n"
     ]
    },
    {
     "data": {
      "application/vnd.jupyter.widget-view+json": {
       "model_id": "c3d8d5bb770e4a14bf0152e0496caade",
       "version_major": 2,
       "version_minor": 0
      },
      "text/plain": [
       "HBox(children=(FloatProgress(value=0.0, max=5763.0), HTML(value='')))"
      ]
     },
     "metadata": {},
     "output_type": "display_data"
    },
    {
     "name": "stdout",
     "output_type": "stream",
     "text": [
      "\n",
      "Epoch 3 / 10. Loss: 0.6593225969636107\n"
     ]
    },
    {
     "data": {
      "application/vnd.jupyter.widget-view+json": {
       "model_id": "5447ef3c82a042a8911c7bdf51cb6f8b",
       "version_major": 2,
       "version_minor": 0
      },
      "text/plain": [
       "HBox(children=(FloatProgress(value=0.0, max=5763.0), HTML(value='')))"
      ]
     },
     "metadata": {},
     "output_type": "display_data"
    },
    {
     "name": "stdout",
     "output_type": "stream",
     "text": [
      "\n",
      "Epoch 4 / 10. Loss: 0.6562127601390867\n"
     ]
    },
    {
     "data": {
      "application/vnd.jupyter.widget-view+json": {
       "model_id": "0b8ece89616b487e86276db35fb903b7",
       "version_major": 2,
       "version_minor": 0
      },
      "text/plain": [
       "HBox(children=(FloatProgress(value=0.0, max=5763.0), HTML(value='')))"
      ]
     },
     "metadata": {},
     "output_type": "display_data"
    },
    {
     "name": "stdout",
     "output_type": "stream",
     "text": [
      "\n",
      "Epoch 5 / 10. Loss: 0.6536039063526321\n"
     ]
    },
    {
     "data": {
      "application/vnd.jupyter.widget-view+json": {
       "model_id": "509e6e6dbd5c45c18e253269ab675019",
       "version_major": 2,
       "version_minor": 0
      },
      "text/plain": [
       "HBox(children=(FloatProgress(value=0.0, max=5763.0), HTML(value='')))"
      ]
     },
     "metadata": {},
     "output_type": "display_data"
    },
    {
     "name": "stdout",
     "output_type": "stream",
     "text": [
      "\n",
      "Epoch 6 / 10. Loss: 0.65144918665339\n"
     ]
    },
    {
     "data": {
      "application/vnd.jupyter.widget-view+json": {
       "model_id": "be2e412347cb401291c78a8eb6bb3fae",
       "version_major": 2,
       "version_minor": 0
      },
      "text/plain": [
       "HBox(children=(FloatProgress(value=0.0, max=5763.0), HTML(value='')))"
      ]
     },
     "metadata": {},
     "output_type": "display_data"
    },
    {
     "name": "stdout",
     "output_type": "stream",
     "text": [
      "\n",
      "Epoch 7 / 10. Loss: 0.6496390075127574\n"
     ]
    },
    {
     "data": {
      "application/vnd.jupyter.widget-view+json": {
       "model_id": "9321528fc3a04d9bb5af944585e544fe",
       "version_major": 2,
       "version_minor": 0
      },
      "text/plain": [
       "HBox(children=(FloatProgress(value=0.0, max=5763.0), HTML(value='')))"
      ]
     },
     "metadata": {},
     "output_type": "display_data"
    },
    {
     "name": "stdout",
     "output_type": "stream",
     "text": [
      "\n",
      "Epoch 8 / 10. Loss: 0.6481672279871568\n"
     ]
    },
    {
     "data": {
      "application/vnd.jupyter.widget-view+json": {
       "model_id": "aa619dcc9d74457eb33310bca77e18a1",
       "version_major": 2,
       "version_minor": 0
      },
      "text/plain": [
       "HBox(children=(FloatProgress(value=0.0, max=5763.0), HTML(value='')))"
      ]
     },
     "metadata": {},
     "output_type": "display_data"
    },
    {
     "name": "stdout",
     "output_type": "stream",
     "text": [
      "\n",
      "Epoch 9 / 10. Loss: 0.6468042369189205\n"
     ]
    },
    {
     "data": {
      "application/vnd.jupyter.widget-view+json": {
       "model_id": "311a41037c3542cf8363ca6f2b5309c5",
       "version_major": 2,
       "version_minor": 0
      },
      "text/plain": [
       "HBox(children=(FloatProgress(value=0.0, max=5763.0), HTML(value='')))"
      ]
     },
     "metadata": {},
     "output_type": "display_data"
    },
    {
     "name": "stdout",
     "output_type": "stream",
     "text": [
      "\n",
      "Epoch 10 / 10. Loss: 0.6457141066267738\n",
      "\n"
     ]
    },
    {
     "data": {
      "application/vnd.jupyter.widget-view+json": {
       "model_id": "47311d16b31b4532bf562f966304ed53",
       "version_major": 2,
       "version_minor": 0
      },
      "text/plain": [
       "HBox(children=(FloatProgress(value=0.0, max=1441.0), HTML(value='')))"
      ]
     },
     "metadata": {},
     "output_type": "display_data"
    },
    {
     "name": "stdout",
     "output_type": "stream",
     "text": [
      "\n",
      "Test auc: 0.6719111822883979\n"
     ]
    },
    {
     "data": {
      "application/vnd.jupyter.widget-view+json": {
       "model_id": "01aed0edfc584ba2ab2905a9f0f233d6",
       "version_major": 2,
       "version_minor": 0
      },
      "text/plain": [
       "HBox(children=(FloatProgress(value=0.0, max=10.0), HTML(value='')))"
      ]
     },
     "metadata": {},
     "output_type": "display_data"
    },
    {
     "data": {
      "application/vnd.jupyter.widget-view+json": {
       "model_id": "2ce40d4bab90427b8e1527df0702d047",
       "version_major": 2,
       "version_minor": 0
      },
      "text/plain": [
       "HBox(children=(FloatProgress(value=0.0, max=5763.0), HTML(value='')))"
      ]
     },
     "metadata": {},
     "output_type": "display_data"
    },
    {
     "name": "stdout",
     "output_type": "stream",
     "text": [
      "\n",
      "Epoch 1 / 10. Loss: 0.6718953334890098\n"
     ]
    },
    {
     "data": {
      "application/vnd.jupyter.widget-view+json": {
       "model_id": "d4a848f872154091b1634d5b593c8dd8",
       "version_major": 2,
       "version_minor": 0
      },
      "text/plain": [
       "HBox(children=(FloatProgress(value=0.0, max=5763.0), HTML(value='')))"
      ]
     },
     "metadata": {},
     "output_type": "display_data"
    },
    {
     "name": "stdout",
     "output_type": "stream",
     "text": [
      "\n",
      "Epoch 2 / 10. Loss: 0.6641870178262869\n"
     ]
    },
    {
     "data": {
      "application/vnd.jupyter.widget-view+json": {
       "model_id": "d01db67800bb4d8bbfae4999f32fe112",
       "version_major": 2,
       "version_minor": 0
      },
      "text/plain": [
       "HBox(children=(FloatProgress(value=0.0, max=5763.0), HTML(value='')))"
      ]
     },
     "metadata": {},
     "output_type": "display_data"
    },
    {
     "name": "stdout",
     "output_type": "stream",
     "text": [
      "\n",
      "Epoch 3 / 10. Loss: 0.6603331841488338\n"
     ]
    },
    {
     "data": {
      "application/vnd.jupyter.widget-view+json": {
       "model_id": "bc3d4cdb6b034cdd8e1477d313b0d493",
       "version_major": 2,
       "version_minor": 0
      },
      "text/plain": [
       "HBox(children=(FloatProgress(value=0.0, max=5763.0), HTML(value='')))"
      ]
     },
     "metadata": {},
     "output_type": "display_data"
    },
    {
     "name": "stdout",
     "output_type": "stream",
     "text": [
      "\n",
      "Epoch 4 / 10. Loss: 0.6575480680715576\n"
     ]
    },
    {
     "data": {
      "application/vnd.jupyter.widget-view+json": {
       "model_id": "08ab4ba244ff4cb19185405e29e469a4",
       "version_major": 2,
       "version_minor": 0
      },
      "text/plain": [
       "HBox(children=(FloatProgress(value=0.0, max=5763.0), HTML(value='')))"
      ]
     },
     "metadata": {},
     "output_type": "display_data"
    },
    {
     "name": "stdout",
     "output_type": "stream",
     "text": [
      "\n",
      "Epoch 5 / 10. Loss: 0.655418834544792\n"
     ]
    },
    {
     "data": {
      "application/vnd.jupyter.widget-view+json": {
       "model_id": "e07caf34a2f9457b827b0838d972e82f",
       "version_major": 2,
       "version_minor": 0
      },
      "text/plain": [
       "HBox(children=(FloatProgress(value=0.0, max=5763.0), HTML(value='')))"
      ]
     },
     "metadata": {},
     "output_type": "display_data"
    },
    {
     "name": "stdout",
     "output_type": "stream",
     "text": [
      "\n",
      "Epoch 6 / 10. Loss: 0.6535870366040233\n"
     ]
    },
    {
     "data": {
      "application/vnd.jupyter.widget-view+json": {
       "model_id": "d4d85bd7bf114c17a741ea1462e733b2",
       "version_major": 2,
       "version_minor": 0
      },
      "text/plain": [
       "HBox(children=(FloatProgress(value=0.0, max=5763.0), HTML(value='')))"
      ]
     },
     "metadata": {},
     "output_type": "display_data"
    },
    {
     "name": "stdout",
     "output_type": "stream",
     "text": [
      "\n",
      "Epoch 7 / 10. Loss: 0.651873073653589\n"
     ]
    },
    {
     "data": {
      "application/vnd.jupyter.widget-view+json": {
       "model_id": "ec93bb05ed1745b9b0acfb49769d841f",
       "version_major": 2,
       "version_minor": 0
      },
      "text/plain": [
       "HBox(children=(FloatProgress(value=0.0, max=5763.0), HTML(value='')))"
      ]
     },
     "metadata": {},
     "output_type": "display_data"
    },
    {
     "name": "stdout",
     "output_type": "stream",
     "text": [
      "\n",
      "Epoch 8 / 10. Loss: 0.6503211078328555\n"
     ]
    },
    {
     "data": {
      "application/vnd.jupyter.widget-view+json": {
       "model_id": "be9a09134c0548a3a9b5bf3dd5df3f79",
       "version_major": 2,
       "version_minor": 0
      },
      "text/plain": [
       "HBox(children=(FloatProgress(value=0.0, max=5763.0), HTML(value='')))"
      ]
     },
     "metadata": {},
     "output_type": "display_data"
    },
    {
     "name": "stdout",
     "output_type": "stream",
     "text": [
      "\n",
      "Epoch 9 / 10. Loss: 0.6489632493730181\n"
     ]
    },
    {
     "data": {
      "application/vnd.jupyter.widget-view+json": {
       "model_id": "938adc61de4647e8aa7d66b27d57232e",
       "version_major": 2,
       "version_minor": 0
      },
      "text/plain": [
       "HBox(children=(FloatProgress(value=0.0, max=5763.0), HTML(value='')))"
      ]
     },
     "metadata": {},
     "output_type": "display_data"
    },
    {
     "name": "stdout",
     "output_type": "stream",
     "text": [
      "\n",
      "Epoch 10 / 10. Loss: 0.6476316183221107\n",
      "\n"
     ]
    },
    {
     "data": {
      "application/vnd.jupyter.widget-view+json": {
       "model_id": "ff879b0ef3be4376ab3778a315f2ef22",
       "version_major": 2,
       "version_minor": 0
      },
      "text/plain": [
       "HBox(children=(FloatProgress(value=0.0, max=1441.0), HTML(value='')))"
      ]
     },
     "metadata": {},
     "output_type": "display_data"
    },
    {
     "name": "stdout",
     "output_type": "stream",
     "text": [
      "\n",
      "Test auc: 0.6440281283030265\n"
     ]
    },
    {
     "data": {
      "application/vnd.jupyter.widget-view+json": {
       "model_id": "36d45b0d7ce94f19a0e744301da418cb",
       "version_major": 2,
       "version_minor": 0
      },
      "text/plain": [
       "HBox(children=(FloatProgress(value=0.0, max=10.0), HTML(value='')))"
      ]
     },
     "metadata": {},
     "output_type": "display_data"
    },
    {
     "data": {
      "application/vnd.jupyter.widget-view+json": {
       "model_id": "4adf7cd9697a447791de007ed445cbc9",
       "version_major": 2,
       "version_minor": 0
      },
      "text/plain": [
       "HBox(children=(FloatProgress(value=0.0, max=5763.0), HTML(value='')))"
      ]
     },
     "metadata": {},
     "output_type": "display_data"
    },
    {
     "name": "stdout",
     "output_type": "stream",
     "text": [
      "\n",
      "Epoch 1 / 10. Loss: 0.671656053026538\n"
     ]
    },
    {
     "data": {
      "application/vnd.jupyter.widget-view+json": {
       "model_id": "2e2609560d584ba79c05670bff419519",
       "version_major": 2,
       "version_minor": 0
      },
      "text/plain": [
       "HBox(children=(FloatProgress(value=0.0, max=5763.0), HTML(value='')))"
      ]
     },
     "metadata": {},
     "output_type": "display_data"
    },
    {
     "name": "stdout",
     "output_type": "stream",
     "text": [
      "\n",
      "Epoch 2 / 10. Loss: 0.6637434141618933\n"
     ]
    },
    {
     "data": {
      "application/vnd.jupyter.widget-view+json": {
       "model_id": "16483852fef34b08b7a18305ce318676",
       "version_major": 2,
       "version_minor": 0
      },
      "text/plain": [
       "HBox(children=(FloatProgress(value=0.0, max=5763.0), HTML(value='')))"
      ]
     },
     "metadata": {},
     "output_type": "display_data"
    },
    {
     "name": "stdout",
     "output_type": "stream",
     "text": [
      "\n",
      "Epoch 3 / 10. Loss: 0.6598059221127371\n"
     ]
    },
    {
     "data": {
      "application/vnd.jupyter.widget-view+json": {
       "model_id": "98f38f0e2c894f85b2052d82a44a8d28",
       "version_major": 2,
       "version_minor": 0
      },
      "text/plain": [
       "HBox(children=(FloatProgress(value=0.0, max=5763.0), HTML(value='')))"
      ]
     },
     "metadata": {},
     "output_type": "display_data"
    },
    {
     "name": "stdout",
     "output_type": "stream",
     "text": [
      "\n",
      "Epoch 4 / 10. Loss: 0.6569460951555899\n"
     ]
    },
    {
     "data": {
      "application/vnd.jupyter.widget-view+json": {
       "model_id": "f094087148b94f13b40bba5011ea6ac9",
       "version_major": 2,
       "version_minor": 0
      },
      "text/plain": [
       "HBox(children=(FloatProgress(value=0.0, max=5763.0), HTML(value='')))"
      ]
     },
     "metadata": {},
     "output_type": "display_data"
    },
    {
     "name": "stdout",
     "output_type": "stream",
     "text": [
      "\n",
      "Epoch 5 / 10. Loss: 0.6547376391024261\n"
     ]
    },
    {
     "data": {
      "application/vnd.jupyter.widget-view+json": {
       "model_id": "c49e06e112a64d9c8f1621fe13faa9f9",
       "version_major": 2,
       "version_minor": 0
      },
      "text/plain": [
       "HBox(children=(FloatProgress(value=0.0, max=5763.0), HTML(value='')))"
      ]
     },
     "metadata": {},
     "output_type": "display_data"
    },
    {
     "name": "stdout",
     "output_type": "stream",
     "text": [
      "\n",
      "Epoch 6 / 10. Loss: 0.6527506003420365\n"
     ]
    },
    {
     "data": {
      "application/vnd.jupyter.widget-view+json": {
       "model_id": "4e911984cf9245a2bf1d9e9829f976f0",
       "version_major": 2,
       "version_minor": 0
      },
      "text/plain": [
       "HBox(children=(FloatProgress(value=0.0, max=5763.0), HTML(value='')))"
      ]
     },
     "metadata": {},
     "output_type": "display_data"
    },
    {
     "name": "stdout",
     "output_type": "stream",
     "text": [
      "\n",
      "Epoch 7 / 10. Loss: 0.6510132349098017\n"
     ]
    },
    {
     "data": {
      "application/vnd.jupyter.widget-view+json": {
       "model_id": "69b8013195b14f04b4ceaaa4430d9d7e",
       "version_major": 2,
       "version_minor": 0
      },
      "text/plain": [
       "HBox(children=(FloatProgress(value=0.0, max=5763.0), HTML(value='')))"
      ]
     },
     "metadata": {},
     "output_type": "display_data"
    },
    {
     "name": "stdout",
     "output_type": "stream",
     "text": [
      "\n",
      "Epoch 8 / 10. Loss: 0.6495260683774079\n"
     ]
    },
    {
     "data": {
      "application/vnd.jupyter.widget-view+json": {
       "model_id": "d7668ddd7f1a42dcafa052db67c354c5",
       "version_major": 2,
       "version_minor": 0
      },
      "text/plain": [
       "HBox(children=(FloatProgress(value=0.0, max=5763.0), HTML(value='')))"
      ]
     },
     "metadata": {},
     "output_type": "display_data"
    },
    {
     "name": "stdout",
     "output_type": "stream",
     "text": [
      "\n",
      "Epoch 9 / 10. Loss: 0.6481427862043081\n"
     ]
    },
    {
     "data": {
      "application/vnd.jupyter.widget-view+json": {
       "model_id": "861cda2fdb9b4caea4fc7770c75e6337",
       "version_major": 2,
       "version_minor": 0
      },
      "text/plain": [
       "HBox(children=(FloatProgress(value=0.0, max=5763.0), HTML(value='')))"
      ]
     },
     "metadata": {},
     "output_type": "display_data"
    },
    {
     "name": "stdout",
     "output_type": "stream",
     "text": [
      "\n",
      "Epoch 10 / 10. Loss: 0.6470095415961798\n",
      "\n"
     ]
    },
    {
     "data": {
      "application/vnd.jupyter.widget-view+json": {
       "model_id": "298f4ea7ea03477eaf779cc182f8086c",
       "version_major": 2,
       "version_minor": 0
      },
      "text/plain": [
       "HBox(children=(FloatProgress(value=0.0, max=1441.0), HTML(value='')))"
      ]
     },
     "metadata": {},
     "output_type": "display_data"
    },
    {
     "name": "stdout",
     "output_type": "stream",
     "text": [
      "\n",
      "Test auc: 0.6821334428071388\n"
     ]
    }
   ],
   "source": [
    "X = torch.LongTensor(data[['msno', 'song_id']].to_numpy())\n",
    "y = torch.Tensor(data['target'].to_numpy()).unsqueeze(1)\n",
    "\n",
    "kf = KFold(n_splits=5, shuffle=True)\n",
    "\n",
    "test_aucs = []\n",
    "for train_index, test_index in kf.split(X):\n",
    "    X_train, X_test = X[train_index], X[test_index]\n",
    "    y_train, y_test = y[train_index], y[test_index]\n",
    "    train_dataset = TensorDataset(X_train, y_train)\n",
    "    train_dataloader = DataLoader(train_dataset, batch_size=1024, shuffle=True)\n",
    "    test_dataset = TensorDataset(X_test, y_test)\n",
    "    test_dataloader = DataLoader(test_dataset, batch_size=1024, shuffle=True)\n",
    "\n",
    "    rec = Recommender(U, full_name_embs, 2 * emb_size)\n",
    "    optim = Adam(rec.parameters())\n",
    "    loss_fn = nn.BCELoss()\n",
    "    epochs = 10\n",
    "\n",
    "    for i in tqdm(range(epochs)):\n",
    "        avg_loss = 0\n",
    "        steps = 0\n",
    "        for x, y_true in tqdm(train_dataloader):\n",
    "            y_pred = rec(x)\n",
    "            loss = loss_fn(y_pred, y_true)\n",
    "            optim.zero_grad()\n",
    "            loss.backward()\n",
    "            optim.step()\n",
    "            avg_loss += loss.item()\n",
    "            steps += 1\n",
    "        print(f'Epoch {i + 1} / {epochs}. Loss: {avg_loss/steps}')\n",
    "\n",
    "    for x, y_true in tqdm(test_dataloader):\n",
    "        avg_auc = 0\n",
    "        steps = 0\n",
    "        with torch.no_grad():\n",
    "            y_pred = rec(x)\n",
    "            avg_auc += roc_auc_score(y_true, y_pred)\n",
    "            steps += 1\n",
    "    test_auc = avg_auc/steps\n",
    "    print(f'Test auc: {test_auc}')\n",
    "    test_aucs.append(test_auc)"
   ]
  },
  {
   "cell_type": "code",
   "execution_count": 64,
   "metadata": {},
   "outputs": [
    {
     "name": "stdout",
     "output_type": "stream",
     "text": [
      "Average 5-fold test AUC: 0.670\n"
     ]
    }
   ],
   "source": [
    "print('Average 5-fold test AUC: {:.3f}' .format(np.mean(test_aucs)))"
   ]
  },
  {
   "cell_type": "markdown",
   "metadata": {},
   "source": [
    "## 3. Unclassical embedding + GB"
   ]
  },
  {
   "cell_type": "code",
   "execution_count": 86,
   "metadata": {},
   "outputs": [],
   "source": [
    "# from GBDT.py: only features that were marked as significant via shapley values\n",
    "\n",
    "# 'membership_duration_m' and 'expiration_year' \n",
    "members = pd.read_csv('kkbox/members.csv')\n",
    "members['msno'] = members['msno'].apply(lambda x: user2idx[x] if x in user2idx else np.nan)\n",
    "members.dropna(subset=['msno'], inplace=True)\n",
    "members['msno'] = members['msno'].apply(lambda x: int(x))\n",
    "\n",
    "members['expiration_date'] = pd.to_datetime(members['expiration_date'], format='%Y%m%d')\n",
    "members['registration_init_time'] = pd.to_datetime(members['registration_init_time'], format='%Y%m%d')\n",
    "members['membership_duration_d'] = (members['expiration_date'] - members['registration_init_time']).dt.days \n",
    "members['membership_duration_m'] = members['membership_duration_d'] // 30\n",
    "members = members.loc[~members['membership_duration_m'] < 0]\n",
    "members['expiration_year'] = members['expiration_date'].apply(lambda x: int(str(x)[:4]))\n",
    "data = data.merge(members, on='msno', how='left')\n",
    "\n",
    "\n",
    "# 'song_repeated_rate'\n",
    "data1 = data[['song_id', 'target']]\n",
    "song_played = data1.groupby('song_id', as_index=False).count().rename(columns={'target': 'num_played'})\n",
    "song_repeated = data1.groupby('song_id', as_index=False).sum().rename(columns={'target': 'num_repeated'})\n",
    "song_rate = pd.merge(song_played, song_repeated, on='song_id')\n",
    "song_rate['song_repeated_rate'] = round(song_rate['num_repeated'] / song_rate['num_played'], 1)\n",
    "song_rate.loc[song_rate['num_played'] == 1, 'song_repeated_rate'] = np.nan\n",
    "song_rate.drop(columns=['num_played', 'num_repeated'], inplace=True)\n",
    "data = data.merge(song_rate, on='song_id', how='left')\n",
    "\n",
    "\n",
    "# 'genre_ids' and 'artist_name'\n",
    "songs_ = pd.read_csv('kkbox/songs.csv')\n",
    "songs_['song_id'] = songs_['song_id'].apply(lambda x: song_id2idx[x] if x in song_id2idx else np.nan)\n",
    "songs_.dropna(subset=['song_id'], inplace=True)\n",
    "songs_['song_id'] = songs_['song_id'].apply(lambda x: int(x))\n",
    "\n",
    "def return_first(x):\n",
    "    return str(x).split('|')[0]\n",
    "\n",
    "songs_['artist_name'] = songs_['artist_name'].apply(return_first)\n",
    "songs_['genre_ids'] = songs_['genre_ids'].apply(return_first)\n",
    "data = data.merge(songs_, on='song_id', how='left')\n",
    "\n",
    "\n",
    "# 'artist_repeated_rate'\n",
    "data1 = data[['artist_name', 'target']]\n",
    "artist_played = data1.groupby('artist_name', as_index=False).count().rename(columns={'target': 'num_played'})\n",
    "artist_repeated = data1.groupby('artist_name', as_index=False).sum().rename(columns={'target': 'num_repeated'})\n",
    "artist_rate = pd.merge(artist_played, artist_repeated, on='artist_name', how='left')\n",
    "artist_rate['artist_repeated_rate'] = round(artist_rate['num_repeated'] / artist_rate['num_played'], 1)\n",
    "artist_rate.loc[artist_rate['num_played'] == 1, 'artist_repeated_rate'] = np.nan\n",
    "artist_rate.drop(columns=['num_played', 'num_repeated'], inplace=True)\n",
    "data = data.merge(artist_rate, on='artist_name', how='left')\n",
    "\n",
    "\n",
    "data = data[['song_repeated_rate', 'source_type', 'msno', 'source_system_tab', 'source_screen_name', 'song_id', \n",
    "          'expiration_year', 'genre_ids', 'membership_duration_m', 'artist_repeated_rate', 'artist_name', 'target']]\n",
    "data.drop_duplicates(inplace=True)\n",
    "\n",
    "X = data[['song_repeated_rate', 'source_type', 'msno', 'source_system_tab', 'source_screen_name', 'song_id', \n",
    "          'expiration_year', 'genre_ids', 'membership_duration_m', 'artist_repeated_rate', 'artist_name']]\n",
    "y = data['target']\n",
    "\n",
    "category_cols = ['msno', 'song_id', 'source_system_tab', 'source_screen_name', 'source_type', \n",
    "                 'genre_ids', 'artist_name']\n",
    "for col in category_cols:\n",
    "    X[col] = X[col].astype('category')"
   ]
  },
  {
   "cell_type": "markdown",
   "metadata": {},
   "source": [
    "Добавляем фичу - скор от рекомендера на основе w2v."
   ]
  },
  {
   "cell_type": "code",
   "execution_count": 122,
   "metadata": {},
   "outputs": [],
   "source": [
    "def get_score(user_id, song_id):\n",
    "    with torch.no_grad():\n",
    "        ids = torch.LongTensor([user_id, song_id]).unsqueeze(0)\n",
    "        score = rec(ids)\n",
    "    return score\n",
    "        \n",
    "X['rec_score'] = X.apply(lambda x: get_score(x['msno'], x['song_id']), axis=1)\n",
    "X['rec_score'] = X['rec_score'].apply(lambda x: round(x[0][0].item(), 2))"
   ]
  },
  {
   "cell_type": "code",
   "execution_count": 138,
   "metadata": {},
   "outputs": [
    {
     "name": "stderr",
     "output_type": "stream",
     "text": [
      "/Applications/anaconda3/lib/python3.7/site-packages/lightgbm/basic.py:1555: UserWarning: categorical_feature in Dataset is overridden.\n",
      "New categorical_feature is ['artist_name', 'genre_ids', 'msno', 'song_id', 'source_screen_name', 'source_system_tab', 'source_type']\n",
      "  'New categorical_feature is {}'.format(sorted(list(categorical_feature))))\n"
     ]
    },
    {
     "name": "stdout",
     "output_type": "stream",
     "text": [
      "[LightGBM] [Info] Number of positive: 3428372, number of negative: 3373024\n",
      "[LightGBM] [Warning] Auto-choosing row-wise multi-threading, the overhead of testing was 0.132199 seconds.\n",
      "You can set `force_row_wise=true` to remove the overhead.\n",
      "And if memory is not enough, you can set `force_col_wise=true`.\n",
      "[LightGBM] [Info] Total Bins 33198\n",
      "[LightGBM] [Info] Number of data points in the train set: 6801396, number of used features: 12\n"
     ]
    },
    {
     "name": "stderr",
     "output_type": "stream",
     "text": [
      "/Applications/anaconda3/lib/python3.7/site-packages/lightgbm/basic.py:1286: UserWarning: Overriding the parameters from Reference Dataset.\n",
      "  warnings.warn('Overriding the parameters from Reference Dataset.')\n",
      "/Applications/anaconda3/lib/python3.7/site-packages/lightgbm/basic.py:1098: UserWarning: categorical_column in param dict is overridden.\n",
      "  warnings.warn('{} in param dict is overridden.'.format(cat_alias))\n"
     ]
    },
    {
     "name": "stdout",
     "output_type": "stream",
     "text": [
      "[LightGBM] [Info] [binary:BoostFromScore]: pavg=0.504069 -> initscore=0.016276\n",
      "[LightGBM] [Info] Start training from score 0.016276\n",
      "[20]\tvalid_0's auc: 0.772488\n",
      "[40]\tvalid_0's auc: 0.781837\n",
      "[60]\tvalid_0's auc: 0.785886\n",
      "[80]\tvalid_0's auc: 0.788355\n",
      "[100]\tvalid_0's auc: 0.790916\n",
      "[120]\tvalid_0's auc: 0.793257\n",
      "[140]\tvalid_0's auc: 0.7956\n",
      "[160]\tvalid_0's auc: 0.797901\n",
      "[180]\tvalid_0's auc: 0.799811\n",
      "[200]\tvalid_0's auc: 0.801962\n",
      "Test AUC: 0.793\n"
     ]
    },
    {
     "name": "stderr",
     "output_type": "stream",
     "text": [
      "/Applications/anaconda3/lib/python3.7/site-packages/lightgbm/basic.py:1555: UserWarning: categorical_feature in Dataset is overridden.\n",
      "New categorical_feature is ['artist_name', 'genre_ids', 'msno', 'song_id', 'source_screen_name', 'source_system_tab', 'source_type']\n",
      "  'New categorical_feature is {}'.format(sorted(list(categorical_feature))))\n"
     ]
    },
    {
     "name": "stdout",
     "output_type": "stream",
     "text": [
      "[LightGBM] [Info] Number of positive: 3428201, number of negative: 3373195\n",
      "[LightGBM] [Warning] Auto-choosing row-wise multi-threading, the overhead of testing was 0.180133 seconds.\n",
      "You can set `force_row_wise=true` to remove the overhead.\n",
      "And if memory is not enough, you can set `force_col_wise=true`.\n",
      "[LightGBM] [Info] Total Bins 33104\n",
      "[LightGBM] [Info] Number of data points in the train set: 6801396, number of used features: 12\n"
     ]
    },
    {
     "name": "stderr",
     "output_type": "stream",
     "text": [
      "/Applications/anaconda3/lib/python3.7/site-packages/lightgbm/basic.py:1286: UserWarning: Overriding the parameters from Reference Dataset.\n",
      "  warnings.warn('Overriding the parameters from Reference Dataset.')\n",
      "/Applications/anaconda3/lib/python3.7/site-packages/lightgbm/basic.py:1098: UserWarning: categorical_column in param dict is overridden.\n",
      "  warnings.warn('{} in param dict is overridden.'.format(cat_alias))\n"
     ]
    },
    {
     "name": "stdout",
     "output_type": "stream",
     "text": [
      "[LightGBM] [Info] [binary:BoostFromScore]: pavg=0.504044 -> initscore=0.016175\n",
      "[LightGBM] [Info] Start training from score 0.016175\n",
      "[20]\tvalid_0's auc: 0.772609\n",
      "[40]\tvalid_0's auc: 0.781789\n",
      "[60]\tvalid_0's auc: 0.785681\n",
      "[80]\tvalid_0's auc: 0.788221\n",
      "[100]\tvalid_0's auc: 0.790847\n",
      "[120]\tvalid_0's auc: 0.793351\n",
      "[140]\tvalid_0's auc: 0.795576\n",
      "[160]\tvalid_0's auc: 0.797668\n",
      "[180]\tvalid_0's auc: 0.799812\n",
      "[200]\tvalid_0's auc: 0.801474\n",
      "Test AUC: 0.793\n"
     ]
    },
    {
     "name": "stderr",
     "output_type": "stream",
     "text": [
      "/Applications/anaconda3/lib/python3.7/site-packages/lightgbm/basic.py:1555: UserWarning: categorical_feature in Dataset is overridden.\n",
      "New categorical_feature is ['artist_name', 'genre_ids', 'msno', 'song_id', 'source_screen_name', 'source_system_tab', 'source_type']\n",
      "  'New categorical_feature is {}'.format(sorted(list(categorical_feature))))\n"
     ]
    },
    {
     "name": "stdout",
     "output_type": "stream",
     "text": [
      "[LightGBM] [Info] Number of positive: 3428197, number of negative: 3373199\n",
      "[LightGBM] [Warning] Auto-choosing row-wise multi-threading, the overhead of testing was 0.126120 seconds.\n",
      "You can set `force_row_wise=true` to remove the overhead.\n",
      "And if memory is not enough, you can set `force_col_wise=true`.\n",
      "[LightGBM] [Info] Total Bins 33100\n",
      "[LightGBM] [Info] Number of data points in the train set: 6801396, number of used features: 12\n"
     ]
    },
    {
     "name": "stderr",
     "output_type": "stream",
     "text": [
      "/Applications/anaconda3/lib/python3.7/site-packages/lightgbm/basic.py:1286: UserWarning: Overriding the parameters from Reference Dataset.\n",
      "  warnings.warn('Overriding the parameters from Reference Dataset.')\n",
      "/Applications/anaconda3/lib/python3.7/site-packages/lightgbm/basic.py:1098: UserWarning: categorical_column in param dict is overridden.\n",
      "  warnings.warn('{} in param dict is overridden.'.format(cat_alias))\n"
     ]
    },
    {
     "name": "stdout",
     "output_type": "stream",
     "text": [
      "[LightGBM] [Info] [binary:BoostFromScore]: pavg=0.504043 -> initscore=0.016173\n",
      "[LightGBM] [Info] Start training from score 0.016173\n",
      "[20]\tvalid_0's auc: 0.772617\n",
      "[40]\tvalid_0's auc: 0.78177\n",
      "[60]\tvalid_0's auc: 0.785467\n",
      "[80]\tvalid_0's auc: 0.788244\n",
      "[100]\tvalid_0's auc: 0.790709\n",
      "[120]\tvalid_0's auc: 0.793067\n",
      "[140]\tvalid_0's auc: 0.795547\n",
      "[160]\tvalid_0's auc: 0.797662\n",
      "[LightGBM] [Warning] No further splits with positive gain, best gain: -inf\n",
      "[180]\tvalid_0's auc: 0.799581\n",
      "[200]\tvalid_0's auc: 0.801441\n",
      "Test AUC: 0.792\n"
     ]
    },
    {
     "name": "stderr",
     "output_type": "stream",
     "text": [
      "/Applications/anaconda3/lib/python3.7/site-packages/lightgbm/basic.py:1555: UserWarning: categorical_feature in Dataset is overridden.\n",
      "New categorical_feature is ['artist_name', 'genre_ids', 'msno', 'song_id', 'source_screen_name', 'source_system_tab', 'source_type']\n",
      "  'New categorical_feature is {}'.format(sorted(list(categorical_feature))))\n"
     ]
    },
    {
     "name": "stdout",
     "output_type": "stream",
     "text": [
      "[LightGBM] [Info] Number of positive: 3429718, number of negative: 3371678\n",
      "[LightGBM] [Warning] Auto-choosing row-wise multi-threading, the overhead of testing was 0.122019 seconds.\n",
      "You can set `force_row_wise=true` to remove the overhead.\n",
      "And if memory is not enough, you can set `force_col_wise=true`.\n",
      "[LightGBM] [Info] Total Bins 33306\n",
      "[LightGBM] [Info] Number of data points in the train set: 6801396, number of used features: 12\n"
     ]
    },
    {
     "name": "stderr",
     "output_type": "stream",
     "text": [
      "/Applications/anaconda3/lib/python3.7/site-packages/lightgbm/basic.py:1286: UserWarning: Overriding the parameters from Reference Dataset.\n",
      "  warnings.warn('Overriding the parameters from Reference Dataset.')\n",
      "/Applications/anaconda3/lib/python3.7/site-packages/lightgbm/basic.py:1098: UserWarning: categorical_column in param dict is overridden.\n",
      "  warnings.warn('{} in param dict is overridden.'.format(cat_alias))\n"
     ]
    },
    {
     "name": "stdout",
     "output_type": "stream",
     "text": [
      "[LightGBM] [Info] [binary:BoostFromScore]: pavg=0.504267 -> initscore=0.017067\n",
      "[LightGBM] [Info] Start training from score 0.017067\n",
      "[20]\tvalid_0's auc: 0.77226\n",
      "[40]\tvalid_0's auc: 0.781408\n",
      "[60]\tvalid_0's auc: 0.785396\n",
      "[80]\tvalid_0's auc: 0.78807\n",
      "[100]\tvalid_0's auc: 0.790685\n",
      "[120]\tvalid_0's auc: 0.792931\n",
      "[140]\tvalid_0's auc: 0.795515\n",
      "[160]\tvalid_0's auc: 0.797355\n",
      "[LightGBM] [Warning] No further splits with positive gain, best gain: -inf\n",
      "[180]\tvalid_0's auc: 0.799244\n",
      "[200]\tvalid_0's auc: 0.801242\n",
      "Test AUC: 0.793\n"
     ]
    },
    {
     "name": "stderr",
     "output_type": "stream",
     "text": [
      "/Applications/anaconda3/lib/python3.7/site-packages/lightgbm/basic.py:1555: UserWarning: categorical_feature in Dataset is overridden.\n",
      "New categorical_feature is ['artist_name', 'genre_ids', 'msno', 'song_id', 'source_screen_name', 'source_system_tab', 'source_type']\n",
      "  'New categorical_feature is {}'.format(sorted(list(categorical_feature))))\n"
     ]
    },
    {
     "name": "stdout",
     "output_type": "stream",
     "text": [
      "[LightGBM] [Info] Number of positive: 3428856, number of negative: 3372540\n",
      "[LightGBM] [Warning] Auto-choosing row-wise multi-threading, the overhead of testing was 0.121861 seconds.\n",
      "You can set `force_row_wise=true` to remove the overhead.\n",
      "And if memory is not enough, you can set `force_col_wise=true`.\n",
      "[LightGBM] [Info] Total Bins 33080\n",
      "[LightGBM] [Info] Number of data points in the train set: 6801396, number of used features: 12\n"
     ]
    },
    {
     "name": "stderr",
     "output_type": "stream",
     "text": [
      "/Applications/anaconda3/lib/python3.7/site-packages/lightgbm/basic.py:1286: UserWarning: Overriding the parameters from Reference Dataset.\n",
      "  warnings.warn('Overriding the parameters from Reference Dataset.')\n",
      "/Applications/anaconda3/lib/python3.7/site-packages/lightgbm/basic.py:1098: UserWarning: categorical_column in param dict is overridden.\n",
      "  warnings.warn('{} in param dict is overridden.'.format(cat_alias))\n"
     ]
    },
    {
     "name": "stdout",
     "output_type": "stream",
     "text": [
      "[LightGBM] [Info] [binary:BoostFromScore]: pavg=0.504140 -> initscore=0.016561\n",
      "[LightGBM] [Info] Start training from score 0.016561\n",
      "[20]\tvalid_0's auc: 0.772494\n",
      "[40]\tvalid_0's auc: 0.781877\n",
      "[60]\tvalid_0's auc: 0.785833\n",
      "[80]\tvalid_0's auc: 0.788534\n",
      "[100]\tvalid_0's auc: 0.791317\n",
      "[120]\tvalid_0's auc: 0.793875\n",
      "[140]\tvalid_0's auc: 0.796295\n",
      "[160]\tvalid_0's auc: 0.798309\n",
      "[180]\tvalid_0's auc: 0.800129\n",
      "[200]\tvalid_0's auc: 0.802003\n",
      "Test AUC: 0.793\n"
     ]
    }
   ],
   "source": [
    "kf = KFold(n_splits=5, shuffle=True)\n",
    "\n",
    "params = {'objective': 'binary',\n",
    "        'learning_rate': 0.1,\n",
    "        'min_gain_to_split': 0.3,\n",
    "        'num_leaves': 128,\n",
    "        'max_depth': 10,\n",
    "        'bagging_fraction': 0.95,\n",
    "        'bagging_freq': 1,\n",
    "        'bagging_seed': 1,\n",
    "        'feature_fraction': 0.9,\n",
    "        'feature_fraction_seed': 1,\n",
    "        'metric' : 'auc'}\n",
    "\n",
    "category_cols = ['msno', 'song_id', 'source_system_tab', 'source_screen_name', 'source_type', \n",
    "                 'genre_ids', 'artist_name']\n",
    "\n",
    "test_aucs = []\n",
    "for train_index, test_index in kf.split(X):\n",
    "    X_train, X_test = X.iloc[train_index], X.iloc[test_index]\n",
    "    y_train, y_test = y.iloc[train_index], y.iloc[test_index]\n",
    "    \n",
    "    dtrain = lgb.Dataset(X_train, y_train)\n",
    "    dtrain_watch = lgb.Dataset(X_train, y_train)\n",
    "    model = lgb.train(params, train_set=dtrain, num_boost_round=200, valid_sets=dtrain_watch, verbose_eval=20,\n",
    "                 categorical_feature=category_cols)\n",
    "    \n",
    "    y_test_pred = model.predict(X_test)\n",
    "    score = roc_auc_score(y_test, y_test_pred)\n",
    "    print('Test AUC: {:.3f}' .format(score))\n",
    "    test_aucs.append(score)"
   ]
  },
  {
   "cell_type": "code",
   "execution_count": 139,
   "metadata": {},
   "outputs": [
    {
     "name": "stdout",
     "output_type": "stream",
     "text": [
      "Average 5-fold test AUC: 0.793\n"
     ]
    }
   ],
   "source": [
    "print('Average 5-fold test AUC: {:.3f}' .format(np.mean(test_aucs)))"
   ]
  },
  {
   "cell_type": "markdown",
   "metadata": {},
   "source": [
    "Average 5-fold test AUC GB с теми же гиперпараметрами и фичами кроме скора от рекомендера: 0.775.\n",
    "Рекомендер показывает какую-то точность, отличную от 0.5, поэтому можно сказать, что он более-менее нормально предсказывает таргет. Поэтому добавив скор, мы на самом деле добавили неплохую оценку таргета. Ожидаем, что shapley values покажут, что скор от рекомендера - самый важный фактор."
   ]
  },
  {
   "cell_type": "code",
   "execution_count": 21,
   "metadata": {},
   "outputs": [
    {
     "name": "stderr",
     "output_type": "stream",
     "text": [
      "LightGBM binary classifier with TreeExplainer shap values output has changed to a list of ndarray\n"
     ]
    }
   ],
   "source": [
    "shap_values = shap.TreeExplainer(model).shap_values(X_train)"
   ]
  },
  {
   "cell_type": "code",
   "execution_count": 23,
   "metadata": {},
   "outputs": [
    {
     "data": {
      "image/png": "[encoded data removed]",
      "text/plain": [
       "<Figure size 576x453.6 with 1 Axes>"
      ]
     },
     "metadata": {
      "needs_background": "light"
     },
     "output_type": "display_data"
    }
   ],
   "source": [
    "shap.summary_plot(shap_values, X_train)"
   ]
  }
 ],
 "metadata": {
  "kernelspec": {
   "display_name": "Python 3",
   "language": "python",
   "name": "python3"
  },
  "language_info": {
   "codemirror_mode": {
    "name": "ipython",
    "version": 3
   },
   "file_extension": ".py",
   "mimetype": "text/x-python",
   "name": "python",
   "nbconvert_exporter": "python",
   "pygments_lexer": "ipython3",
   "version": "3.7.3"
  }
 },
 "nbformat": 4,
 "nbformat_minor": 4
}
